{
 "cells": [
  {
   "cell_type": "markdown",
   "id": "4d18e561",
   "metadata": {},
   "source": [
    "### 멜론 차트 TOP100 크롤링\n",
    "```2021.12.11 version```"
   ]
  },
  {
   "cell_type": "markdown",
   "id": "b753912e",
   "metadata": {},
   "source": [
    "#### 크롬드라이버 실행"
   ]
  },
  {
   "cell_type": "code",
   "execution_count": 8,
   "id": "e2de68f7",
   "metadata": {},
   "outputs": [
    {
     "name": "stderr",
     "output_type": "stream",
     "text": [
      "C:\\Users\\skygg\\AppData\\Local\\Temp/ipykernel_5200/2568102389.py:2: DeprecationWarning: executable_path has been deprecated, please pass in a Service object\n",
      "  driver = webdriver.Chrome('c:/Users/data_test/chromedriver.exe')\n"
     ]
    }
   ],
   "source": [
    "from selenium import webdriver\n",
    "driver = webdriver.Chrome('c:/Users/data_test/chromedriver.exe')"
   ]
  },
  {
   "cell_type": "markdown",
   "id": "4d60502e",
   "metadata": {},
   "source": [
    "#### 멜론 인기차트 웹페이지 접속"
   ]
  },
  {
   "cell_type": "code",
   "execution_count": 78,
   "id": "f3b2b96b",
   "metadata": {},
   "outputs": [],
   "source": [
    "url = 'http://www.melon.com/chart/index.htm'\n",
    "driver.get(url)"
   ]
  },
  {
   "cell_type": "markdown",
   "id": "029f95e2",
   "metadata": {},
   "source": [
    "#### HTML 다운로드 및 BeautifulSoup으로 읽기"
   ]
  },
  {
   "cell_type": "code",
   "execution_count": 79,
   "id": "8a74d138",
   "metadata": {},
   "outputs": [],
   "source": [
    "from bs4 import BeautifulSoup\n",
    "html = driver.page_source\n",
    "soup = BeautifulSoup(html, 'html.parser')"
   ]
  },
  {
   "cell_type": "markdown",
   "id": "dd7e4cdf",
   "metadata": {},
   "source": [
    "#### TOP 100 노래 태그 찾기"
   ]
  },
  {
   "cell_type": "code",
   "execution_count": 90,
   "id": "dbe791ad",
   "metadata": {},
   "outputs": [
    {
     "name": "stdout",
     "output_type": "stream",
     "text": [
      "100\n",
      "<tr class=\"lst50\" data-song-no=\"34298499\" id=\"lst50\">\n",
      "<td><div class=\"wrap t_right\"><input class=\"input_check \" name=\"input_check\" title=\"리무진 (Feat. MINO) (Prod. GRAY) 곡 선택\" type=\"checkbox\" value=\"34298499\"/></div></td>\n",
      "<td><div class=\"wrap t_center\"><span class=\"rank \">1</span><span class=\"none\">위</span></div></td>\n",
      "<!-- 차트순위 추가 -->\n",
      "<td><div class=\"wrap\">\n",
      "<span class=\"rank_wrap\" title=\"순위 동일\">\n",
      "<span class=\"bullet_icons rank_static\"><span class=\"none\">순위 동일</span></span>\n",
      "<span class=\"none\">0</span>\n",
      "</span>\n",
      "</div></td>\n",
      "<td><div class=\"wrap\">\n",
      "<a class=\"image_typeAll\" href=\"javascript:melon.link.goAlbumDetail('10784974');\" title=\"쇼미더머니 10 Episode 3\">\n",
      "<img alt=\"쇼미더머니 10 Episode 3 - 페이지 이동\" height=\"60\" onerror=\"WEBPOCIMG.defaultAlbumImg(this);\" src=\"https://cdnimg.melon.co.kr/cm2/album/images/107/84/974/10784974_20211119152051_500.jpg/melon/resize/120/quality/80/optimize\" width=\"60\"/>\n",
      "<span class=\"bg_album_frame\"></span>\n",
      "</a>\n",
      "</div></td>\n",
      "<td><div class=\"wrap\">\n",
      "<a class=\"btn button_icons type03 song_info\" href=\"javascript:melon.link.goSongDetail('34298499');\" title=\"리무진 (Feat. MINO) (Prod. GRAY) 곡정보\"><span class=\"none\">곡정보</span></a>\n",
      "</div></td>\n",
      "<td><div class=\"wrap\">\n",
      "<div class=\"wrap_song_info\">\n",
      "<div class=\"ellipsis rank01\"><span>\n",
      "<a href=\"javascript:melon.play.playSong('1000002721',34298499);\" title=\"리무진 (Feat. MINO) (Prod. GRAY) 재생\">리무진 (Feat. MINO) (Prod. GRAY)</a>\n",
      "</span></div><br/>\n",
      "<div class=\"ellipsis rank02\">\n",
      "<a href=\"javascript:melon.link.goArtistDetail('2758756');\" title=\"BE'O (비오) - 페이지 이동\">BE'O (비오)</a><span class=\"checkEllipsis\" style=\"display: none;\"><a href=\"javascript:melon.link.goArtistDetail('2758756');\" title=\"BE'O (비오) - 페이지 이동\">BE'O (비오)</a></span>\n",
      "</div>\n",
      "</div>\n",
      "</div></td>\n",
      "<td><div class=\"wrap\">\n",
      "<div class=\"wrap_song_info\">\n",
      "<div class=\"ellipsis rank03\">\n",
      "<a href=\"javascript:melon.link.goAlbumDetail('10784974');\" title=\"쇼미더머니 10 Episode 3 - 페이지 이동\">쇼미더머니 10 Episode 3</a>\n",
      "</div>\n",
      "</div>\n",
      "</div></td>\n",
      "<td><div class=\"wrap\">\n",
      "<button class=\"button_etc like\" data-song-menuid=\"1000002721\" data-song-no=\"34298499\" title=\"리무진 (Feat. MINO) (Prod. GRAY) 좋아요\" type=\"button\"><span class=\"odd_span\">좋아요</span>\n",
      "<span class=\"cnt\">\n",
      "<span class=\"none\">총건수</span>\n",
      "126,844</span></button>\n",
      "</div></td>\n",
      "<td><div class=\"wrap t_center\">\n",
      "<button class=\"button_icons play \" onclick=\"melon.play.playSong('1000002721',34298499);\" title=\"듣기\" type=\"button\"><span class=\"none\">듣기</span></button>\n",
      "</div></td>\n",
      "<td><div class=\"wrap t_center\">\n",
      "<button class=\"button_icons scrap \" onclick=\"melon.play.addPlayList('34298499');\" title=\"담기\" type=\"button\"><span class=\"none\">담기</span></button>\n",
      "</div></td>\n",
      "<td><div class=\"wrap t_center\">\n",
      "<button class=\"button_icons download \" onclick=\"melon.buy.goBuyProduct('frm', '34298499', '3C0001', '','0', '1000002721');\" title=\"다운로드\" type=\"button\"><span class=\"none\">다운로드</span></button>\n",
      "</div></td>\n",
      "<td><div class=\"wrap t_center\">\n",
      "<button class=\"button_icons video disabled\" disabled=\"disabled\" onclick=\"melon.link.goMvDetail('1000002721', '34298499','song');\" title=\"뮤직비디오\" type=\"button\"><span class=\"none\">뮤직비디오</span></button>\n",
      "</div></td>\n",
      "</tr>\n"
     ]
    }
   ],
   "source": [
    "songs = soup.select('tbody > tr')\n",
    "print(len(songs)) # 100개의 곡 수와 일치하는지 확인\n",
    "print(songs[0])"
   ]
  },
  {
   "cell_type": "markdown",
   "id": "f6adbd36",
   "metadata": {},
   "source": [
    "#### 한 개의 곡 정보 지정하기"
   ]
  },
  {
   "cell_type": "code",
   "execution_count": 91,
   "id": "c688a079",
   "metadata": {},
   "outputs": [],
   "source": [
    "song = songs[0]\n",
    "# print(song)"
   ]
  },
  {
   "cell_type": "markdown",
   "id": "54ddb76f",
   "metadata": {},
   "source": [
    "#### 곡 제목 찾고 텍스트만 가져오기"
   ]
  },
  {
   "cell_type": "code",
   "execution_count": 92,
   "id": "e3ee6d63",
   "metadata": {},
   "outputs": [
    {
     "data": {
      "text/plain": [
       "6"
      ]
     },
     "execution_count": 92,
     "metadata": {},
     "output_type": "execute_result"
    }
   ],
   "source": [
    "title = song.select('a')\n",
    "len(title)"
   ]
  },
  {
   "cell_type": "code",
   "execution_count": 93,
   "id": "6842212a",
   "metadata": {},
   "outputs": [
    {
     "data": {
      "text/plain": [
       "2"
      ]
     },
     "execution_count": 93,
     "metadata": {},
     "output_type": "execute_result"
    }
   ],
   "source": [
    "title = song.select('span > a')\n",
    "len(title)"
   ]
  },
  {
   "cell_type": "code",
   "execution_count": 94,
   "id": "bf1c37aa",
   "metadata": {},
   "outputs": [
    {
     "data": {
      "text/plain": [
       "1"
      ]
     },
     "execution_count": 94,
     "metadata": {},
     "output_type": "execute_result"
    }
   ],
   "source": [
    "title = song.select('div.ellipsis.rank01 > span > a ')\n",
    "len(title)"
   ]
  },
  {
   "cell_type": "code",
   "execution_count": 95,
   "id": "3d5e2eef",
   "metadata": {},
   "outputs": [
    {
     "data": {
      "text/plain": [
       "'리무진 (Feat. MINO) (Prod. GRAY)'"
      ]
     },
     "execution_count": 95,
     "metadata": {},
     "output_type": "execute_result"
    }
   ],
   "source": [
    "title = song.select('div.ellipsis.rank01 > span > a ')[0].text\n",
    "title"
   ]
  },
  {
   "cell_type": "markdown",
   "id": "39ca31b2",
   "metadata": {},
   "source": [
    "#### 가수 찾고 텍스트만 가져오기"
   ]
  },
  {
   "cell_type": "code",
   "execution_count": 96,
   "id": "e9a6783e",
   "metadata": {},
   "outputs": [
    {
     "data": {
      "text/plain": [
       "1"
      ]
     },
     "execution_count": 96,
     "metadata": {},
     "output_type": "execute_result"
    }
   ],
   "source": [
    "singer = song.select('div.ellipsis.rank02 > a')\n",
    "len(singer)"
   ]
  },
  {
   "cell_type": "code",
   "execution_count": 97,
   "id": "9086022f",
   "metadata": {},
   "outputs": [
    {
     "data": {
      "text/plain": [
       "\"BE'O (비오)\""
      ]
     },
     "execution_count": 97,
     "metadata": {},
     "output_type": "execute_result"
    }
   ],
   "source": [
    "singer = song.select('div.ellipsis.rank02 > a')[0].text\n",
    "singer"
   ]
  },
  {
   "cell_type": "markdown",
   "id": "6970062b",
   "metadata": {},
   "source": [
    "#### 멜론 100위 노래순위 정보 가져오기"
   ]
  },
  {
   "cell_type": "code",
   "execution_count": 98,
   "id": "3d4f0687",
   "metadata": {},
   "outputs": [
    {
     "name": "stdout",
     "output_type": "stream",
     "text": [
      "리무진 (Feat. MINO) (Prod. GRAY) | BE'O (비오)\n",
      "회전목마 (Feat. Zion.T, 원슈타인) (Prod. Slom) | sokodomo\n",
      "사랑은 늘 도망가 | 임영웅\n",
      "만남은 쉽고 이별은 어려워 (Feat. Leellamarz) (Prod. TOIL) | 베이식 (Basick)\n",
      "불협화음 (Feat. AKMU) (Prod. GRAY) | Mudd the student\n",
      "ELEVEN | IVE (아이브)\n",
      "쉬어 (Feat. MINO) (Prod. GRAY) | 아넌딜라이트(Anandelight)\n",
      "네가 없는 밤 (Feat. ASH ISLAND) (Prod. GRAY) | BE'O (비오)\n",
      "strawberry moon | 아이유\n",
      "이제 나만 믿어요 | 임영웅\n",
      "Wake Up (Prod. 코드 쿤스트) | 개코\n",
      "다정히 내 이름을 부르면 | 경서예지\n",
      "Savage | aespa\n",
      "MBTI (Feat. 쿠기 & 로꼬) (Prod. GRAY) | BE'O (비오)\n",
      "그대라는 사치 | 임영웅\n",
      "별빛 같은 나의 사랑아 | 임영웅\n",
      "다시 사랑한다면 (김필 Ver.) | 임영웅\n",
      "신호등 | 이무진\n",
      "잊었니 | 임영웅\n",
      "STAY | The Kid LAROI\n",
      "HERO | 임영웅\n",
      "끝사랑 | 임영웅\n",
      "Bk Love | 임영웅\n",
      "매일 크리스마스 (Everyday Christmas) | 다비치\n",
      "너를 생각해 | 주시크 (Joosiq)\n",
      "All I Want for Christmas Is You | Mariah Carey\n",
      "Next Level | aespa\n",
      "눈이 오잖아(Feat.헤이즈) | 이무진\n",
      "Santa Tell Me | Ariana Grande\n",
      "OHAYO MY NIGHT | 디핵 (D-Hack)\n",
      "문득 | BE'O (비오)\n",
      "My Universe | Coldplay\n",
      "호우주의 (Feat. 개코, 넉살 (Nucksal)) (Prod. 코드 쿤스트) | 조광일\n",
      "Butter | 방탄소년단\n",
      "Permission to Dance | 방탄소년단\n",
      "계단말고 엘리베이터 | 임영웅\n",
      "낙하 (with 아이유) | AKMU (악뮤)\n",
      "깐부 (Feat. 염따, ASH ISLAND) (Prod. TOIL) | 쿤타\n",
      "Dynamite | 방탄소년단\n",
      "바라만 본다 | MSG워너비(M.O.M)\n",
      "Peaches (Feat. Daniel Caesar & Giveon) | Justin Bieber\n",
      "헤픈 우연 | 헤이즈 (Heize)\n",
      "Weekend | 태연 (TAEYEON)\n",
      "탕!♡ | MINO (송민호)\n",
      "너와 나의 Memories | 염따\n",
      "Bad Habits | Ed Sheeran\n",
      "밤하늘의 별을(2020) | 경서\n",
      "Celebrity | 아이유\n",
      "고백 | 멜로망스\n",
      "라일락 | 아이유\n",
      "찰나가 영원이 될 때 (The Eternal Moment) | 마크툽 (MAKTUB)\n",
      "Snowman | Sia\n",
      "미리 메리 크리스마스 (Feat. 천둥 Of MBLAQ) | 아이유\n",
      "사이렌 Remix (Feat. UNEDUCATED KID, Paul Blanco) | 호미들\n",
      "SCIENTIST | TWICE (트와이스)\n",
      "어떻게 이별까지 사랑하겠어, 널 사랑하는 거지 | AKMU (악뮤)\n",
      "시간을 거슬러 (낮에 뜨는 달 X 케이윌) | 케이윌\n",
      "08베이식 (Feat. 염따, punchnello) | 베이식 (Basick)\n",
      "UP해 (Feat. 박재범, 우원재) (Prod. 코드 쿤스트) | SINCE\n",
      "그게 더 편할 것 같아 (N번째 연애 X 멜로망스) | 멜로망스\n",
      "밤새 서로 미루다 | 존박\n",
      "작은 것들을 위한 시 (Boy With Luv) (Feat. Halsey) | 방탄소년단\n",
      "봄날 | 방탄소년단\n",
      "롤린 (Rollin') | 브레이브걸스\n",
      "밝게 빛나는 별이 되어 비춰줄게 | 송이한\n",
      "추억은 만남보다 이별에 남아 | 정동하\n",
      "Reset (Feat. 개코, Kid Milli) (Prod. 코드 쿤스트) | SINCE\n",
      "내 손을 잡아 | 아이유\n",
      "TROUBLE (Prod. Slom) | Don Mills\n",
      "Last Christmas | Ariana Grande\n",
      "Universe (Let's Play Ball) | NCT U\n",
      "Savage Love (Laxed - Siren Beat) (BTS Remix) | Jawsh 685\n",
      "모든 날, 모든 순간 (Every day, Every Moment) | 폴킴\n",
      "크리스마스니까 | 성시경\n",
      "좋아좋아 | 조정석\n",
      "가리온 (Feat. 다이나믹 듀오) (Prod. Primary) | 조광일\n",
      "비가 오는 날엔 (2021) | 헤이즈 (Heize)\n",
      "DUMB DUMB | 전소미\n",
      "다음생이 있다면 당신을 만나서 다시 사랑할래요 | 임재현\n",
      "Dun Dun Dance | 오마이걸 (OH MY GIRL)\n",
      "나 그댈위해 시 한편을 쓰겠어 | 케이시 (Kassy)\n",
      "Life Goes On | 방탄소년단\n",
      "Blueming | 아이유\n",
      "비와 당신 | 이무진\n",
      "Queendom | Red Velvet (레드벨벳)\n",
      "오늘도 빛나는 너에게 (To You My Light) (Feat.이라온) | 마크툽 (MAKTUB)\n",
      "멜로디 | ASH ISLAND\n",
      "SIGN (Feat. 미란이) (Prod. 코드 쿤스트) | SINCE\n",
      "그날에 나는 맘이 편했을까 | 이예준\n",
      "취기를 빌려 (취향저격 그녀 X 산들) | 산들\n",
      "ASAP | STAYC(스테이씨)\n",
      "Off My Face | Justin Bieber\n",
      "Rock with you | 세븐틴\n",
      "바래 (Feat. 정인) (Prod. TOIL) | 쿤타\n",
      "지나고 보면 (Feat. 화사 & MINO) (Prod. GRAY) | BE'O (비오)\n",
      "에잇(Prod.&Feat. SUGA of BTS) | 아이유\n",
      "Lovesick Girls | BLACKPINK\n",
      "가을 우체국 앞에서 | 김대명\n",
      "하루만 더 | 빅마마\n",
      "가시 (Prod. 코드 쿤스트) | 조광일\n"
     ]
    }
   ],
   "source": [
    "for song in songs:                                        \n",
    "    title = song.select('div.ellipsis.rank01 > span > a')[0].text\n",
    "    singer = song.select ('div.ellipsis.rank02 > a')[0].text  \n",
    "    print(title, singer, sep = ' | ')"
   ]
  },
  {
   "cell_type": "markdown",
   "id": "e7e1fe6b",
   "metadata": {},
   "source": [
    "#### 크롤링 결과를 엑셀로 저장하기"
   ]
  },
  {
   "cell_type": "markdown",
   "id": "2926fc1c",
   "metadata": {},
   "source": [
    "반복문을 이용해 곡과 가수명을 song_data에 저장하기 "
   ]
  },
  {
   "cell_type": "code",
   "execution_count": 103,
   "id": "d019b403",
   "metadata": {},
   "outputs": [],
   "source": [
    "# 2-8에 코드추가\n",
    "\n",
    "song_data = []\n",
    "rank = 1\n",
    "\n",
    "songs = soup.select('table > tbody > tr')\n",
    "for song in songs:                                        \n",
    "    title = song.select('div.rank01 > span > a')[0].text\n",
    "    singer = song.select('div.rank02 > a')[0].text\n",
    "    song_data.append(['Melon', rank, title, singer])\n",
    "    rank = rank + 1"
   ]
  },
  {
   "cell_type": "markdown",
   "id": "a3fb1c26",
   "metadata": {},
   "source": [
    "데이터 프레임 만들기"
   ]
  },
  {
   "cell_type": "code",
   "execution_count": 104,
   "id": "53dacbf8",
   "metadata": {},
   "outputs": [
    {
     "data": {
      "text/html": [
       "<div>\n",
       "<style scoped>\n",
       "    .dataframe tbody tr th:only-of-type {\n",
       "        vertical-align: middle;\n",
       "    }\n",
       "\n",
       "    .dataframe tbody tr th {\n",
       "        vertical-align: top;\n",
       "    }\n",
       "\n",
       "    .dataframe thead th {\n",
       "        text-align: right;\n",
       "    }\n",
       "</style>\n",
       "<table border=\"1\" class=\"dataframe\">\n",
       "  <thead>\n",
       "    <tr style=\"text-align: right;\">\n",
       "      <th></th>\n",
       "      <th>서비스</th>\n",
       "      <th>순위</th>\n",
       "      <th>타이틀</th>\n",
       "      <th>가수</th>\n",
       "    </tr>\n",
       "  </thead>\n",
       "  <tbody>\n",
       "    <tr>\n",
       "      <th>0</th>\n",
       "      <td>Melon</td>\n",
       "      <td>1</td>\n",
       "      <td>리무진 (Feat. MINO) (Prod. GRAY)</td>\n",
       "      <td>BE'O (비오)</td>\n",
       "    </tr>\n",
       "    <tr>\n",
       "      <th>1</th>\n",
       "      <td>Melon</td>\n",
       "      <td>2</td>\n",
       "      <td>회전목마 (Feat. Zion.T, 원슈타인) (Prod. Slom)</td>\n",
       "      <td>sokodomo</td>\n",
       "    </tr>\n",
       "    <tr>\n",
       "      <th>2</th>\n",
       "      <td>Melon</td>\n",
       "      <td>3</td>\n",
       "      <td>사랑은 늘 도망가</td>\n",
       "      <td>임영웅</td>\n",
       "    </tr>\n",
       "    <tr>\n",
       "      <th>3</th>\n",
       "      <td>Melon</td>\n",
       "      <td>4</td>\n",
       "      <td>만남은 쉽고 이별은 어려워 (Feat. Leellamarz) (Prod. TOIL)</td>\n",
       "      <td>베이식 (Basick)</td>\n",
       "    </tr>\n",
       "    <tr>\n",
       "      <th>4</th>\n",
       "      <td>Melon</td>\n",
       "      <td>5</td>\n",
       "      <td>불협화음 (Feat. AKMU) (Prod. GRAY)</td>\n",
       "      <td>Mudd the student</td>\n",
       "    </tr>\n",
       "  </tbody>\n",
       "</table>\n",
       "</div>"
      ],
      "text/plain": [
       "     서비스  순위                                             타이틀                가수\n",
       "0  Melon   1                   리무진 (Feat. MINO) (Prod. GRAY)         BE'O (비오)\n",
       "1  Melon   2          회전목마 (Feat. Zion.T, 원슈타인) (Prod. Slom)          sokodomo\n",
       "2  Melon   3                                       사랑은 늘 도망가               임영웅\n",
       "3  Melon   4  만남은 쉽고 이별은 어려워 (Feat. Leellamarz) (Prod. TOIL)      베이식 (Basick)\n",
       "4  Melon   5                  불협화음 (Feat. AKMU) (Prod. GRAY)  Mudd the student"
      ]
     },
     "execution_count": 104,
     "metadata": {},
     "output_type": "execute_result"
    }
   ],
   "source": [
    "import pandas as pd\n",
    "columns = ['서비스', '순위', '타이틀', '가수']\n",
    "pd_data = pd.DataFrame(song_data, columns = columns)\n",
    "pd_data.head()"
   ]
  },
  {
   "cell_type": "markdown",
   "id": "1bfa56fe",
   "metadata": {},
   "source": [
    "크롤링 결과를 엑셀 파일로 저장하기"
   ]
  },
  {
   "cell_type": "code",
   "execution_count": 106,
   "id": "1babbb6f",
   "metadata": {},
   "outputs": [],
   "source": [
    "pd_data.to_excel('melon.xlsx', index=False)"
   ]
  },
  {
   "cell_type": "markdown",
   "id": "49495c7b",
   "metadata": {},
   "source": [
    "**※ Selenium + BeautifulSoup을 사용한 크롤링**"
   ]
  },
  {
   "cell_type": "code",
   "execution_count": 12,
   "id": "957ba63f",
   "metadata": {},
   "outputs": [
    {
     "name": "stderr",
     "output_type": "stream",
     "text": [
      "C:\\Users\\skygg\\AppData\\Local\\Temp/ipykernel_4060/2449410662.py:5: DeprecationWarning: executable_path has been deprecated, please pass in a Service object\n",
      "  driver = webdriver.Chrome('c:/playwithdata/chromedriver.exe')\n"
     ]
    }
   ],
   "source": [
    "from selenium import webdriver\n",
    "from bs4 import BeautifulSoup\n",
    "import pandas as pd\n",
    "\n",
    "driver = webdriver.Chrome('c:/playwithdata/chromedriver.exe')     \n",
    "url = 'http://www.melon.com/chart/index.htm'\n",
    "driver.get(url)          \n",
    "html = driver.page_source\n",
    "soup = BeautifulSoup(html, 'html.parser')\n",
    "                               \n",
    "song_data = []\n",
    "rank = 1\n",
    "\n",
    "songs = soup.select('table > tbody > tr')\n",
    "for song in songs:                                        \n",
    "    title = song.select('div.rank01 > span > a')[0].text\n",
    "    singer = song.select('div.rank02 > a')[0].text\n",
    "    song_data.append(['Melon', rank, title, singer])\n",
    "    rank = rank + 1\n",
    "\n",
    "columns = ['서비스', '순위', '타이틀', '가수']\n",
    "pd_data = pd.DataFrame(song_data, columns = columns) \n",
    "pd_data.to_excel('melon.xlsx', index=False)"
   ]
  },
  {
   "cell_type": "markdown",
   "id": "8912eb37",
   "metadata": {},
   "source": [
    "**※ Selenium만 사용한 크롤링**"
   ]
  },
  {
   "cell_type": "code",
   "execution_count": 10,
   "id": "55bc5a0f",
   "metadata": {},
   "outputs": [
    {
     "name": "stderr",
     "output_type": "stream",
     "text": [
      "C:\\Users\\skygg\\AppData\\Local\\Temp/ipykernel_4060/2470582081.py:3: DeprecationWarning: executable_path has been deprecated, please pass in a Service object\n",
      "  driver = webdriver.Chrome('c:/playwithdata/chromedriver.exe')\n",
      "C:\\Users\\skygg\\AppData\\Local\\Temp/ipykernel_4060/2470582081.py:7: DeprecationWarning: find_elements_by_* commands are deprecated. Please use find_elements() instead\n",
      "  songs = driver.find_elements_by_css_selector('tr')[1:]     # 멜론 사이트 개편으로 코드 수정(updated 2020.07.13)\n",
      "C:\\Users\\skygg\\anaconda3\\envs\\py38_test\\lib\\site-packages\\selenium\\webdriver\\remote\\webelement.py:502: UserWarning: find_elements_by_* commands are deprecated. Please use find_elements() instead\n",
      "  warnings.warn(\"find_elements_by_* commands are deprecated. Please use find_elements() instead\")\n"
     ]
    },
    {
     "name": "stdout",
     "output_type": "stream",
     "text": [
      "리무진 (Feat. MINO) (Prod. GRAY) | BE'O (비오)\n",
      "회전목마 (Feat. Zion.T, 원슈타인) (Prod. Slom) | sokodomo\n",
      "만남은 쉽고 이별은 어려워 (Feat. Leellamarz) (Prod. TOIL) | 베이식 (Basick)\n",
      "불협화음 (Feat. AKMU) (Prod. GRAY) | Mudd the student\n",
      "쉬어 (Feat. MINO) (Prod. GRAY) | 아넌딜라이트(Anandelight)\n",
      "strawberry moon | 아이유\n",
      "ELEVEN | IVE (아이브)\n",
      "Wake Up (Prod. 코드 쿤스트) | 개코\n",
      "다정히 내 이름을 부르면 | 경서예지\n",
      "사랑은 늘 도망가 | 임영웅\n",
      "네가 없는 밤 (Feat. ASH ISLAND) (Prod. GRAY) | BE'O (비오)\n",
      "신호등 | 이무진\n",
      "Savage | aespa\n",
      "STAY | The Kid LAROI\n",
      "MBTI (Feat. 쿠기 & 로꼬) (Prod. GRAY) | BE'O (비오)\n",
      "Next Level | aespa\n",
      "All I Want for Christmas Is You | Mariah Carey\n",
      "매일 크리스마스 (Everyday Christmas) | 다비치\n",
      "너를 생각해 | 주시크 (Joosiq)\n",
      "Santa Tell Me | Ariana Grande\n",
      "OHAYO MY NIGHT | 디핵 (D-Hack)\n",
      "낙하 (with 아이유) | AKMU (악뮤)\n",
      "눈이 오잖아(Feat.헤이즈) | 이무진\n",
      "바라만 본다 | MSG워너비(M.O.M)\n",
      "호우주의 (Feat. 개코, 넉살 (Nucksal)) (Prod. 코드 쿤스트) | 조광일\n",
      "My Universe | Coldplay\n",
      "문득 | BE'O (비오)\n",
      "Butter | 방탄소년단\n",
      "Permission to Dance | 방탄소년단\n",
      "깐부 (Feat. 염따, ASH ISLAND) (Prod. TOIL) | 쿤타\n",
      "Peaches (Feat. Daniel Caesar & Giveon) | Justin Bieber\n",
      "헤픈 우연 | 헤이즈 (Heize)\n",
      "Weekend | 태연 (TAEYEON)\n",
      "Dynamite | 방탄소년단\n",
      "Celebrity | 아이유\n",
      "Bad Habits | Ed Sheeran\n",
      "밤하늘의 별을(2020) | 경서\n",
      "라일락 | 아이유\n",
      "고백 | 멜로망스\n",
      "너와 나의 Memories | 염따\n",
      "Snowman | Sia\n",
      "어떻게 이별까지 사랑하겠어, 널 사랑하는 거지 | AKMU (악뮤)\n",
      "미리 메리 크리스마스 (Feat. 천둥 Of MBLAQ) | 아이유\n",
      "시간을 거슬러 (낮에 뜨는 달 X 케이윌) | 케이윌\n",
      "찰나가 영원이 될 때 (The Eternal Moment) | 마크툽 (MAKTUB)\n",
      "사이렌 Remix (Feat. UNEDUCATED KID, Paul Blanco) | 호미들\n",
      "롤린 (Rollin') | 브레이브걸스\n",
      "좋아좋아 | 조정석\n",
      "이제 나만 믿어요 | 임영웅\n",
      "내 손을 잡아 | 아이유\n",
      "SCIENTIST | TWICE (트와이스)\n",
      "모든 날, 모든 순간 (Every day, Every Moment) | 폴킴\n",
      "밝게 빛나는 별이 되어 비춰줄게 | 송이한\n",
      "추억은 만남보다 이별에 남아 | 정동하\n",
      "탕!♡ | MINO (송민호)\n",
      "08베이식 (Feat. 염따, punchnello) | 베이식 (Basick)\n",
      "그게 더 편할 것 같아 (N번째 연애 X 멜로망스) | 멜로망스\n",
      "밤새 서로 미루다 | 존박\n",
      "비가 오는 날엔 (2021) | 헤이즈 (Heize)\n",
      "DUMB DUMB | 전소미\n",
      "TROUBLE (Prod. Slom) | Don Mills\n",
      "Reset (Feat. 개코, Kid Milli) (Prod. 코드 쿤스트) | SINCE\n",
      "크리스마스니까 | 성시경\n",
      "UP해 (Feat. 박재범, 우원재) (Prod. 코드 쿤스트) | SINCE\n",
      "Last Christmas | Ariana Grande\n",
      "Dun Dun Dance | 오마이걸 (OH MY GIRL)\n",
      "Blueming | 아이유\n",
      "비와 당신 | 이무진\n",
      "오늘도 빛나는 너에게 (To You My Light) (Feat.이라온) | 마크툽 (MAKTUB)\n",
      "나 그댈위해 시 한편을 쓰겠어 | 케이시 (Kassy)\n",
      "Queendom | Red Velvet (레드벨벳)\n",
      "Off My Face | Justin Bieber\n",
      "취기를 빌려 (취향저격 그녀 X 산들) | 산들\n",
      "그날에 나는 맘이 편했을까 | 이예준\n",
      "ASAP | STAYC(스테이씨)\n",
      "멜로디 | ASH ISLAND\n",
      "가리온 (Feat. 다이나믹 듀오) (Prod. Primary) | 조광일\n",
      "작은 것들을 위한 시 (Boy With Luv) (Feat. Halsey) | 방탄소년단\n",
      "다음생이 있다면 당신을 만나서 다시 사랑할래요 | 임재현\n",
      "봄날 | 방탄소년단\n",
      "에잇(Prod.&Feat. SUGA of BTS) | 아이유\n",
      "가을 우체국 앞에서 | 김대명\n",
      "그대라는 사치 | 임영웅\n",
      "Savage Love (Laxed - Siren Beat) (BTS Remix) | Jawsh 685\n",
      "하루만 더 | 빅마마\n",
      "Lovesick Girls | BLACKPINK\n",
      "바래 (Feat. 정인) (Prod. TOIL) | 쿤타\n",
      "다시 사랑한다면 (김필 Ver.) | 임영웅\n",
      "SIGN (Feat. 미란이) (Prod. 코드 쿤스트) | SINCE\n",
      "가시 (Prod. 코드 쿤스트) | 조광일\n",
      "별빛 같은 나의 사랑아 | 임영웅\n",
      "지나고 보면 (Feat. 화사 & MINO) (Prod. GRAY) | BE'O (비오)\n",
      "잊었니 | 임영웅\n",
      "어제 너는 나를 버렸어 | 10CM\n",
      "Life Goes On | 방탄소년단\n",
      "METEOR | 창모 (CHANGMO)\n",
      "잠이 오질 않네요 | 장범준\n",
      "오래된 노래 | 스탠딩 에그\n",
      "Hey Mama (Feat. Nicki Minaj, Bebe Rexha & Afrojack) | David Guetta\n",
      "BE ! (Feat. 팔로알토, lIlBOI) (Prod. PEEJAY & Slom) | sokodomo\n"
     ]
    }
   ],
   "source": [
    "from selenium import webdriver\n",
    "\n",
    "driver = webdriver.Chrome('c:/playwithdata/chromedriver.exe')     \n",
    "url = 'http://www.melon.com/chart/index.htm'\n",
    "driver.get(url)          \n",
    "                                \n",
    "songs = driver.find_elements_by_css_selector('tr')[1:]     \n",
    "for song in songs:                                        \n",
    "    title = song.find_elements_by_css_selector('div.ellipsis.rank01 > span > a')[0].text\n",
    "    singer = song.find_elements_by_css_selector('div.ellipsis.rank02 > a')[0].text  \n",
    "    print(title, singer, sep = ' | ')"
   ]
  },
  {
   "cell_type": "markdown",
   "id": "3b362845",
   "metadata": {},
   "source": [
    "BeautifulSoup을 사용하는 방식은 웹 페이지의 HTML 정보를 다운로드한 뒤에는 브라우저에서 정보를 가져오지 않는다. 모든 정보를 다운로드한 뒤 그 안에서 필요한 내용을 찾는 것이기에 속도가 빠르다. 반대로 selenium만 이용할 경우 웹 페이지에 게속 접속하고 있기 때문에 필요한 내용을 찾을 때 시간이 오래 걸린다. 하지만 접속한 상태이므로 특정 위치를 선택한 뒤 클릭하거나 값을 입력하고 삭제하는 등의 브라우저 조작이 가능하다."
   ]
  },
  {
   "cell_type": "code",
   "execution_count": null,
   "id": "852247f6",
   "metadata": {},
   "outputs": [],
   "source": []
  }
 ],
 "metadata": {
  "kernelspec": {
   "display_name": "Python 3 (ipykernel)",
   "language": "python",
   "name": "python3"
  },
  "language_info": {
   "codemirror_mode": {
    "name": "ipython",
    "version": 3
   },
   "file_extension": ".py",
   "mimetype": "text/x-python",
   "name": "python",
   "nbconvert_exporter": "python",
   "pygments_lexer": "ipython3",
   "version": "3.8.12"
  },
  "toc": {
   "base_numbering": "2",
   "nav_menu": {},
   "number_sections": true,
   "sideBar": true,
   "skip_h1_title": false,
   "title_cell": "Table of Contents",
   "title_sidebar": "Contents",
   "toc_cell": false,
   "toc_position": {
    "height": "calc(100% - 180px)",
    "left": "10px",
    "top": "150px",
    "width": "165px"
   },
   "toc_section_display": true,
   "toc_window_display": true
  },
  "varInspector": {
   "cols": {
    "lenName": 16,
    "lenType": 16,
    "lenVar": 40
   },
   "kernels_config": {
    "python": {
     "delete_cmd_postfix": "",
     "delete_cmd_prefix": "del ",
     "library": "var_list.py",
     "varRefreshCmd": "print(var_dic_list())"
    },
    "r": {
     "delete_cmd_postfix": ") ",
     "delete_cmd_prefix": "rm(",
     "library": "var_list.r",
     "varRefreshCmd": "cat(var_dic_list()) "
    }
   },
   "types_to_exclude": [
    "module",
    "function",
    "builtin_function_or_method",
    "instance",
    "_Feature"
   ],
   "window_display": false
  }
 },
 "nbformat": 4,
 "nbformat_minor": 5
}
