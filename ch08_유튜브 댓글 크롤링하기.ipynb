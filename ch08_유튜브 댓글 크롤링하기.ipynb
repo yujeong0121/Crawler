{
 "cells": [
  {
   "cell_type": "markdown",
   "id": "a8e651f9",
   "metadata": {},
   "source": [
    "###  유튜브 댓글 크롤링하기"
   ]
  },
  {
   "cell_type": "markdown",
   "id": "668f2cc8",
   "metadata": {},
   "source": [
    "```2022.01.10 version```"
   ]
  },
  {
   "cell_type": "markdown",
   "id": "f5c2d1de",
   "metadata": {},
   "source": [
    "step1. 필요한 라이브러리 불러오기"
   ]
  },
  {
   "cell_type": "code",
   "execution_count": null,
   "id": "7429b3ae",
   "metadata": {},
   "outputs": [],
   "source": [
    "import pandas as pd\n",
    "from selenium import webdriver\n",
    "import time\n",
    "from bs4 import BeautifulSoup"
   ]
  },
  {
   "cell_type": "markdown",
   "id": "100eee27",
   "metadata": {},
   "source": [
    "step2. 크롬드라이버 가져오기"
   ]
  },
  {
   "cell_type": "code",
   "execution_count": 40,
   "id": "2dd8b262",
   "metadata": {},
   "outputs": [
    {
     "name": "stderr",
     "output_type": "stream",
     "text": [
      "C:\\Users\\skygg\\AppData\\Local\\Temp/ipykernel_9280/4239455087.py:1: DeprecationWarning: executable_path has been deprecated, please pass in a Service object\n",
      "  driver =webdriver.Chrome(r'C:\\playwithdata\\chromedriver.exe')\n"
     ]
    }
   ],
   "source": [
    "driver =webdriver.Chrome(r'C:\\playwithdata\\chromedriver.exe')"
   ]
  },
  {
   "cell_type": "markdown",
   "id": "aafd12b7",
   "metadata": {},
   "source": [
    "step3.  경로 설정"
   ]
  },
  {
   "cell_type": "code",
   "execution_count": 41,
   "id": "afc28b51",
   "metadata": {},
   "outputs": [],
   "source": [
    "url = 'https://www.youtube.com/watch?v=Ty8UzZlO1EE'\n",
    "driver.get(url) # 사이트 오픈\n",
    "time.sleep(2) # 2초간 기다림"
   ]
  },
  {
   "cell_type": "markdown",
   "id": "fd57b64f",
   "metadata": {},
   "source": [
    "step4. HTML 받아오기"
   ]
  },
  {
   "cell_type": "code",
   "execution_count": 42,
   "id": "d3888603",
   "metadata": {},
   "outputs": [],
   "source": [
    "reply_html = driver.page_source\n",
    "soup = BeautifulSoup(reply_html, 'html.parser')\n",
    "# soup"
   ]
  },
  {
   "cell_type": "markdown",
   "id": "693ac7ea",
   "metadata": {},
   "source": [
    "step5. 댓글 가져오기"
   ]
  },
  {
   "cell_type": "code",
   "execution_count": 43,
   "id": "1b50eb0a",
   "metadata": {},
   "outputs": [],
   "source": [
    "# 댓글 일부 가져오기\n",
    "driver.execute_script(\"window.scrollTo(0, 800)\") # 윈도우 높이 0부터 800까지 스크롤\n",
    "time.sleep(3) # 3초까지만 기다림"
   ]
  },
  {
   "cell_type": "code",
   "execution_count": 44,
   "id": "b271c7dd",
   "metadata": {},
   "outputs": [],
   "source": [
    "# 댓글 전체 가져오기\n",
    "# 전체 스크롤의 크기 확인하기\n",
    "last_height = driver.execute_script('return document.documentElement.scrollHeight')\n",
    "\n",
    "# 스크롤하다가 전체 스크롤의 크기와 같아지면 종료\n",
    "while True:\n",
    "    driver.execute_script('window.scrollTo(0, document.documentElement.scrollHeight);') # 스크롤 끝까지 내리기\n",
    "    time.sleep(3)\n",
    "    now_height = driver.execute_script('return document.documentElement.scrollHeight') # 다시 스크롤 크기 가져오기\n",
    "    if now_height == last_height:\n",
    "        break\n",
    "    last_height = now_height\n",
    "\n",
    "time.sleep(1.5)"
   ]
  },
  {
   "cell_type": "markdown",
   "id": "3b8c185f",
   "metadata": {},
   "source": [
    "step6. 아이디와 댓글 내용만 추출하기"
   ]
  },
  {
   "cell_type": "code",
   "execution_count": 45,
   "id": "91c3a889",
   "metadata": {},
   "outputs": [],
   "source": [
    "# 댓글 작성자와 댓글 내용이 있는 위치 설정\n",
    "idlist = soup.select(\"#author-text > span\")\n",
    "comment = soup.select(\"#content-text\")"
   ]
  },
  {
   "cell_type": "code",
   "execution_count": 46,
   "id": "e59a0190",
   "metadata": {},
   "outputs": [
    {
     "name": "stdout",
     "output_type": "stream",
     "text": [
      "\n",
      "              배춘호\n",
      "             내 이름 불러줘서 너무 행복하다\n",
      "\n",
      "              이소현\n",
      "             근데 진짜 이 노래는 음원보다 라이브가 더 좋은것 같다..ㄷㄷ\n",
      "\n",
      "              아니\n",
      "             한국어 가사 번역은 2000만뷰가 넘어가는데\n",
      "원영상은 400만뷰라는 정설의 학계\n",
      "\n",
      "              요를레이\n",
      "             계속 듣다보니 저 울려퍼지는 코러스도 다 직접부르신거였구나..대단\n",
      "\n",
      "              소희 임\n",
      "             하 개멋있네진짜\n",
      "\n",
      "              yang giho\n",
      "             ㄹㅇ 진짜 곡 자체가 ㅈㄴ 섹시 한듯 ㄷㄷ\n",
      "\n",
      "\n",
      "2020년이 끝나가는 지금도 여전히 시대에 뒤처지 않고 여전히 섹시의 끝판왕을 보여주는 클라스..\n",
      "\n",
      "              렌고쿠 쿄쥬로\n",
      "             라이브가 역시 최고다.. 코러스 분들이랑 연주자분들도 비추면서 콘서트 직관하는 것 같음 최고\n",
      "\n",
      "              기태 김\n",
      "             언제나 들어도 좋은 노래이고 진짜 가수가 CD를 씹어먹은 정도로 노래도 잘하시고...쩃든 짱 얼굴까지 완벽\n",
      "\n",
      "              봄꽃 spring flower\n",
      "             \"잘생긴사람은 대부분 유부남이거나 임자가 있다.\"\n",
      "   누구의 말인지는 몰라도 당신이 옳았어요...\n",
      "\n",
      "              fgkln K\n",
      "             진짜 나온 날부터 계속 듣고 있는데 첫 부분부터 오금지린다 그리고 시작하는 부분은 뭐.. 말이 필요가 없다. 와 개지린다\n",
      "\n",
      "              ᄋ\n",
      "             노래하는 조각상이다...... 진짜 내가 지금까지 본 사람 중에서 조각상에 가장 가까운 현실 사람인듯.......\n",
      "아니 어떻게 이름도 크리스토퍼야.....\n",
      "\n",
      "              퇴띵연\n",
      "             와 크리스토퍼 애드립 진짜 미쳤다 어떻게 저렇게... 와 진짜 그냥 \"와\"다\n",
      "\n",
      "              히릿\n",
      "             진짜 노래 기깔나게 잘 부른다~~~\n",
      "\n",
      "              지구\n",
      "             언제 들어도 명곡이다\n",
      "\n",
      "              Nada Ashraf\n",
      "             Thank you Wooyoung for introducing me to this masterpiece\n",
      "\n",
      "              장쟁쟝\n",
      "             오져버려따....코러스 분들도 넘 머찌심....카메라가 밴드분들도 잡아주는 거 넘 조쿠...,,흡입력 장난 없다........\n",
      "\n",
      "              현타와서힘듬\n",
      "             떼창듣다가 여기까지옴ㆍㆍㆍㆍ넘 멋있다\n",
      "\n",
      "              송태원\n",
      "             아니 심지어 코러스도 잘생겼어...\n",
      "\n",
      "              정품좀\n",
      "             노래 너무좋다 ㅠㅠ\n",
      "\n",
      "              세리\n",
      "             와 진짜 미쳤다 노래 찢었네 진짜\n"
     ]
    }
   ],
   "source": [
    "# 가져온 내용 확인하기\n",
    "for i in range(len(idlist)): \n",
    "    print(idlist[i].text, comment[i].text)"
   ]
  },
  {
   "cell_type": "markdown",
   "id": "5c1b1058",
   "metadata": {},
   "source": [
    "step7. 데이터 정리하기"
   ]
  },
  {
   "cell_type": "code",
   "execution_count": 47,
   "id": "bc86ed05",
   "metadata": {},
   "outputs": [],
   "source": [
    "id_new = [] \n",
    "comment_new = [] \n",
    "# 텍스트 가져오고 공백제거하기\n",
    "for i in range(len(idlist)):\n",
    "    cln_id = idlist[i].text \n",
    "    cln_id = cln_id.replace('\\n', '') \n",
    "    cln_id = cln_id.replace('\\t', '')\n",
    "    cln_id = cln_id.replace('    ', '')\n",
    "    id_new.append(cln_id)\n",
    "\n",
    "    cln_comment = comment[i].text\n",
    "    cln_comment = cln_comment.replace('\\n', '')\n",
    "    cln_comment = cln_comment.replace('\\t', '')\n",
    "    cln_comment = cln_comment.replace('    ', '')\n",
    "    comment_new.append(cln_comment)"
   ]
  },
  {
   "cell_type": "code",
   "execution_count": 48,
   "id": "bd374103",
   "metadata": {},
   "outputs": [
    {
     "name": "stdout",
     "output_type": "stream",
     "text": [
      "  배춘호 내 이름 불러줘서 너무 행복하다\n",
      "  이소현 근데 진짜 이 노래는 음원보다 라이브가 더 좋은것 같다..ㄷㄷ\n",
      "  아니 한국어 가사 번역은 2000만뷰가 넘어가는데원영상은 400만뷰라는 정설의 학계\n",
      "  요를레이 계속 듣다보니 저 울려퍼지는 코러스도 다 직접부르신거였구나..대단\n",
      "  소희 임 하 개멋있네진짜\n",
      "  yang giho ㄹㅇ 진짜 곡 자체가 ㅈㄴ 섹시 한듯 ㄷㄷ2020년이 끝나가는 지금도 여전히 시대에 뒤처지 않고 여전히 섹시의 끝판왕을 보여주는 클라스..\n",
      "  렌고쿠 쿄쥬로 라이브가 역시 최고다.. 코러스 분들이랑 연주자분들도 비추면서 콘서트 직관하는 것 같음 최고\n",
      "  기태 김 언제나 들어도 좋은 노래이고 진짜 가수가 CD를 씹어먹은 정도로 노래도 잘하시고...쩃든 짱 얼굴까지 완벽\n",
      "  봄꽃 spring flower \"잘생긴사람은 대부분 유부남이거나 임자가 있다.\"   누구의 말인지는 몰라도 당신이 옳았어요...\n",
      "  fgkln K 진짜 나온 날부터 계속 듣고 있는데 첫 부분부터 오금지린다 그리고 시작하는 부분은 뭐.. 말이 필요가 없다. 와 개지린다\n",
      "  ᄋ 노래하는 조각상이다...... 진짜 내가 지금까지 본 사람 중에서 조각상에 가장 가까운 현실 사람인듯.......아니 어떻게 이름도 크리스토퍼야.....\n",
      "  퇴띵연 와 크리스토퍼 애드립 진짜 미쳤다 어떻게 저렇게... 와 진짜 그냥 \"와\"다\n",
      "  히릿 진짜 노래 기깔나게 잘 부른다~~~\n",
      "  지구 언제 들어도 명곡이다\n",
      "  Nada Ashraf Thank you Wooyoung for introducing me to this masterpiece\n",
      "  장쟁쟝 오져버려따....코러스 분들도 넘 머찌심....카메라가 밴드분들도 잡아주는 거 넘 조쿠...,,흡입력 장난 없다........\n",
      "  현타와서힘듬 떼창듣다가 여기까지옴ㆍㆍㆍㆍ넘 멋있다\n",
      "  송태원 아니 심지어 코러스도 잘생겼어...\n",
      "  정품좀 노래 너무좋다 ㅠㅠ\n",
      "  세리 와 진짜 미쳤다 노래 찢었네 진짜\n"
     ]
    }
   ],
   "source": [
    "# 가져온 내용 확인하기\n",
    "for i in range(len(id_new)): \n",
    "    print(id_new[i], comment_new[i])"
   ]
  },
  {
   "cell_type": "markdown",
   "id": "ddea375d",
   "metadata": {},
   "source": [
    "step8. 데이터 저장하기"
   ]
  },
  {
   "cell_type": "code",
   "execution_count": 49,
   "id": "53184b3b",
   "metadata": {},
   "outputs": [],
   "source": [
    "# Dataframe 안에 넣어서 쓸수 있게 만들어주기\n",
    "df = {\"ID\":id_new, \"Comment\":comment_new} \n",
    "drive_df = pd.DataFrame(df)"
   ]
  },
  {
   "cell_type": "code",
   "execution_count": 50,
   "id": "78aa1177",
   "metadata": {},
   "outputs": [
    {
     "data": {
      "text/html": [
       "<div>\n",
       "<style scoped>\n",
       "    .dataframe tbody tr th:only-of-type {\n",
       "        vertical-align: middle;\n",
       "    }\n",
       "\n",
       "    .dataframe tbody tr th {\n",
       "        vertical-align: top;\n",
       "    }\n",
       "\n",
       "    .dataframe thead th {\n",
       "        text-align: right;\n",
       "    }\n",
       "</style>\n",
       "<table border=\"1\" class=\"dataframe\">\n",
       "  <thead>\n",
       "    <tr style=\"text-align: right;\">\n",
       "      <th></th>\n",
       "      <th>ID</th>\n",
       "      <th>Comment</th>\n",
       "    </tr>\n",
       "  </thead>\n",
       "  <tbody>\n",
       "    <tr>\n",
       "      <th>0</th>\n",
       "      <td>배춘호</td>\n",
       "      <td>내 이름 불러줘서 너무 행복하다</td>\n",
       "    </tr>\n",
       "    <tr>\n",
       "      <th>1</th>\n",
       "      <td>이소현</td>\n",
       "      <td>근데 진짜 이 노래는 음원보다 라이브가 더 좋은것 같다..ㄷㄷ</td>\n",
       "    </tr>\n",
       "    <tr>\n",
       "      <th>2</th>\n",
       "      <td>아니</td>\n",
       "      <td>한국어 가사 번역은 2000만뷰가 넘어가는데원영상은 400만뷰라는 정설의 학계</td>\n",
       "    </tr>\n",
       "    <tr>\n",
       "      <th>3</th>\n",
       "      <td>요를레이</td>\n",
       "      <td>계속 듣다보니 저 울려퍼지는 코러스도 다 직접부르신거였구나..대단</td>\n",
       "    </tr>\n",
       "    <tr>\n",
       "      <th>4</th>\n",
       "      <td>소희 임</td>\n",
       "      <td>하 개멋있네진짜</td>\n",
       "    </tr>\n",
       "  </tbody>\n",
       "</table>\n",
       "</div>"
      ],
      "text/plain": [
       "       ID                                      Comment\n",
       "0     배춘호                            내 이름 불러줘서 너무 행복하다\n",
       "1     이소현           근데 진짜 이 노래는 음원보다 라이브가 더 좋은것 같다..ㄷㄷ\n",
       "2      아니  한국어 가사 번역은 2000만뷰가 넘어가는데원영상은 400만뷰라는 정설의 학계\n",
       "3    요를레이         계속 듣다보니 저 울려퍼지는 코러스도 다 직접부르신거였구나..대단\n",
       "4    소희 임                                     하 개멋있네진짜"
      ]
     },
     "execution_count": 50,
     "metadata": {},
     "output_type": "execute_result"
    }
   ],
   "source": [
    "drive_df.head()"
   ]
  },
  {
   "cell_type": "code",
   "execution_count": 51,
   "id": "5ab929e1",
   "metadata": {},
   "outputs": [
    {
     "name": "stdout",
     "output_type": "stream",
     "text": [
      "<class 'pandas.core.frame.DataFrame'>\n",
      "RangeIndex: 20 entries, 0 to 19\n",
      "Data columns (total 2 columns):\n",
      " #   Column   Non-Null Count  Dtype \n",
      "---  ------   --------------  ----- \n",
      " 0   ID       20 non-null     object\n",
      " 1   Comment  20 non-null     object\n",
      "dtypes: object(2)\n",
      "memory usage: 448.0+ bytes\n"
     ]
    }
   ],
   "source": [
    "drive_df.info()"
   ]
  },
  {
   "cell_type": "markdown",
   "id": "5f340a50",
   "metadata": {},
   "source": [
    "step9.데이터 저장하기"
   ]
  },
  {
   "cell_type": "code",
   "execution_count": 52,
   "id": "0c1812ba",
   "metadata": {},
   "outputs": [],
   "source": [
    "drive_df.to_excel('C:/playwithdata/youtube.xlsx', index = False, engine = 'openpyxl')"
   ]
  },
  {
   "cell_type": "markdown",
   "id": "1ee500e1",
   "metadata": {},
   "source": []
  }
 ],
 "metadata": {
  "kernelspec": {
   "display_name": "Python 3 (ipykernel)",
   "language": "python",
   "name": "python3"
  },
  "language_info": {
   "codemirror_mode": {
    "name": "ipython",
    "version": 3
   },
   "file_extension": ".py",
   "mimetype": "text/x-python",
   "name": "python",
   "nbconvert_exporter": "python",
   "pygments_lexer": "ipython3",
   "version": "3.8.12"
  },
  "toc": {
   "base_numbering": 1,
   "nav_menu": {},
   "number_sections": false,
   "sideBar": true,
   "skip_h1_title": false,
   "title_cell": "Table of Contents",
   "title_sidebar": "Contents",
   "toc_cell": false,
   "toc_position": {
    "height": "calc(100% - 180px)",
    "left": "10px",
    "top": "150px",
    "width": "165px"
   },
   "toc_section_display": true,
   "toc_window_display": false
  }
 },
 "nbformat": 4,
 "nbformat_minor": 5
}
