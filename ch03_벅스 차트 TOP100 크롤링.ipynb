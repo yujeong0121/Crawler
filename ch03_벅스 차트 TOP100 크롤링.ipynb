{
 "cells": [
  {
   "cell_type": "markdown",
   "id": "833c344d",
   "metadata": {},
   "source": [
    "### 벅스 차트 TOP100 크롤링"
     "```2021.12.11 version```   \n",
   ]
  },
  {
   "cell_type": "markdown",
   "id": "4d80a7f0",
   "metadata": {},
   "source": [
    "#### 크롬드라이버 실행"
   ]
  },
  {
   "cell_type": "code",
   "execution_count": 4,
   "id": "9835fd96",
   "metadata": {
    "scrolled": true
   },
   "outputs": [
    {
     "name": "stderr",
     "output_type": "stream",
     "text": [
      "C:\\Users\\skygg\\AppData\\Local\\Temp/ipykernel_28008/2568102389.py:2: DeprecationWarning: executable_path has been deprecated, please pass in a Service object\n",
      "  driver = webdriver.Chrome('c:/Users/data_test/chromedriver.exe')\n"
     ]
    }
   ],
   "source": [
    "from selenium import webdriver\n",
    "driver = webdriver.Chrome('c:/Users/data_test/chromedriver.exe')"
   ]
  },
  {
   "cell_type": "markdown",
   "id": "33c2eb9c",
   "metadata": {},
   "source": [
    "#### 벅스 인기차트 웹페이지 접속"
   ]
  },
  {
   "cell_type": "code",
   "execution_count": 5,
   "id": "149089f3",
   "metadata": {},
   "outputs": [],
   "source": [
    "url = 'https://music.bugs.co.kr/chart'\n",
    "driver.get(url)"
   ]
  },
  {
   "cell_type": "markdown",
   "id": "f18c5547",
   "metadata": {},
   "source": [
    "#### HTML 다운로드 및 BeautifulSoup으로 읽기"
   ]
  },
  {
   "cell_type": "code",
   "execution_count": 6,
   "id": "de5783c9",
   "metadata": {},
   "outputs": [],
   "source": [
    "from bs4 import BeautifulSoup\n",
    "html = driver.page_source\n",
    "soup = BeautifulSoup(html, 'html.parser')"
   ]
  },
  {
   "cell_type": "markdown",
   "id": "169a0a9c",
   "metadata": {},
   "source": [
    "#### TOP 100 노래 태그 찾기"
   ]
  },
  {
   "cell_type": "code",
   "execution_count": 7,
   "id": "b538ebbf",
   "metadata": {},
   "outputs": [
    {
     "name": "stdout",
     "output_type": "stream",
     "text": [
      "100\n",
      "<tr albumid=\"4068361\" artistid=\"20148657\" multiartist=\"N\" mvid=\"604370\" rowtype=\"track\" trackid=\"6138300\">\n",
      "<input name=\"_isStream\" type=\"hidden\" value=\"6138300\"/>\n",
      "<input name=\"_isDown\" type=\"hidden\" value=\"6138300\"/>\n",
      "<td class=\"check\"><input buyminquality=\"T\" disc_id=\"1\" name=\"check\" title=\"ELEVEN\" type=\"checkbox\" value=\"6138300\"/></td>\n",
      "<td>\n",
      "<div class=\"ranking\">\n",
      "<strong>1</strong>\n",
      "<p class=\"change up\"><span class=\"arrow\"></span> <em>2</em> <span>계단 상승</span></p>\n",
      "</div>\n",
      "</td>\n",
      "<td>\n",
      "<a class=\"thumbnail\" href=\"https://music.bugs.co.kr/album/4068361?wl_ref=list_tr_07_chart\" onclick=\"\n",
      "\">\n",
      "<span class=\"mask\"></span>\n",
      "<img alt=\"ELEVEN 대표이미지\" onerror=\"bugs.utils.imgError(this);\" src=\"https://image.bugsm.co.kr/album/images/50/40683/4068361.jpg?version=20211202063545.0\"/>\n",
      "</a>\n",
      "</td>\n",
      "<td>\n",
      "<a class=\"trackInfo\" href=\"https://music.bugs.co.kr/track/6138300?wl_ref=list_tr_08_chart\" onclick=\"\n",
      "\">곡정보</a>\n",
      "</td>\n",
      "<th scope=\"row\">\n",
      "<p adult_yn=\"N\" class=\"title\">\n",
      "<a adultcheckval=\"1\" aria-label=\"새창\" href=\"javascript:;\" onclick=\"bugs.wiselog.area('list_tr_09_chart');bugs.music.listen('6138300',true);\n",
      "\" title=\"ELEVEN\">ELEVEN</a>\n",
      "</p>\n",
      "</th>\n",
      "<td class=\"left\">\n",
      "<p class=\"artist\">\n",
      "<a href=\"https://music.bugs.co.kr/artist/20148657?wl_ref=list_tr_10_chart\" onclick=\"\n",
      "\" title=\"IVE (아이브)\">IVE (아이브)</a>\n",
      "</p>\n",
      "</td>\n",
      "<td class=\"left\">\n",
      "<a class=\"album\" href=\"https://music.bugs.co.kr/album/4068361?wl_ref=list_tr_11_chart\" onclick=\"\n",
      "\" title=\"ELEVEN\">ELEVEN</a>\n",
      "</td>\n",
      "<td>\n",
      "<a adultcheckval=\"1\" aria-label=\"새창\" class=\"btn play\" href=\"javascript:;\" onclick=\"bugs.wiselog.area('list_tr_12_chart');bugs.music.listen('6138300',true);\n",
      "\">듣기</a>\n",
      "</td>\n",
      "<td>\n",
      "<a adultcheckval=\"1\" aria-label=\"새창\" class=\"btn addPlaylist\" href=\"javascript:;\" onclick=\"bugs.wiselog.area('list_tr_13_chart');bugs.music.listen('6138300');\n",
      "\">재생목록에 추가</a>\n",
      "</td>\n",
      "<td>\n",
      "<a class=\"btn addAlbum\" href=\"javascript:;\" onclick=\"bugs.wiselog.area('list_tr_14_chart');bugs.music.addTrackToMyAlbum(this,'6138300');\n",
      "\" track_title=\"ELEVEN\">내 앨범에 담기</a>\n",
      "</td>\n",
      "<td>\n",
      "<a adultcheckval=\"1\" aria-label=\"새창\" class=\"btn download flac\" href=\"javascript:;\" onclick=\"bugs.wiselog.area('list_tr_15_chart');bugs.layermenu.down(this,'6138300','true','true','44.1','false','', null );\n",
      "\"><em class=\"flac\">flac </em>다운로드</a>\n",
      "</td>\n",
      "<td>\n",
      "<a aria-label=\"새창\" class=\"btn viewMV\" href=\"javascript:;\" onclick=\"bugs.wiselog.area('list_tr_16_chart');\n",
      "bugs.layermenu.mv(this,6138300, 604370, 'Y', 'Y', 'Y', 'Y', 6138300, 'N','OVER_12', 'Y');\n",
      "\">영상 재생</a>\n",
      "</td>\n",
      "<td>\n",
      "<a artist_disp_nm=\"IVE (아이브)\" artist_id=\"20148657\" class=\"btnActions\" href=\"javascript:;\" layer_type=\"CHART\" layerpositiontarget=\"td\" onclick=\"bugs.wiselog.area('list_tr_17_chart');\n",
      "bugs.layermenu.trackMoreAction(this,'6138300','0','4068361','bugs.music.listenRadioFromSeed(\\'6138300\\',\\'track\\');','N', 'Y', '_chart');\n",
      "\" track_title=\"ELEVEN\">기타 기능</a>\n",
      "</td>\n",
      "</tr>\n"
     ]
    }
   ],
   "source": [
    "songs = soup.select('table.byChart > tbody > tr')\n",
    "print(len(songs)) # 100개의 곡 수와 일치하는지 확인\n",
    "print(songs[0])"
   ]
  },
  {
   "cell_type": "markdown",
   "id": "81f63732",
   "metadata": {},
   "source": [
    "#### 한 개의 곡 정보 지정하기"
   ]
  },
  {
   "cell_type": "code",
   "execution_count": 9,
   "id": "1cea70c8",
   "metadata": {},
   "outputs": [],
   "source": [
    "song = songs[0]\n",
    "# print(song)"
   ]
  },
  {
   "cell_type": "markdown",
   "id": "d42903f4",
   "metadata": {},
   "source": [
    "#### 곡 제목 찾고 텍스트만 가져오기"
   ]
  },
  {
   "cell_type": "code",
   "execution_count": 10,
   "id": "0c433ddd",
   "metadata": {},
   "outputs": [
    {
     "data": {
      "text/plain": [
       "1"
      ]
     },
     "execution_count": 10,
     "metadata": {},
     "output_type": "execute_result"
    }
   ],
   "source": [
    "title = song.select('p.title')\n",
    "len(title)"
   ]
  },
  {
   "cell_type": "code",
   "execution_count": 12,
   "id": "c3f8b632",
   "metadata": {},
   "outputs": [
    {
     "data": {
      "text/plain": [
       "'\\nELEVEN\\n'"
      ]
     },
     "execution_count": 12,
     "metadata": {},
     "output_type": "execute_result"
    }
   ],
   "source": [
    "title = song.select('p.title')[0].text\n",
    "title"
   ]
  },
  {
   "cell_type": "code",
   "execution_count": 13,
   "id": "e08c42c1",
   "metadata": {},
   "outputs": [
    {
     "data": {
      "text/plain": [
       "'ELEVEN'"
      ]
     },
     "execution_count": 13,
     "metadata": {},
     "output_type": "execute_result"
    }
   ],
   "source": [
    "title = song.select('p.title')[0].text.strip()\n",
    "title"
   ]
  },
  {
   "cell_type": "markdown",
   "id": "54704dcb",
   "metadata": {},
   "source": [
    "#### 가수 찾고 텍스트만 가져오기"
   ]
  },
  {
   "cell_type": "code",
   "execution_count": 14,
   "id": "22045b31",
   "metadata": {},
   "outputs": [
    {
     "data": {
      "text/plain": [
       "1"
      ]
     },
     "execution_count": 14,
     "metadata": {},
     "output_type": "execute_result"
    }
   ],
   "source": [
    "singer = song.select('p.artist > a')\n",
    "len(singer)"
   ]
  },
  {
   "cell_type": "code",
   "execution_count": 15,
   "id": "e09f2ac0",
   "metadata": {},
   "outputs": [
    {
     "name": "stdout",
     "output_type": "stream",
     "text": [
      "\n",
      "IVE (아이브)\n",
      "\n"
     ]
    }
   ],
   "source": [
    "singer = song.select('p.artist')[0].text\n",
    "print(singer)"
   ]
  },
  {
   "cell_type": "markdown",
   "id": "a16010fe",
   "metadata": {},
   "source": [
    "#### 벅스 100위 노래 순위 정보 가져오기"
   ]
  },
  {
   "cell_type": "code",
   "execution_count": 17,
   "id": "c2c77b92",
   "metadata": {},
   "outputs": [
    {
     "name": "stdout",
     "output_type": "stream",
     "text": [
      "ELEVEN|IVE (아이브)\n",
      "멋 (The Real) (흥:興 Ver.)|ATEEZ(에이티즈)\n",
      "야간비행 (Turbulence)|ATEEZ(에이티즈)\n",
      "회전목마 (Feat. Zion.T, 원슈타인) (Prod. Slom)|sokodomo\n",
      "리무진 (Feat. MINO) (Prod. GRAY)|BE'O (비오)\n",
      "The Letter|ATEEZ(에이티즈)\n",
      "WONDERLAND (Symphony No.9 “From The Wonderland”)|ATEEZ(에이티즈)\n",
      "Be With You|ATEEZ(에이티즈)\n",
      "Still Here (Korean Ver.)|ATEEZ(에이티즈)\n",
      "매일 크리스마스 (Everyday Christmas)|다비치\n",
      "Better (Korean Ver.)|ATEEZ(에이티즈)\n",
      "눈이 오잖아(Feat.헤이즈)|이무진\n",
      "밤새 서로 미루다|존 박\n",
      "WAVE (Overture)|ATEEZ(에이티즈)\n",
      "Answer (Ode to Joy) (Feat. LA POEM)|ATEEZ(에이티즈)\n",
      "Outro : Over the Horizon|ATEEZ(에이티즈)\n",
      "만남은 쉽고 이별은 어려워 (Feat. Leellamarz) (Prod. TOIL)|베이식(Basick)\n",
      "불협화음 (Feat. AKMU) (Prod. GRAY)|Mudd the student\n",
      "strawberry moon|아이유(IU)\n",
      "문득|BE'O (비오)\n",
      "네가 없는 밤 (Feat. ASH ISLAND) (Prod. GRAY)|BE'O (비오)\n",
      "Universe (Let's Play Ball)|NCT U\n",
      "Savage|aespa\n",
      "Santa Tell Me|Ariana Grande(아리아나 그란데)\n",
      "쉬어 (Feat. MINO) (Prod. GRAY)|MINO(송민호)\n",
      "Killing Me|청하\n",
      "사랑은 늘 도망가|임영웅\n",
      "Next Level|aespa\n",
      "탕!♡|MINO(송민호)\n",
      "STAY|The Kid LAROI\n",
      "My Universe|Coldplay(콜드플레이)\n",
      "신호등|이무진\n",
      "말이 안 돼 (Unthinkable)|FTISLAND (FT아일랜드)\n",
      "다음 겨울에도 여기서 만나|유희열\n",
      "MBTI (Feat. 쿠기 & 로꼬) (Prod. GRAY)|BE'O (비오)\n",
      "All I Want for Christmas Is You|Mariah Carey(머라이어 캐리)\n",
      "SCIENTIST|TWICE (트와이스)\n",
      "Wake Up (Prod. 코드 쿤스트)|개코\n",
      "낙하 (with 아이유)|AKMU(악뮤)\n",
      "I'm a 빛|화사(Hwa Sa)\n",
      "어제 너는 나를 버렸어|10CM\n",
      "Hey Mama (feat. Nicki Minaj, Bebe Rexha & Afrojack)|David Guetta(데이빗 게타)\n",
      "그게 더 편할 것 같아 (N번째 연애 X 멜로망스)|멜로망스(MeloMance)\n",
      "낮 밤 (feat. 박재범)|이영지\n",
      "Reset (Feat. 개코, Kid Milli) (Prod. 코드 쿤스트)|SINCE\n",
      "Butter|방탄소년단\n",
      "다정히 내 이름을 부르면|경서예지\n",
      "너를 생각해|주시크 (Joosiq)\n",
      "Snowman|Sia(시아)\n",
      "별의 조각|윤하(Younha/ユンナ)\n",
      "Permission to Dance|방탄소년단\n",
      "OHAYO MY NIGHT|디핵(D-Hack)\n",
      "호우주의 (Feat. 개코, 넉살 (Nucksal)) (Prod. 코드 쿤스트)|조광일\n",
      "Peaches (feat. Daniel Caesar, Giveon)|Justin Bieber(저스틴 비버)\n",
      "Off My Face|Justin Bieber(저스틴 비버)\n",
      "미리 메리 크리스마스 (feat. 천둥 Of MBLAQ)|아이유(IU)\n",
      "크리스마스니까|성시경\n",
      "기다리다|윤하(Younha/ユンナ)\n",
      "Dynamite|방탄소년단\n",
      "BE ! (Feat. 팔로알토, lIlBOI) (Prod. PEEJAY & Slom)|sokodomo\n",
      "Celebrity|아이유(IU)\n",
      "너는 내 세상이었어|볼빨간사춘기\n",
      "뻔한 스토리 (Obvious)|FTISLAND (FT아일랜드)\n",
      "깐부 (Feat. 염따, ASH ISLAND) (Prod. TOIL)|쿤타(Koonta)\n",
      "UP해 (Feat. 박재범, 우원재) (Prod. 코드 쿤스트)|SINCE\n",
      "Black Mamba|aespa\n",
      "가리온 (Feat. 다이나믹 듀오) (Prod. Primary)|조광일\n",
      "Bad Habits|Ed Sheeran(에드 시런)\n",
      "Tiny Riot|Sam Ryder\n",
      "나비효과|볼빨간사춘기\n",
      "푸르른 계절도 내겐 의미 없어요|정승환\n",
      "가까이 있어서 몰랐어|2am\n",
      "헤픈 우연|헤이즈(Heize)\n",
      "Weekend|태연 (TAEYEON)\n",
      "08베이식 (Feat. 염따, punchnello)|베이식(Basick)\n",
      "오로지 그대|다비치\n",
      "라일락|아이유(IU)\n",
      "Queendom|Red Velvet (레드벨벳)\n",
      "XOXO|전소미\n",
      "오르트구름|윤하(Younha/ユンナ)\n",
      "Shivers|Ed Sheeran(에드 시런)\n",
      "나 그댈위해 시 한편을 쓰겠어|케이시\n",
      "SIGN (Feat. 미란이) (Prod. 코드 쿤스트)|SINCE\n",
      "Cold Blooded|제시(Jessi)\n",
      "어떻게 이별까지 사랑하겠어, 널 사랑하는 거지|AKMU(악뮤)\n",
      "서랍|10CM\n",
      "색안경 (STEREOTYPE)|STAYC(스테이씨)\n",
      "DUMB DUMB|전소미\n",
      "모르겠어|어반자카파\n",
      "바라만 본다|MSG워너비(M.O.M)\n",
      "Easy On Me|Adele(아델)\n",
      "주저하는 연인들을 위해|잔나비\n",
      "고백|멜로망스(MeloMance)\n",
      "B.O.T.B. (Prod. GRAY)|개코\n",
      "Better|보아 (BoA)\n",
      "모든 날, 모든 순간 (Every day, Every Moment)|폴킴(Paul Kim)\n",
      "우산 (feat. 윤하)|에픽하이 (EPIK HIGH)\n",
      "Dun Dun Dance|오마이걸(OH MY GIRL)\n",
      "널 그리워하고 있어|양다일\n",
      "TROUBLE (Prod. Slom)|Zion.T\n"
     ]
    }
   ],
   "source": [
    "songs = soup.select('table.byChart > tbody > tr')\n",
    "for song in songs:\n",
    "    title = song.select('p.title > a')[0].text.strip()\n",
    "    singer = song.select('p.artist > a')[0].text\n",
    "    print(title, singer, sep = '|')"
   ]
  },
  {
   "cell_type": "markdown",
   "id": "a2f51374",
   "metadata": {},
   "source": [
    "#### 크롤링 결과를 엑셀로 저장하기"
   ]
  },
  {
   "cell_type": "markdown",
   "id": "fa7bb7f8",
   "metadata": {},
   "source": [
    "반복문을 이용해 곡과 가수명을 song_data에 저장하기"
   ]
  },
  {
   "cell_type": "code",
   "execution_count": 18,
   "id": "703c470d",
   "metadata": {},
   "outputs": [],
   "source": [
    "song_data = []\n",
    "rank = 1\n",
    "songs = soup.select('table.byChart > tbody > tr')\n",
    "for song in songs:\n",
    "    title = song.select('p.title > a')[0].text\n",
    "    singer = song.select('p.artist > a')[0].text\n",
    "    song_data.append(['Bugs', rank, title, singer])\n",
    "    rank = rank + 1"
   ]
  },
  {
   "cell_type": "markdown",
   "id": "06d81c47",
   "metadata": {},
   "source": [
    "데이터 프레임 만들기 "
   ]
  },
  {
   "cell_type": "code",
   "execution_count": 19,
   "id": "b952fa26",
   "metadata": {},
   "outputs": [
    {
     "name": "stdout",
     "output_type": "stream",
     "text": [
      "<class 'pandas.core.frame.DataFrame'>\n",
      "RangeIndex: 100 entries, 0 to 99\n",
      "Data columns (total 4 columns):\n",
      " #   Column  Non-Null Count  Dtype \n",
      "---  ------  --------------  ----- \n",
      " 0   서비스     100 non-null    object\n",
      " 1   순위      100 non-null    int64 \n",
      " 2   타이틀     100 non-null    object\n",
      " 3   가수      100 non-null    object\n",
      "dtypes: int64(1), object(3)\n",
      "memory usage: 3.2+ KB\n"
     ]
    }
   ],
   "source": [
    "import pandas as pd\n",
    "columns = ['서비스', '순위', '타이틀', '가수']\n",
    "pd_data = pd.DataFrame(song_data, columns = columns)\n",
    "pd_data.info()"
   ]
  },
  {
   "cell_type": "markdown",
   "id": "36765cce",
   "metadata": {},
   "source": [
    "#### 크롤링 결과를 엑셀 파일로 저장하기"
   ]
  },
  {
   "cell_type": "code",
   "execution_count": 20,
   "id": "0ac3c52a",
   "metadata": {},
   "outputs": [],
   "source": [
    "pd_data.to_excel('bugs.xlsx', index=False)"
   ]
  },
  {
   "cell_type": "markdown",
   "id": "a52f0b22",
   "metadata": {},
   "source": [
    "**최종 코드**"
   ]
  },
  {
   "cell_type": "code",
   "execution_count": 24,
   "id": "6c534097",
   "metadata": {},
   "outputs": [
    {
     "name": "stderr",
     "output_type": "stream",
     "text": [
      "C:\\Users\\skygg\\AppData\\Local\\Temp/ipykernel_28008/1064804190.py:5: DeprecationWarning: executable_path has been deprecated, please pass in a Service object\n",
      "  driver = webdriver.Chrome('c:/playwithdata/chromedriver.exe')\n"
     ]
    }
   ],
   "source": [
    "from selenium import webdriver \n",
    "from bs4 import BeautifulSoup \n",
    "import pandas as pd\n",
    "\n",
    "driver = webdriver.Chrome('c:/playwithdata/chromedriver.exe') \n",
    "url = 'https://music.bugs.co.kr/chart'\n",
    "driver.get(url)\n",
    "\n",
    "html = driver.page_source\n",
    "soup = BeautifulSoup(html, 'html.parser')\n",
    "\n",
    "song_data = []\n",
    "rank = 1\n",
    "songs = soup.select('table.byChart > tbody > tr') \n",
    "for song in songs:\n",
    "    title = song.select('p.title > a')[0].text.strip()\n",
    "    singer = song.select('p.artist > a')[0].text \n",
    "    song_data.append(['Bugs', rank, title, singer]) \n",
    "    rank = rank + 1\n",
    "\n",
    "columns = ['서비스', '순위', '타이틀', '가수']\n",
    "pd_data = pd.DataFrame(song_data, columns = columns) \n",
    "pd_data.to_excel('bugs.xlsx', index=False)"
   ]
  },
  {
   "cell_type": "code",
   "execution_count": null,
   "id": "d9a13d06",
   "metadata": {},
   "outputs": [],
   "source": []
  }
 ],
 "metadata": {
  "kernelspec": {
   "display_name": "Python 3 (ipykernel)",
   "language": "python",
   "name": "python3"
  },
  "language_info": {
   "codemirror_mode": {
    "name": "ipython",
    "version": 3
   },
   "file_extension": ".py",
   "mimetype": "text/x-python",
   "name": "python",
   "nbconvert_exporter": "python",
   "pygments_lexer": "ipython3",
   "version": "3.8.12"
  },
  "toc": {
   "base_numbering": "3",
   "nav_menu": {},
   "number_sections": true,
   "sideBar": true,
   "skip_h1_title": false,
   "title_cell": "Table of Contents",
   "title_sidebar": "Contents",
   "toc_cell": false,
   "toc_position": {
    "height": "calc(100% - 180px)",
    "left": "10px",
    "top": "150px",
    "width": "165px"
   },
   "toc_section_display": true,
   "toc_window_display": true
  },
  "varInspector": {
   "cols": {
    "lenName": 16,
    "lenType": 16,
    "lenVar": 40
   },
   "kernels_config": {
    "python": {
     "delete_cmd_postfix": "",
     "delete_cmd_prefix": "del ",
     "library": "var_list.py",
     "varRefreshCmd": "print(var_dic_list())"
    },
    "r": {
     "delete_cmd_postfix": ") ",
     "delete_cmd_prefix": "rm(",
     "library": "var_list.r",
     "varRefreshCmd": "cat(var_dic_list()) "
    }
   },
   "types_to_exclude": [
    "module",
    "function",
    "builtin_function_or_method",
    "instance",
    "_Feature"
   ],
   "window_display": false
  }
 },
 "nbformat": 4,
 "nbformat_minor": 5
}
