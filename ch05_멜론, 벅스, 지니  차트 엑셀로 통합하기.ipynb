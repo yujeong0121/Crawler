{
 "cells": [
  {
   "cell_type": "markdown",
   "id": "5920dbb8",
   "metadata": {},
   "source": [
    "##### 멜론, 벅스, 지니 차트 엑셀 파일로 통합하기"
   ]
  },
  {
   "cell_type": "code",
   "execution_count": 6,
   "id": "6c8975bd",
   "metadata": {},
   "outputs": [],
   "source": [
    "# 엑셀파일 통합하기\n",
    "import pandas as pd\n",
    "excel_names = ['melon.xlsx', 'bugs.xlsx', 'genie.xlsx']\n",
    "appended_data = pd.DataFrame()\n",
    "for name in excel_names:\n",
    "    pd_data = pd.read_excel(name)\n",
    "    appended_data  =appended_data.append(pd_data)"
   ]
  },
  {
   "cell_type": "code",
   "execution_count": 8,
   "id": "6f649aa0",
   "metadata": {},
   "outputs": [
    {
     "name": "stdout",
     "output_type": "stream",
     "text": [
      "<class 'pandas.core.frame.DataFrame'>\n",
      "Int64Index: 250 entries, 0 to 49\n",
      "Data columns (total 4 columns):\n",
      " #   Column  Non-Null Count  Dtype \n",
      "---  ------  --------------  ----- \n",
      " 0   서비스     250 non-null    object\n",
      " 1   순위      250 non-null    int64 \n",
      " 2   타이틀     250 non-null    object\n",
      " 3   가수      250 non-null    object\n",
      "dtypes: int64(1), object(3)\n",
      "memory usage: 9.8+ KB\n"
     ]
    }
   ],
   "source": [
    "# 파일이 통합됐는지 확인하기\n",
    "appended_data.info()"
   ]
  },
  {
   "cell_type": "code",
   "execution_count": 10,
   "id": "4b4ba3c0",
   "metadata": {},
   "outputs": [],
   "source": [
    "# 엑셀 파일로 저장하기\n",
    "appended_data.to_excel('total.xlsx', index = False)"
   ]
  },
  {
   "cell_type": "code",
   "execution_count": null,
   "id": "f4ff890c",
   "metadata": {},
   "outputs": [],
   "source": []
  }
 ],
 "metadata": {
  "kernelspec": {
   "display_name": "Python 3 (ipykernel)",
   "language": "python",
   "name": "python3"
  },
  "language_info": {
   "codemirror_mode": {
    "name": "ipython",
    "version": 3
   },
   "file_extension": ".py",
   "mimetype": "text/x-python",
   "name": "python",
   "nbconvert_exporter": "python",
   "pygments_lexer": "ipython3",
   "version": "3.8.12"
  },
  "toc": {
   "base_numbering": "5",
   "nav_menu": {},
   "number_sections": true,
   "sideBar": true,
   "skip_h1_title": false,
   "title_cell": "Table of Contents",
   "title_sidebar": "Contents",
   "toc_cell": false,
   "toc_position": {
    "height": "calc(100% - 180px)",
    "left": "10px",
    "top": "150px",
    "width": "165px"
   },
   "toc_section_display": true,
   "toc_window_display": true
  },
  "varInspector": {
   "cols": {
    "lenName": 16,
    "lenType": 16,
    "lenVar": 40
   },
   "kernels_config": {
    "python": {
     "delete_cmd_postfix": "",
     "delete_cmd_prefix": "del ",
     "library": "var_list.py",
     "varRefreshCmd": "print(var_dic_list())"
    },
    "r": {
     "delete_cmd_postfix": ") ",
     "delete_cmd_prefix": "rm(",
     "library": "var_list.r",
     "varRefreshCmd": "cat(var_dic_list()) "
    }
   },
   "types_to_exclude": [
    "module",
    "function",
    "builtin_function_or_method",
    "instance",
    "_Feature"
   ],
   "window_display": false
  }
 },
 "nbformat": 4,
 "nbformat_minor": 5
}
