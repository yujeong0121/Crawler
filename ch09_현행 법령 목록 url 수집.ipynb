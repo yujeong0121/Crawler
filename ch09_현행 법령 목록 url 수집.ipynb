{
 "cells": [
  {
   "cell_type": "markdown",
   "id": "6cfa8671",
   "metadata": {},
   "source": [
    "## 현행 법령 목록 url 수집"
   ]
  },
  {
   "cell_type": "markdown",
   "id": "110933f2",
   "metadata": {},
   "source": [
    "#### 준비사항: 국가법령정보 공동활용 사이트(https://open.law.go.kr/LSO/main.do) 에 가입한 후 본인 ip 등록"
   ]
  },
  {
   "cell_type": "code",
   "execution_count": 13,
   "id": "a657219e",
   "metadata": {
    "ExecuteTime": {
     "end_time": "2022-02-25T02:28:32.516583Z",
     "start_time": "2022-02-25T02:28:32.509602Z"
    }
   },
   "outputs": [],
   "source": [
    "# ip 주소 확인\n",
    "# curl ifconfig.me"
   ]
  },
  {
   "cell_type": "code",
   "execution_count": 2,
   "id": "b29d8617",
   "metadata": {
    "ExecuteTime": {
     "end_time": "2022-02-25T02:19:19.167551Z",
     "start_time": "2022-02-25T02:19:18.357705Z"
    }
   },
   "outputs": [],
   "source": [
    "import pandas as pd # 데이터프레임으로 만들어서 csv로 저장하기 위해 사용\n",
    "import xml.etree.ElementTree as ET # xml 문서를 파싱(parsing)하고 검색할 때 사용\n",
    "from urllib.request import urlopen # url을 요청해서 데이터를 받아오기 위해 사용\n",
    "from tqdm import trange #  진행사항 확인을 위한 Progress Bar"
   ]
  },
  {
   "cell_type": "markdown",
   "id": "14e633af",
   "metadata": {},
   "source": [
    "#### url의 OC={본인 아이디} 부분에 국가법령정보 공동활용 사이트에 가입한 아이디를 @빼고 넣어야 페이지 접속 가능"
   ]
  },
  {
   "cell_type": "code",
   "execution_count": 3,
   "id": "2350bda1",
   "metadata": {
    "ExecuteTime": {
     "end_time": "2022-02-25T02:19:20.156438Z",
     "start_time": "2022-02-25T02:19:19.774460Z"
    }
   },
   "outputs": [],
   "source": [
    "url = 'https://www.law.go.kr/DRF/lawSearch.do?OC={본인 아이디}&target=law&type=XML' # url 선언\n",
    "response = urlopen(url).read() # 데이터 받아오기\n",
    "# response"
   ]
  },
  {
   "cell_type": "code",
   "execution_count": 5,
   "id": "3674b6ac",
   "metadata": {
    "ExecuteTime": {
     "end_time": "2022-02-25T02:21:31.309150Z",
     "start_time": "2022-02-25T02:21:31.304163Z"
    }
   },
   "outputs": [],
   "source": [
    "xtree = ET.fromstring(response) # 문자열 값으로 존재하는 경우 fromstring() 메서드에 xml 데이터 문자열을 넘긴다"
   ]
  },
  {
   "cell_type": "code",
   "execution_count": 6,
   "id": "be3770d6",
   "metadata": {
    "ExecuteTime": {
     "end_time": "2022-02-25T02:21:31.998327Z",
     "start_time": "2022-02-25T02:21:31.970402Z"
    }
   },
   "outputs": [
    {
     "data": {
      "text/plain": [
       "5169"
      ]
     },
     "execution_count": 6,
     "metadata": {},
     "output_type": "execute_result"
    }
   ],
   "source": [
    "totalCnt = int(xtree.find('totalCnt').text) # 반복횟수를 정해주기 위해 전체 갯수 확인\n",
    "totalCnt"
   ]
  },
  {
   "cell_type": "code",
   "execution_count": 8,
   "id": "3c7be154",
   "metadata": {
    "ExecuteTime": {
     "end_time": "2022-02-25T02:21:54.186564Z",
     "start_time": "2022-02-25T02:21:54.172603Z"
    }
   },
   "outputs": [],
   "source": [
    "items = xtree[8:] # 파싱할 요소에 접근\n",
    "#items"
   ]
  },
  {
   "cell_type": "code",
   "execution_count": 12,
   "id": "c813ca7e",
   "metadata": {
    "ExecuteTime": {
     "end_time": "2022-02-25T02:22:34.445459Z",
     "start_time": "2022-02-25T02:22:34.428504Z"
    }
   },
   "outputs": [],
   "source": [
    "# 상세링크 text를 받아오는지 확인\n",
    "for node in items:\n",
    "    법령상세링크 = node.find('법령상세링크').text \n",
    "    # print(법령상세링크)"
   ]
  },
  {
   "cell_type": "markdown",
   "id": "d29d0641",
   "metadata": {},
   "source": [
    "### 최종코드"
   ]
  },
  {
   "cell_type": "code",
   "execution_count": null,
   "id": "04b290ed",
   "metadata": {},
   "outputs": [],
   "source": [
    "# 최종 코드\n",
    "url = 'https://www.law.go.kr/DRF/lawSearch.do?OC={본인 아이디}&target=law&type=XML'\n",
    "response = urlopen(url).read()\n",
    "xtree = ET.fromstring(response)\n",
    "\n",
    "totalCnt = int(xtree.find('totalCnt').text)\n",
    "\n",
    "num = 0\n",
    "page = 1\n",
    "rows = []\n",
    "\n",
    "for i in trange(int(totalCnt / 20)):\n",
    "    try:\n",
    "        items = xtree[8:]\n",
    "    except:\n",
    "        break\n",
    "        \n",
    "    for node in items:\n",
    "        num += 1\n",
    "        법령상세링크 = node.find('법령상세링크').text\n",
    "        print(\"순번:\",num, 법령상세링크)\n",
    "\n",
    "        rows.append({'법령상세링크': 법령상세링크})\n",
    "   \n",
    "    page += 1\n",
    "    print(page, \"page\")\n",
    "    url = \"https://www.law.go.kr/DRF/lawSearch.do?OC={본인 아이디}&target=law&page={}&type=XML\".format(page) # 페이지를 바꿔서 파싱\n",
    "    response = urlopen(url).read()\n",
    "    xtree = ET.fromstring(response)\n",
    "urls = pd.DataFrame(rows)\n",
    "urls.to_csv('urls.csv', index=False)"
   ]
  }
 ],
 "metadata": {
  "kernelspec": {
   "display_name": "Python 3 (ipykernel)",
   "language": "python",
   "name": "python3"
  },
  "language_info": {
   "codemirror_mode": {
    "name": "ipython",
    "version": 3
   },
   "file_extension": ".py",
   "mimetype": "text/x-python",
   "name": "python",
   "nbconvert_exporter": "python",
   "pygments_lexer": "ipython3",
   "version": "3.8.12"
  },
  "toc": {
   "base_numbering": 1,
   "nav_menu": {},
   "number_sections": false,
   "sideBar": true,
   "skip_h1_title": false,
   "title_cell": "Table of Contents",
   "title_sidebar": "Contents",
   "toc_cell": false,
   "toc_position": {
    "height": "calc(100% - 180px)",
    "left": "10px",
    "top": "150px",
    "width": "165px"
   },
   "toc_section_display": true,
   "toc_window_display": false
  },
  "varInspector": {
   "cols": {
    "lenName": 16,
    "lenType": 16,
    "lenVar": 40
   },
   "kernels_config": {
    "python": {
     "delete_cmd_postfix": "",
     "delete_cmd_prefix": "del ",
     "library": "var_list.py",
     "varRefreshCmd": "print(var_dic_list())"
    },
    "r": {
     "delete_cmd_postfix": ") ",
     "delete_cmd_prefix": "rm(",
     "library": "var_list.r",
     "varRefreshCmd": "cat(var_dic_list()) "
    }
   },
   "types_to_exclude": [
    "module",
    "function",
    "builtin_function_or_method",
    "instance",
    "_Feature"
   ],
   "window_display": false
  }
 },
 "nbformat": 4,
 "nbformat_minor": 5
}
