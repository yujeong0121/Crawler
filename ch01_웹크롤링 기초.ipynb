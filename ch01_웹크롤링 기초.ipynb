{
 "cells": [
  {
   "cell_type": "markdown",
   "id": "8d7440a4",
   "metadata": {},
   "source": [
    "**사전준비**\n",
    "\n",
    "- ```2021.12.11 version```
    "- selenium 설치: ```!pip install selenium```   \n",
    "\n",
    "- 웹브라우저 제어를 위한 크롬드라이버 설치 https://sites.google.com/a/chromium.org/chromedriver/downloads"
   ]
  },
  {
   "cell_type": "markdown",
   "id": "0c34e560",
   "metadata": {},
   "source": [
    "#### 크롬브라우저 실행"
   ]
  },
  {
   "cell_type": "code",
   "execution_count": 1,
   "id": "2eef6857",
   "metadata": {},
   "outputs": [],
   "source": [
    "from selenium import webdriver\n",
    "driver = webdriver.Chrome('c:/Users/data_test/chromedriver.exe')"
   ]
  },
  {
   "cell_type": "markdown",
   "id": "ff341574",
   "metadata": {},
   "source": [
    "#### 웹 페이지 접속"
   ]
  },
  {
   "cell_type": "code",
   "execution_count": 9,
   "id": "2be3785d",
   "metadata": {},
   "outputs": [],
   "source": [
    "url = 'https://www.naver.com'\n",
    "driver.get(url)"
   ]
  },
  {
   "cell_type": "markdown",
   "id": "950e1582",
   "metadata": {},
   "source": [
    "####  웹 페이지(HTML) 다운로드"
   ]
  },
  {
   "cell_type": "code",
   "execution_count": 17,
   "id": "94114372",
   "metadata": {},
   "outputs": [],
   "source": [
    "html = driver.page_source"
   ]
  },
  {
   "cell_type": "markdown",
   "id": "c879ed43",
   "metadata": {},
   "source": [
    "####  BeautifulSoup을 이용한 정보 찾기"
   ]
  },
  {
   "cell_type": "code",
   "execution_count": 24,
   "id": "dc64f0d2",
   "metadata": {},
   "outputs": [],
   "source": [
    "# 실습용 HTML\n",
    "html = '''\n",
    "<html>\n",
    "    <head>\n",
    "    </head>\n",
    "    <body>\n",
    "        <h1> 우리동네시장</h1>\n",
    "            <div class = 'sale'>\n",
    "                <p id='fruits1' class='fruits'>\n",
    "                    <span class = 'name'> 바나나 </span>\n",
    "                    <span class = 'price'> 3000원 </span>\n",
    "                    <span class = 'inventory'> 500개 </span>\n",
    "                    <span class = 'store'> 가나다상회 </span>\n",
    "                    <a href = 'http://bit.ly/forPlaywithData' > 홈페이지 </a>\n",
    "                </p>\n",
    "            </div>\n",
    "            <div class = 'prepare'>\n",
    "                <p id='fruits2' class='fruits'>\n",
    "                    <span class ='name'> 파인애플 </span>\n",
    "                </p>\n",
    "            </div>\n",
    "    </body>\n",
    "</html>\n",
    "'''"
   ]
  },
  {
   "cell_type": "code",
   "execution_count": 25,
   "id": "daf3e82d",
   "metadata": {},
   "outputs": [],
   "source": [
    "# HTML 문자열 BeautifulSoup 으로 해석하기\n",
    "from bs4 import BeautifulSoup\n",
    "soup = BeautifulSoup(html, 'html.parser')"
   ]
  },
  {
   "cell_type": "markdown",
   "id": "ec976b73",
   "metadata": {},
   "source": [
    "#### HTML 정보 찾기\n",
    "- soup.select('조건')\n",
    "\n",
    "① - 태그 속성 활용"
   ]
  },
  {
   "cell_type": "code",
   "execution_count": 21,
   "id": "3f7b8675",
   "metadata": {},
   "outputs": [],
   "source": [
    "# 태그명으로 찾기\n",
    "tags_span = soup.select('span')\n",
    "tags_p = soup.select('p')"
   ]
  },
  {
   "cell_type": "code",
   "execution_count": 22,
   "id": "72198470",
   "metadata": {},
   "outputs": [],
   "source": [
    "# id와 class로 태그 찾기\n",
    "ids_fruits1 = soup.select('#fruits1') #  #id값\n",
    "class_price = soup.select('.price') # .class명\n",
    "tags_span_class_price = soup.select('span.price') # 태그명과 class명 조건을 함께 지정"
   ]
  },
  {
   "cell_type": "markdown",
   "id": "8aea3548",
   "metadata": {},
   "source": [
    "class 속성은 글꼴, 배경색 등의 서식을 지정하기 위해 사용되며, HTML 내에서 동일한 class명이 여러 번 사용될 수 있다.\n",
    "id값은 특정 대상을 지정하기 위해 사용되므로 HTML 내에서 한 번만 사용가능하다. 따라서 id값을 잘 활용하면 특정 태그를 쉽게 찾을 수 있다."
   ]
  },
  {
   "cell_type": "markdown",
   "id": "4bde1cf5",
   "metadata": {},
   "source": [
    "② - 상위 구조 활용"
   ]
  },
  {
   "cell_type": "code",
   "execution_count": 26,
   "id": "584deee0",
   "metadata": {},
   "outputs": [
    {
     "name": "stdout",
     "output_type": "stream",
     "text": [
      "[<span class=\"name\"> 바나나 </span>, <span class=\"name\"> 파인애플 </span>]\n"
     ]
    }
   ],
   "source": [
    "# 태그 구조로 위치 찾기①\n",
    "tags_name = soup.select('span.name')\n",
    "print(tags_name)"
   ]
  },
  {
   "cell_type": "code",
   "execution_count": 27,
   "id": "2aae29cb",
   "metadata": {},
   "outputs": [
    {
     "name": "stdout",
     "output_type": "stream",
     "text": [
      "[<span class=\"name\"> 바나나 </span>]\n"
     ]
    }
   ],
   "source": [
    "# 태그 구조로 위치 찾기②\n",
    "tags_banana1 = soup.select('#fruits1 > span.name')\n",
    "print(tags_banana1)"
   ]
  },
  {
   "cell_type": "code",
   "execution_count": 30,
   "id": "df92f87f",
   "metadata": {},
   "outputs": [
    {
     "name": "stdout",
     "output_type": "stream",
     "text": [
      "[<span class=\"name\"> 바나나 </span>]\n",
      "[<span class=\"name\"> 바나나 </span>]\n"
     ]
    }
   ],
   "source": [
    "# 태그 구조로 위치 찾기③\n",
    "tags_banana2 = soup.select('div.sale > #fruits1 > span.name') #상위태그1 > 상위태그2> 상위태그2 아래 태그\n",
    "tags_banana3 = soup.select('div.sale  span.name')\n",
    "print(tags_banana2)\n",
    "print(tags_banana3)"
   ]
  },
  {
   "cell_type": "markdown",
   "id": "9c9ab8bd",
   "metadata": {},
   "source": [
    "#### 정보 가져오기 \n",
    "① - 태그 그룹에서 하나의 태그 선택하기"
   ]
  },
  {
   "cell_type": "code",
   "execution_count": 31,
   "id": "0ed85e76",
   "metadata": {},
   "outputs": [
    {
     "name": "stdout",
     "output_type": "stream",
     "text": [
      "<span class=\"name\"> 바나나 </span>\n"
     ]
    }
   ],
   "source": [
    "# 태그 그룹에서 하나의 태그만 선택하기\n",
    "tags = soup.select('span.name')\n",
    "tag_1 = tags[0]    #인덱스 번호로 하나의 태그 지정하기\n",
    "print(tag_1)"
   ]
  },
  {
   "cell_type": "code",
   "execution_count": 33,
   "id": "8bff24af",
   "metadata": {},
   "outputs": [
    {
     "name": "stdout",
     "output_type": "stream",
     "text": [
      "<span class=\"name\"> 바나나 </span>\n",
      "<span class=\"name\"> 파인애플 </span>\n"
     ]
    }
   ],
   "source": [
    "# 태그 그룹에서 반복문으로 태그 하나씩 선택하기\n",
    "tags = soup.select('span.name')\n",
    "for tag in tags:     \n",
    "    print(tag)"
   ]
  },
  {
   "cell_type": "markdown",
   "id": "e318b143",
   "metadata": {},
   "source": [
    "② - 선택한 태그에서 정보 가져오기"
   ]
  },
  {
   "cell_type": "code",
   "execution_count": 36,
   "id": "06e7f334",
   "metadata": {},
   "outputs": [
    {
     "name": "stdout",
     "output_type": "stream",
     "text": [
      " 홈페이지 \n",
      "http://bit.ly/forPlaywithData\n"
     ]
    }
   ],
   "source": [
    "tags = soup.select('a') # soup에서 태그명이 a인 태그 모두 선택\n",
    "tag = tags[0] # 그중 첫 번째 원소를 선택해서 변수에 저장\n",
    "content = tag.text # 테그에서 화면에 보이는 텍스트 부분만 가져오기\n",
    "print(content)\n",
    "link = tag['href'] # 태그 내 href 속성값 변수에 저장\n",
    "print(link)"
   ]
  }
 ],
 "metadata": {
  "kernelspec": {
   "display_name": "Python 3 (ipykernel)",
   "language": "python",
   "name": "python3"
  },
  "language_info": {
   "codemirror_mode": {
    "name": "ipython",
    "version": 3
   },
   "file_extension": ".py",
   "mimetype": "text/x-python",
   "name": "python",
   "nbconvert_exporter": "python",
   "pygments_lexer": "ipython3",
   "version": "3.8.12"
  },
  "toc": {
   "base_numbering": 1,
   "nav_menu": {},
   "number_sections": true,
   "sideBar": true,
   "skip_h1_title": false,
   "title_cell": "Table of Contents",
   "title_sidebar": "Contents",
   "toc_cell": false,
   "toc_position": {},
   "toc_section_display": true,
   "toc_window_display": false
  },
  "varInspector": {
   "cols": {
    "lenName": 16,
    "lenType": 16,
    "lenVar": 40
   },
   "kernels_config": {
    "python": {
     "delete_cmd_postfix": "",
     "delete_cmd_prefix": "del ",
     "library": "var_list.py",
     "varRefreshCmd": "print(var_dic_list())"
    },
    "r": {
     "delete_cmd_postfix": ") ",
     "delete_cmd_prefix": "rm(",
     "library": "var_list.r",
     "varRefreshCmd": "cat(var_dic_list()) "
    }
   },
   "types_to_exclude": [
    "module",
    "function",
    "builtin_function_or_method",
    "instance",
    "_Feature"
   ],
   "window_display": false
  }
 },
 "nbformat": 4,
 "nbformat_minor": 5
}
