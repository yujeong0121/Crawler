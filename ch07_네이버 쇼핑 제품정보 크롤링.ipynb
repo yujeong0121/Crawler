{
 "cells": [
  {
   "cell_type": "markdown",
   "id": "f7e07a2f",
   "metadata": {},
   "source": [
    "[스타트코딩의 이것이 진짜 크롤링이다 유튜브 영상을 보고 실습, 응용 해본 자료입니다.](https://www.youtube.com/watch?v=qRU94vtUb7c&list=PLNO7MWpu0eeUFdGMirV8_EkiLETqj8xA4&index=9)\n",
    "\n",
    "```작성일: 2022.01.08``` \n",
    "```작성자: 박유정```\n"
   ]
  },
  {
   "cell_type": "markdown",
   "id": "1a12ae70",
   "metadata": {},
   "source": [
    "목표: 네이버 쇼핑 홈페이지에서 상품정보와 리뷰 데이터를 가져오기   \n",
    "\n",
    "크롤링 로직\n",
    "1. 네이버 쇼핑 홈페이지에 접속한다.\n",
    "2. 검색어 입력창을 선택한다.\n",
    "3. 검색어를 입력한다.\n",
    "4. 엔터를 누른다.\n",
    "5. 스크롤을 끝까지 내린다. (일정 범위까지만 내릴 수도 있음)\n",
    "6. 제품정보 레이아웃을 선택한다.\n",
    "7. 원하는 제품 정보 요소들을 선택한다. 제품명, 가격, 상세 페이지 URL 등)\n",
    "8. 제품 정보를 저장할 csv 파일을 연다.\n",
    "9. for문을 통해 제품별 정보를 리스트 형태로 가져온다.\n",
    "10. csv 파일로 저장한다."
   ]
  },
  {
   "cell_type": "markdown",
   "id": "82448da5",
   "metadata": {},
   "source": [
    "# 라이브러리 가져오기"
   ]
  },
  {
   "cell_type": "code",
   "execution_count": 17,
   "id": "3b9ba67d",
   "metadata": {
    "ExecuteTime": {
     "end_time": "2022-01-07T19:15:33.088041Z",
     "start_time": "2022-01-07T19:15:33.070089Z"
    }
   },
   "outputs": [],
   "source": [
    "# 크롤링 모듈 임포트\n",
    "from selenium import webdriver\n",
    "from selenium.webdriver.common.keys import Keys\n",
    "from bs4 import BeautifulSoup\n",
    "import pandas as pd\n",
    "import time\n",
    "import csv\n",
    "import urllib.request\n",
    "import openpyxl"
   ]
  },
  {
   "cell_type": "markdown",
   "id": "d5d9e420",
   "metadata": {},
   "source": [
    "# 웹 브라우저 열기"
   ]
  },
  {
   "cell_type": "markdown",
   "id": "c2c12161",
   "metadata": {},
   "source": [
    "- browser.get(): url 주소 받아서 열기"
   ]
  },
  {
   "cell_type": "code",
   "execution_count": 6,
   "id": "0e430a47",
   "metadata": {
    "ExecuteTime": {
     "end_time": "2022-01-07T18:56:29.536543Z",
     "start_time": "2022-01-07T18:56:26.851720Z"
    }
   },
   "outputs": [
    {
     "name": "stderr",
     "output_type": "stream",
     "text": [
      "C:\\Users\\skygg\\AppData\\Local\\Temp/ipykernel_4368/4268051727.py:2: DeprecationWarning: executable_path has been deprecated, please pass in a Service object\n",
      "  browser = webdriver.Chrome('C:/Users/data_test/chromedriver.exe')\n"
     ]
    }
   ],
   "source": [
    "#  브라우저 생성\n",
    "browser = webdriver.Chrome('C:/Users/data_test/chromedriver.exe')\n",
    "\n",
    "# 접속할 페이지 주소 입력\n",
    "url = \"https://shopping.naver.com/home/p/index.naver\"\n",
    "\n",
    "# 웹사이트 열기\n",
    "browser.get(url)"
   ]
  },
  {
   "cell_type": "markdown",
   "id": "234ca821",
   "metadata": {},
   "source": [
    "# 제품을 검색하고 제품정보 수집하기"
   ]
  },
  {
   "cell_type": "markdown",
   "id": "472fa8f2",
   "metadata": {},
   "source": [
    "## 검색창 선택\n",
    "- find_element_by_css_selector(): 요소 찾기, 여기에서는 검색어 입력창\n",
    "- click(): 해당 영역 클릭"
   ]
  },
  {
   "cell_type": "code",
   "execution_count": 7,
   "id": "b20937b7",
   "metadata": {
    "ExecuteTime": {
     "end_time": "2022-01-07T18:56:34.505258Z",
     "start_time": "2022-01-07T18:56:32.317108Z"
    }
   },
   "outputs": [
    {
     "name": "stderr",
     "output_type": "stream",
     "text": [
      "C:\\Users\\skygg\\AppData\\Local\\Temp/ipykernel_4368/4067961810.py:2: DeprecationWarning: find_element_by_* commands are deprecated. Please use find_element() instead\n",
      "  search = browser.find_element_by_css_selector(\"input.co_srh_input._input\")\n"
     ]
    }
   ],
   "source": [
    "# 검색창 클릭\n",
    "search = browser.find_element_by_css_selector(\"input.co_srh_input._input\")\n",
    "time.sleep(2) # 브라우저가 뜨는 시간을 기다려줘야 함\n",
    "search.click()"
   ]
  },
  {
   "cell_type": "markdown",
   "id": "9d73f0d9",
   "metadata": {},
   "source": [
    "## 검색창에 인자 전달하기 "
   ]
  },
  {
   "cell_type": "markdown",
   "id": "c6b48756",
   "metadata": {},
   "source": [
    "- send_keys(): 검색어나 키보드의 키를 PC에 전달"
   ]
  },
  {
   "cell_type": "markdown",
   "id": "ae7498c0",
   "metadata": {},
   "source": [
    "- 전달할 수 있는 키보드 키값\n",
    "> Kyes.ENTER, Keys.ARROW_DOWN, Keys.ARROW_LEFT, Keys.ARROW_RIGHT, Keys.ARROW_UP,\n",
    "Keys.BACK_SPACE, Keys.CONTROL, Keys.ALT, Keys.DELETE, Keys.TAB, Keys.SPACE,\n",
    "Keys.SHIFT, Keys.EQUALS, Keys.ESCAPE, Keys.HOME, Keys.INSERT, Keys.PAGE_UP,\n",
    "Keys.PAGE_DOWN,Keys.F1, Keys.F2, Keys.F3, Keys.F4, Keys.F5, Keys.F6, Keys.F7,\n",
    "Keys.F8, Keys.F9 Keys.F10, Keys.F11, Keys.F12"
   ]
  },
  {
   "cell_type": "code",
   "execution_count": 8,
   "id": "9af03b12",
   "metadata": {
    "ExecuteTime": {
     "end_time": "2022-01-07T18:56:41.611259Z",
     "start_time": "2022-01-07T18:56:36.085034Z"
    },
    "scrolled": true
   },
   "outputs": [
    {
     "name": "stdout",
     "output_type": "stream",
     "text": [
      "검색어를 입력하세요:무선 청소기\n"
     ]
    }
   ],
   "source": [
    "# 검색어 입력\n",
    "keyword = input('검색어를 입력하세요:')\n",
    "search.send_keys(keyword)\n",
    "\n",
    "# ENTER 누르기\n",
    "search.send_keys(Keys.ENTER)"
   ]
  },
  {
   "cell_type": "markdown",
   "id": "78d7c42f",
   "metadata": {},
   "source": [
    "## 스크롤 내리기"
   ]
  },
  {
   "cell_type": "markdown",
   "id": "0703b7ff",
   "metadata": {},
   "source": [
    "fn + F12(개발자 도구) -> Console -> window.scrollY 명령어를 실행시켜보세요. 현재 스크롤된 높이를 반환합니다.\n",
    "- window.scrollY: 스크롤된 높이를 알 수 있는 자바스크립트 명령어\n",
    "- execute_script(): 자바스크립트 명령어 실행\n",
    "- body: HTML 태그, 브라우저에서 모든 콘텐츠를 포함하는 영역"
   ]
  },
  {
   "cell_type": "code",
   "execution_count": 9,
   "id": "b910e093",
   "metadata": {
    "ExecuteTime": {
     "end_time": "2022-01-07T18:57:01.166976Z",
     "start_time": "2022-01-07T18:56:46.669734Z"
    }
   },
   "outputs": [
    {
     "name": "stderr",
     "output_type": "stream",
     "text": [
      "C:\\Users\\skygg\\AppData\\Local\\Temp/ipykernel_4368/2655887189.py:7: DeprecationWarning: find_element_by_* commands are deprecated. Please use find_element() instead\n",
      "  browser.find_element_by_css_selector(\"body\").send_keys(Keys.END)\n"
     ]
    }
   ],
   "source": [
    "# 스크롤 전 높이\n",
    "before_h = browser.execute_script(\"return window.scrollY\")\n",
    "\n",
    "# 무한 스크롤\n",
    "while True:\n",
    "    # 맨 아래로 스크롤을 내린다.\n",
    "    browser.find_element_by_css_selector(\"body\").send_keys(Keys.END)\n",
    "    \n",
    "    # 스크롤 사이 페이지 로딩을 기다림\n",
    "    time.sleep(2)\n",
    "    \n",
    "    # 스크롤 후 높이\n",
    "    after_h = browser.execute_script(\"return window.scrollY\")\n",
    "    \n",
    "    if after_h == before_h: # 끝까지 다 내렸다면\n",
    "        break # 스크롤 그만\n",
    "    before_h = after_h"
   ]
  },
  {
   "cell_type": "markdown",
   "id": "687c2590",
   "metadata": {},
   "source": [
    "## 제품정보를 리스트 형태로 가져오고 파일에 쓰기"
   ]
  },
  {
   "cell_type": "markdown",
   "id": "2ed0b48f",
   "metadata": {},
   "source": [
    "※ 유의할 점\n",
    "- driver.find_element_by_css_selector(): 찾는 css가 1개 일 때\n",
    "- driver.find_elements_by_css_selector(): 찾는 css가 여러개 일 때\n",
    "- text: 텍스트 정보 가져오기\n",
    "- get_attribute(): 속성값 가져오기"
   ]
  },
  {
   "cell_type": "code",
   "execution_count": 20,
   "id": "42a5d25e",
   "metadata": {
    "ExecuteTime": {
     "end_time": "2022-01-07T19:18:16.402776Z",
     "start_time": "2022-01-07T19:18:07.027840Z"
    }
   },
   "outputs": [
    {
     "name": "stderr",
     "output_type": "stream",
     "text": [
      "C:\\Users\\skygg\\AppData\\Local\\Temp/ipykernel_4368/3457409356.py:5: DeprecationWarning: find_elements_by_* commands are deprecated. Please use find_elements() instead\n",
      "  items = browser.find_elements_by_css_selector(\".basicList_info_area__17Xyo\")\n",
      "C:\\Users\\skygg\\AppData\\Local\\Temp/ipykernel_4368/3457409356.py:14: DeprecationWarning: find_element_by_* commands are deprecated. Please use find_element() instead\n",
      "  category1 = browser.find_element_by_css_selector(\"div.basicList_depth__2QIie > a:nth-child(2)\").text # 대분류\n",
      "C:\\Users\\skygg\\AppData\\Local\\Temp/ipykernel_4368/3457409356.py:15: DeprecationWarning: find_element_by_* commands are deprecated. Please use find_element() instead\n",
      "  category2 = browser.find_element_by_css_selector(\"div.basicList_depth__2QIie > a:nth-child(3)\").text # 중분류\n",
      "C:\\Users\\skygg\\AppData\\Local\\Temp/ipykernel_4368/3457409356.py:16: DeprecationWarning: find_element_by_* commands are deprecated. Please use find_element() instead\n",
      "  category3 = browser.find_element_by_css_selector(\"div.basicList_depth__2QIie > a:nth-child(4)\").text # 소분류\n",
      "C:\\Users\\skygg\\AppData\\Local\\Temp/ipykernel_4368/3457409356.py:17: DeprecationWarning: find_element_by_* commands are deprecated. Please use find_element() instead\n",
      "  product_features = browser.find_element_by_css_selector(\".basicList_detail_box__3ta3h \").text # 제품 특징\n"
     ]
    },
    {
     "name": "stdout",
     "output_type": "stream",
     "text": [
      "로이드미 X30 Pro 469,410원 생활가전 청소기 무선청소기 품목 : 핸디스틱청소기|형태 : 상중심|집진방식 : 싸이클론|사용시간 : 1시간10분|청소방식 : 흡입전용|충전시간 : 2시간30분|배터리용량 : 2,500mAh|배터리종류 : 리튬이온|, , , , , , , https://adcr.naver.com/adcr?x=PzCdSeg8KgL75g2k89w0Sf///w==kieSDHHaMC6sIVvgzQSiFPtOOwtWZ6oKlSefCzZlzn9LRJIm2tTjZQdoi+Q3AIt6DRlYf/KEQPWqFqJ+tQyASqoEuwN9MxjS0wKCwgezHReLO8PqSZQoRENi1DRm9/4rMgNo0sLaGr1mOW6/5PjV7UvZmf/pCy33HneneB1KFGMVje6eoTyrpDglVibq/dChtfNF5W5rBFp9p/3HyippBjmk/cpi0Yz/4RsLAi16o6194JUc6qhZZmgtTw9iyxcNjwz4Mzxf0KKleYBrQHCfEpj3ie1WU3YXhWYBR6XDGpUS3YMJGKC2vodiF0NAPmol0IFgD2TCgFhDvi7woA+e2/RMSiLKzxlbZHB4uk+VB1bv5s8WCpxNYXI5cMI7SllUZy5PdPFsy1gofbkxrqFjvSM7jHKgcJrICIu2PzULLEcuJKT3Qu+BUG/HAERV16+j1nccCWoSds2QZWxQ1OyqjZ6eUVmrXzF0N1KnYfdywe3DgNL4fVPF2uc84pYUHn0nOOmvcJ+K7ZAKTIXdrRKyaF8oVgyRVMTKBLYrDdsTZ9ePpkk2ka9f6XC0A/M3PfZ0bbfi5chSE0HKIlM8WBfxjdanoa62jSEdmyMkz7yjJ5/9z2iAwMB/sDDKwSRIe1oSCAM+dLeZ3LhveUgFCs1inaLiaCF+2+wh30Vsr77kjN+1R6PlsOQZ2OKagazQQhA/OLgbZ3fx8crKEBupBvriQy0m0l4gKi/1H1RDZoIKsnP89bs47wdA6Rp2k1KsUKg+jJToe0AlDYjV2raMLSzAaqiFrPwQxrr8JcKGDevc9dkM=\n",
      "로이드미 S2 337,630원 생활가전 청소기 무선청소기 품목 : 핸디스틱청소기|형태 : 상중심|집진방식 : 싸이클론|사용시간 : 1시간10분|청소방식 : 흡입전용|충전시간 : 2시간30분|배터리용량 : 2,500mAh|배터리종류 : 리튬이온|, , , , , , , https://adcr.naver.com/adcr?x=+iWVZ/jDaq49a9LFA2+Hgv///w==kYZvNUT9jZ8MmnOzyfoZ1hs7z5Lne2RyBs/zBhqdgaMw74O9RL9yIDY0s9Ssxg6TPkNkc+99RZnyjpQjOqKjSYxdYQc52uWTC7scE46mM2l1vkeJfs9rLOC9/TOblsQgfNcmZS2aLGu9zGHFYpMlUyqcM6o4O3sRQM/wXbdpxun2APeZM7H7UinNm96tSshdCTRKpno7kPHB+5mfU77wiFXtvwmJtQuVUBGEPv/4K+HCR+sYgI5ULv5HF3IPCwdElEabp2NLqBG9ZFbNzaTFsJbNqeK+d/XvNa6lalg8MWWhzprk4aTRrLo4rM8lrRWW4RCE8xjidb/TzpdKMsBXq7jCvTaUDKqfA+3sPoPXiRIevkmiYX6FLlHw+z7X0zZbY65veZsXGcthzB0qJIuK5mp2SwibrGTvp+aNtUT8alS9DgQJhAD59mSxVIAus0iWcdZ1GyhAxgxxr/mMaNkzwq66ynLlT9GsAoTS+XGtEYezasOCZyk3QJ/sjsdXRUeBI8xZMdtYS0eTvQ0kDm0lDMX5+dVrvbUMS74gpv3IrKRMuxV/iLu/WJaRjcGPvN5zWoIllLcFo7X2p7tbRkLmHN50KV1KdZ9sgznlU8EsOkJdZqRxkmwQAV1vIJ+KYAnwMYG84biiSMqvLPG4GGcTLegU7EEVgzC1n0zLchofpWCOzrnXIVOZNfDP9QNT/WR1PTrACV2k6CKMV4tVgEh4mH90GWBPRaORWROozTBGBpe2tw7Ngqdq2rE5/jTjLut7jX+ln6qsD/AVlDHkkiumL287MUI/UTijYVsayxmjmacs=\n",
      "보만 WC1720W 178,930원 생활가전 청소기 무선청소기 품목 : 핸디스틱청소기|형태 : 상중심|집진방식 : 싸이클론|사용시간 : 1시간10분|청소방식 : 흡입전용|충전시간 : 2시간30분|배터리용량 : 2,500mAh|배터리종류 : 리튬이온|, , , , , , , https://adcr.naver.com/adcr?x=HpPMrz9X5nGLaPVeZSiq9P///w==kCeybn0C1IT+ylmY6iUnQTHyPGv6i2aBSHsQA3mAWVxuf7LaxtklCiNxvnQZv36oIVM3bGGujU9bAv8M2aSd/O+4jWH5tSY3aRxsn3WRIgF0dKXj1uFo6hcxwz6++WWaKFCzxGsURyJZZ3lp7gQibd8gH6ox4i5Qrit2KcKqKOAr3+r4iZP1WwVLPY0T3KkYQ18InB8eEaJ631LRr9gkPTj/92DD7jVvjWTnEdVaCvXRLwhnRiKE1xCnd/7ny/tCtdh/P3Pzeyn7jKnJFkYkm5S95612mftlg3OXpu/520Mm7jaEzRkgVmmgGPO/kArkUBcziGBr0qLXdpakdKoGW9bIAIaQLodqp8sSQ0pMH2l5CkFepoxLyRL6UGreHUFvARjXSwF918DGhgvm+y6uqLr1KXo3HaFfqB2qiVEQee25K4Z12E6qF2KYPJ8qtOeDsOo0av2Eowq+zt0cEjEkds77xeoh7PA/cr4B8doJFxHorA/omLdtWhHvv5gWw4jlm7NJbBZnDHk7L88O7dnkWA2G494+55Gphq7hXmU/C0xP1Krqq/9zP6g7FenpfUrCMB7I83B9tOYJUASkpUGK54n/cKpgHpYx4uqLl1tTKV4lQMHsxtVOC/5/AwKVYSZJIzl85b09ToJgd2thePJdbUdduizGo5iPMXAY4x+fsVfbwnssZ11yPaSzyaNPL8sQi79bgm5QGcDTGnW/PkhKcLzIa3Ht9M09gkQkUeSJYoONc7PTFtmN0r9WydyhFGZsun54AjxQQ9lvWwbosqs5a5JB4u3CcZeXBZ4uvoxNTk/1/781fkH4XWc4e58YIQ6ot\n",
      "피디케이전자 스마트에버 S250W 115,000원 생활가전 청소기 무선청소기 품목 : 핸디스틱청소기|형태 : 상중심|집진방식 : 싸이클론|사용시간 : 1시간10분|청소방식 : 흡입전용|충전시간 : 2시간30분|배터리용량 : 2,500mAh|배터리종류 : 리튬이온|, , , , , , , https://cr.shopping.naver.com/adcr.nhn?x=l5pTwdmGzsZn7fceliBWO%2F%2F%2F%2Fw%3D%3DsZR1YckX%2FGbo0jrIuh%2FgXT0zPxcJFSfFwvfAsVO3rFbCJ5ltDmER3oclazeOpToBHmQz4TnpuGNLutNi3IqaI9QOZ%2FmMj6esRGVC5ZmRSFvVQm4SLs3i%2FjGGPR43wmWtwFGhnHFn6I2VJH6fQb%2FD%2BstyGaSr%2B0dRu37W7MMIB4NFk9Io6iZoAfEBQfsbkhBMBJQYfw3RmjcYJ5oDgOg87yMZuLVcqUIMnXU3imZ0rDIpjhT3q51gOqoSu%2FQESHdAPjis8avLprLsNKR2b4t3hAVWUgCnMWAAqDjgi4wBmkEsYYDUUxQlBVqXtVrGEeR0ehmeWtJmvw8M90EK%2Bzy5a1yVdN3LpKf%2FbKuiZi7z1XJQvoDeQw7hA8AK4rD6iO2j8mcxQuyYhekhaORwatUSaQFd%2BqILAG09hjAR1K3qLYkDMg%2FKbLjqEUKJ5VBDmGlCS5EVcHzFRAijUTVQYUxw4eIhMX6fVppO9fOISr%2FgzGe8g1kRGyBQM%2BnDqwA8PegrOiFkPf4%2Bo3sLzsJAzE0B9OIdgSLtJx2E%2BRiZM57sRDrKIDf9TYDOC4LzgCehLsur5RKW5PpCJgb%2FJMcyWdCLuWWA0kJ0w4S9HocOTX2fKmOLNjqh%2FZemCCOboDhnweAmG&nvMid=22568577502&catId=50002350\n",
      "아이닉 차이슨 i20 188,000원 생활가전 청소기 무선청소기 품목 : 핸디스틱청소기|형태 : 상중심|집진방식 : 싸이클론|사용시간 : 1시간10분|청소방식 : 흡입전용|충전시간 : 2시간30분|배터리용량 : 2,500mAh|배터리종류 : 리튬이온|, , , , , , , https://cr.shopping.naver.com/adcr.nhn?x=%2B3Sct8aV1rAn1N0wS1uxt%2F%2F%2F%2Fw%3D%3DszKCpbtRkrSVHxQ1iDKmTv21NCDp1Wh5p1E3M%2FTYLqPLcWa1uN%2F636BLk8rOR8TVpBLRfRjFkDg3UaJpK7jy%2F7s%2BkfSA8srv1%2FgmwJp31tnnc%2FADMtLd4uUbbF506MQyrXkMA50ID08VgNY8fGpJRgkls1M9xucXxkPPt7QTmSRFr6kdrp7BvT8OlwZ7P37Yy1VOWZ4XhukUToZXSqSbZ8IXBw97DJ9W%2BD9BNS9bg%2BTazno%2Ff3So1GyCo2bMqYmbM0U%2BCaKEcg%2FZL04sYIlV4Qrz4hwEfbXMvOBKoVSTtVCydLIHXBNFPBygwKLL17UsQA5ijqTU6jnRNRTh%2BkUVsAgez%2FY8eSma9aMvarLWce5tECHOmCWue%2BUEaaUhHMi6Hus2wNFcrs09sUQIW%2Bg9UrmQim0uSGV45GygZvcFQrpAg8WqerZx6idkGz9OU%2FVb6%2BoEzjQ2UM%2FLUE5cDhgD5%2FEqxorqzO%2BBGjlflcLUedbJKenO78Vz%2FkIddHG%2FMduQf8jR8gVF8FlQ9pItE8Zzc8rE8%2BJOU%2FwjM5h0uKNppPLlF2QyaBZ0RBY4T2XUVZdOE%2BgtF15PMkmjkNDmi88yMRbWEmkXDZuKGtISFAfjfxSUpPavMWY3zit27JT%2F34JTrhWw3%2BIByOa0jCVNQVnCDoA%3D%3D&nvMid=22764062329&catId=50002350\n",
      "아이닉 차이슨 i20 엘리트 138,000원 생활가전 청소기 무선청소기 품목 : 핸디스틱청소기|형태 : 상중심|집진방식 : 싸이클론|사용시간 : 1시간10분|청소방식 : 흡입전용|충전시간 : 2시간30분|배터리용량 : 2,500mAh|배터리종류 : 리튬이온|, , , , , , , https://cr.shopping.naver.com/adcr.nhn?x=ynvUEGVbFJnkgUSRfj32Zv%2F%2F%2Fw%3D%3Dsey241ptRGM8iMWPu%2FK4jzRANpjN8siA4AwONcBeicnjcWa1uN%2F636BLk8rOR8TVpr6oOfdl%2FHRA60zCOpVOrFjhzGJ%2FIQY0CO%2B5k1uKLhPLc%2FADMtLd4uUbbF506MQyrXkMA50ID08VgNY8fGpJRgkls1M9xucXxkPPt7QTmSRFr6kdrp7BvT8OlwZ7P37Yy7vgkhqMPY2Z1BmaJ3CkgD4WV7KsVb7p446yoPRV%2BDWGzno%2Ff3So1GyCo2bMqYmbM0U%2BCaKEcg%2FZL04sYIlV4Qrz4hwEfbXMvOBKoVSTtVCydLIHXBNFPBygwKLL17UsQA5ijqTU6jnRNRTh%2BkUVsAgez%2FY8eSma9aMvarLWce5t6nS2iHeApQaohpOu7k%2BbyHCAkDxGANGj316FwQJIWbWQim0uSGV45GygZvcFQrpDn6HfxeA3kWQts%2Fuop4%2FdvanK8evyFJaGSTq%2Bh2cC1UEqxorqzO%2BBGjlflcLUedbJuSLw4vOqNNg59ei6cKYk8vUx%2FmeljkTjoMfVYCnJlfhclSeylycCGiVkqr2Hyx9fZVYxw2kSKBxKq94yPZOeIoWGf4SP5DfOI3upP%2Fm38l9uwP8vVnM%2BxFO9j8%2BhBBj0GiqpjhuchZ3anGqrKq9k6ATQoBoZyaGMgPFeI9gEXDQ1QmAmnoJRdq4K9btjkCM0%3D&nvMid=25674290522&catId=50002350\n",
      "아이룸 A15 168,000원 생활가전 청소기 무선청소기 품목 : 핸디스틱청소기|형태 : 상중심|집진방식 : 싸이클론|사용시간 : 1시간10분|청소방식 : 흡입전용|충전시간 : 2시간30분|배터리용량 : 2,500mAh|배터리종류 : 리튬이온|, , , , , , , https://cr.shopping.naver.com/adcr.nhn?x=TBslxGiSGu4tDMY%2BS%2FtBKv%2F%2F%2Fw%3D%3DsualsADA5vGOORoAdWZtq0qGDhltWntmVDU02oO%2BA5SaJ5ltDmER3oclazeOpToBHs9IrHAruR5tItxncYMYaHEVmPRVL2zKMmj72j6Cy2EZQm4SLs3i%2FjGGPR43wmWtwFGhnHFn6I2VJH6fQb%2FD%2BstyGaSr%2B0dRu37W7MMIB4NFk9Io6iZoAfEBQfsbkhBMB%2BitfXEmPwYFEOPo0WBHfI%2Bn4XAdi3YQbEXEsGGpJWqZjhT3q51gOqoSu%2FQESHdAPjis8avLprLsNKR2b4t3hAVWUgCnMWAAqDjgi4wBmkEsYYDUUxQlBVqXtVrGEeR0ehmeWtJmvw8M90EK%2Bzy5a1yVdN3LpKf%2FbKuiZi7z1XJQwzW9SrrNbiLAUrGOgROVskXkxsIM7vwTO8TRcJB5A9Vd%2BqILAG09hjAR1K3qLYkB4uoHyD56ThsIH6Kfy%2BBN4CPP2T29MYNklxEKbCKsA6NFVD7lpvYYBCVan0AzPuRBiB8t1MQxgHsDAmBZNdeDC%2FWbo6zFFlCcjUseOXnNRntCqykVWwDMJJqe%2FQTIl%2F%2FERpOFzCbaM6OU97uoPifjr807osDhiAdEEzcQfCio0dTUHXYCfYaxX5pj9w9EBxXZoaKZHilHbuauHUigNM5KA&nvMid=30147186618&catId=50002350\n",
      "삼성전자 비스포크제트 VS20A956A3 599,370원 생활가전 청소기 무선청소기 품목 : 핸디스틱청소기|형태 : 상중심|집진방식 : 싸이클론|사용시간 : 1시간10분|청소방식 : 흡입전용|충전시간 : 2시간30분|배터리용량 : 2,500mAh|배터리종류 : 리튬이온|, , , , , , , https://cr.shopping.naver.com/adcr.nhn?x=eBt6jRFRx219AxJZ3eRQqP%2F%2F%2Fw%3D%3Ds9YW8FSUKu6Z4e%2BKVav05tb6dG1L3O3KpnaEJ%2FIvB9YmJ5ltDmER3oclazeOpToBHe5LlmDp78sQyO4a5oLRDdUYVivD2Y9xc2rokfhEGJrRQm4SLs3i%2FjGGPR43wmWtwFGhnHFn6I2VJH6fQb%2FD%2BstyGaSr%2B0dRu37W7MMIB4NFk9Io6iZoAfEBQfsbkhBMB9O6qluw12rvBThNUXLSQhKnKeF4fIVHhIi017FAMHMZjhT3q51gOqoSu%2FQESHdAPjis8avLprLsNKR2b4t3hAVWUgCnMWAAqDjgi4wBmkEsYYDUUxQlBVqXtVrGEeR0ehmeWtJmvw8M90EK%2Bzy5a1yVdN3LpKf%2FbKuiZi7z1XJQg8o5IrVeiLgKEA23QcC%2Fm6eqdO%2BXocN3UdbQ1anvdB1d%2BqILAG09hjAR1K3qLYkD9m3x8FTV152mmlLE0fKa7E7%2FH4AYWkx%2FN9eJoXpGetCNDXXdTLj1%2FTDVqs6cA9vmG6%2FZHPxIUhvUC6qRp2o8aFyVJ7KXJwIaJWSqvYfLH15IXYqcpeFGkkXQGZIjniC18UohkGWaulgjx49BLgf1OwLzthabm4MU%2BeiRklgYjykFH7%2BJvVlxIYRyq28FA5dIBNCgGhnJoYyA8V4j2ARcNDVCYCaeglF2rgr1u2OQIzQ%3D%3D&nvMid=26923311522&catId=50002350\n",
      "LG전자 코드제로 A9S 올인원타워 AS9370IKT 738,510원 생활가전 청소기 무선청소기 품목 : 핸디스틱청소기|형태 : 상중심|집진방식 : 싸이클론|사용시간 : 1시간10분|청소방식 : 흡입전용|충전시간 : 2시간30분|배터리용량 : 2,500mAh|배터리종류 : 리튬이온|, , , , , , , https://cr.shopping.naver.com/adcr.nhn?x=i81a0UNfb%2FAJTlChJ%2BBlqP%2F%2F%2Fw%3D%3DshBdRZKBSxbYnImIg6xZFzAOYBb5kpTI3KGtM0%2FWCRhfcWa1uN%2F636BLk8rOR8TVpwB6dtZgrEc3vCfx%2FchsI4ZK88hD6ukftWApXpa6PwXHc%2FADMtLd4uUbbF506MQyrXkMA50ID08VgNY8fGpJRgkls1M9xucXxkPPt7QTmSRFr6kdrp7BvT8OlwZ7P37YyZFKyiTyihwOyYUtELTYwLPz17yMZvW7mWkq2gVcp1BKzno%2Ff3So1GyCo2bMqYmbM0U%2BCaKEcg%2FZL04sYIlV4Qrz4hwEfbXMvOBKoVSTtVCydLIHXBNFPBygwKLL17UsQA5ijqTU6jnRNRTh%2BkUVsAgez%2FY8eSma9aMvarLWce5t6nS2iHeApQaohpOu7k%2Bbyq9%2BNogTD8Fm%2FpHc4F0VQ7mQim0uSGV45GygZvcFQrpDTP6HetclG4RLCX4GVMd%2F8c3Y2iGI0bwrjHuOE3cihvUqxorqzO%2BBGjlflcLUedbJDFhXGW%2BLZQQbOozX0PKkRlb6SXs3WdskJEUE0AvHQW%2FI0fIFRfBZUPaSLRPGc3PJpzMW6oWgCLrqXKMRp5ov6XL1LZdi%2Fv%2FW5tqfqE6%2BO%2BvoLRdeTzJJo5DQ5ovPMjEUBZ%2Bzc7QkIQWQkOz%2BdX%2FIoNaNfPGz%2Bg0ID87%2BZ764ymYVsN%2FiAcjmtIwlTUFZwg6A%3D&nvMid=27911048523&catId=50002350\n",
      "아이룸 차이슨 D10 128,000원 생활가전 청소기 무선청소기 품목 : 핸디스틱청소기|형태 : 상중심|집진방식 : 싸이클론|사용시간 : 1시간10분|청소방식 : 흡입전용|충전시간 : 2시간30분|배터리용량 : 2,500mAh|배터리종류 : 리튬이온|, , , , , , , https://cr.shopping.naver.com/adcr.nhn?x=dKZtfEg7N3ab4GalGt6zCf%2F%2F%2Fw%3D%3DsQqx5P6YpSEb5Hoa4tgMbFGcobIfi%2FvSlBRho2jNmJAu8DhkNlo8m633jJMNPmptHJFaI1wv0YQuRyc%2BEPOoPhujDT6DlIQv5yrTI9UbhzxZgZZv%2B%2BYWgfyZEgzoTMCgZfXFoDUmy2FKJpYN76ZWyr0gAn8lD2%2BxrgblrBqYwPdWug%2B9sjA7rHdeMLkY%2BwIMU1zisdSnlt%2FVKfOi73MOuEIRf8AF7SV93NQpFUK2GCu9UljeWTnmzwB%2BrN5HBCAeiWpmJuOgEl9qgM5iNvNejOL4rTAfmc328hgAILDBuhmmzdfsxYNfSpXYTyu05Hbpt334rL%2BbR36BhYe0R%2FrUmjgBSTS1sRv49oBHxm%2Bxq6Hi0RotJnEPY0CVQx%2FEb9RIBf9bOdWCGtbtXVABpMTcT%2Bq4PAch8oPqbYMXypsXhHcL8Jcy%2FxKjWxTjMTxscFsN7SiNfeDt8lRkZEwCruTWU5yvr5HHIvhYGMrMhPII3611WDyXuXA2NPBxS1bsxyRCTFyVJ7KXJwIaJWSqvYfLH1wBh2Nzf%2Fnm7Np8J03jbDt%2BhYZ%2FhI%2FkN84je6k%2F%2BbfyXiaT9%2F6Dm2UeDTaIwPBeJ7bJ%2FsYejU62nLDulMO9OcW0BNCgGhnJoYyA8V4j2ARcNDVCYCaeglF2rgr1u2OQIzQ%3D%3D&nvMid=15819946589&catId=50002350\n"
     ]
    },
    {
     "name": "stdout",
     "output_type": "stream",
     "text": [
      "비브르 스톰파워 VE30 173,000원 생활가전 청소기 무선청소기 품목 : 핸디스틱청소기|형태 : 상중심|집진방식 : 싸이클론|사용시간 : 1시간10분|청소방식 : 흡입전용|충전시간 : 2시간30분|배터리용량 : 2,500mAh|배터리종류 : 리튬이온|, , , , , , , https://cr.shopping.naver.com/adcr.nhn?x=NTj0BFHfmfT%2FXPBPlsOi6P%2F%2F%2Fw%3D%3DsBw2k6IHzf1g3I201yheIgk%2BlNvK0UGEaBccfHpK5EWaJ5ltDmER3oclazeOpToBHwZf%2BuTyHVhnU6w7SKqZ6vRc%2B%2BCLa6%2FcsJq%2FYL0h%2F%2B0ZQm4SLs3i%2FjGGPR43wmWtwFGhnHFn6I2VJH6fQb%2FD%2BstyGaSr%2B0dRu37W7MMIB4NFk9Io6iZoAfEBQfsbkhBMBj38CBhRT8g2XS4LOvCOq%2B38y8PM6NF45tD5kqxhOgdtjhT3q51gOqoSu%2FQESHdAPjis8avLprLsNKR2b4t3hAVWUgCnMWAAqDjgi4wBmkEsYYDUUxQlBVqXtVrGEeR0ehmeWtJmvw8M90EK%2Bzy5a1yVdN3LpKf%2FbKuiZi7z1XJTc6USRY4FcQqvUwhh5kKz9n8%2FWvHuyRDgcBs8jfiX6%2F1d%2BqILAG09hjAR1K3qLYkBpVTswc9DlIgwiD6BiP8U33pbiwTfiPvSYZMxFwycMdARzTktOJsG39rC0oovAKqeZ5iVWLM9IxiHXJD%2FPDyuto64ifB9DVeZ8ffla9GlFdjIhkfW%2FAKfWa3zaZqZlKBskw31ly4bzVRyRRXxQfA1Njr%2Fvhuz%2FM2bOeEg7k3nONcQ%2FMHyoDYo04YICo9gtZ7U222mZrqe67eJQmDyUuMnZhWw3%2BIByOa0jCVNQVnCDoA%3D%3D&nvMid=21629247611&catId=50002350\n",
      "LG전자 오브제컬렉션 AO9571 1,067,110원 생활가전 청소기 무선청소기 품목 : 핸디스틱청소기|형태 : 상중심|집진방식 : 싸이클론|사용시간 : 1시간10분|청소방식 : 흡입전용|충전시간 : 2시간30분|배터리용량 : 2,500mAh|배터리종류 : 리튬이온|, , , , , , , https://cr.shopping.naver.com/adcr.nhn?x=5nbdCDAr2myxQueHOOzqyf%2F%2F%2Fw%3D%3DsKuAJUvc5ZQwh3lPVs4XchI52zRSMFfgynt1bk4D9J8WJ5ltDmER3oclazeOpToBHHobx0k34qfxPk1PYbBE7K%2Fx3WXtKXB8PWTc2ZmgH67tQm4SLs3i%2FjGGPR43wmWtwFGhnHFn6I2VJH6fQb%2FD%2BstyGaSr%2B0dRu37W7MMIB4NFk9Io6iZoAfEBQfsbkhBMBA6bRzhCWhuQCWatcOWIMWqnKeF4fIVHhIi017FAMHMZjhT3q51gOqoSu%2FQESHdAPjis8avLprLsNKR2b4t3hAVWUgCnMWAAqDjgi4wBmkEsYYDUUxQlBVqXtVrGEeR0ehmeWtJmvw8M90EK%2Bzy5a1yVdN3LpKf%2FbKuiZi7z1XJRjExN9Y94%2Bl6QRCvx1GoAI1RWV7aYzCvJgD1pXIuLjlVd%2BqILAG09hjAR1K3qLYkCHADEhmbHS0UrQSkwhCSivq%2Frtsw8n93%2FLiyFiv1bu4dFVD7lpvYYBCVan0AzPuRBsRUHkw370zA4In6u5M%2BOoOsgqiwCuzAykphKCd%2F7TMCOXrM8xAYvbPUuAG6wTBwmtqaMHAJkj0DAJXiYJNZCZGiljnPNR4uMKUYTotJLwbK0t7biAobb3lLzNomXr7F5Xc50eBITwugSNPH3Ok09sVpGw61BSdoQRvEGgfFlc5w%3D%3D&nvMid=25918090522&catId=50002350\n",
      "아이룸 OG20 128,000원 생활가전 청소기 무선청소기 품목 : 핸디스틱청소기|형태 : 상중심|집진방식 : 싸이클론|사용시간 : 1시간10분|청소방식 : 흡입전용|충전시간 : 2시간30분|배터리용량 : 2,500mAh|배터리종류 : 리튬이온|, , , , , , , https://cr.shopping.naver.com/adcr.nhn?x=Zg8MuwdJeePtIhWNwA6Plv%2F%2F%2Fw%3D%3DsBp1iMPXD2gKMUpLmf2MTfvQYl44rw6TGmHvR9IUAgHrcWa1uN%2F636BLk8rOR8TVppqPjObC8MCTsMYC6O76DSkMzps9t6091I4Vzvi3gLHPc%2FADMtLd4uUbbF506MQyrXkMA50ID08VgNY8fGpJRgkls1M9xucXxkPPt7QTmSRFr6kdrp7BvT8OlwZ7P37Yyo6DmC26hUEJBwNfYUDKRh4aUvNfkI59nNrSWO8BAY5%2Bzno%2Ff3So1GyCo2bMqYmbM0U%2BCaKEcg%2FZL04sYIlV4Qrz4hwEfbXMvOBKoVSTtVCydLIHXBNFPBygwKLL17UsQA5ijqTU6jnRNRTh%2BkUVsAgez%2FY8eSma9aMvarLWce5tECHOmCWue%2BUEaaUhHMi6HNqe6BQj7fSmA4iDwZYOUT2Qim0uSGV45GygZvcFQrpCkw2WxoOUi4IBGm4n6fUJGFsO06b6jbikoddmEJ3%2BcqEqxorqzO%2BBGjlflcLUedbIhDqE4ZwfUXovLUa2hH1pUbaBIezszfs1i3Nn2cV5H2QU566Zfz4y2%2F6I6Rw3mptetqaMHAJkj0DAJXiYJNZCZVTXxCLLvTOgPLtAzTGsQnCh%2B6QTNhRDYShIzxaikAPlWhZ3SMHTcLlpircdRzUgq1JIslBmdxaTx7xO1%2BPPoWw%3D%3D&nvMid=29724262618&catId=50002350\n",
      "아이룸 RS7 158,000원 생활가전 청소기 무선청소기 품목 : 핸디스틱청소기|형태 : 상중심|집진방식 : 싸이클론|사용시간 : 1시간10분|청소방식 : 흡입전용|충전시간 : 2시간30분|배터리용량 : 2,500mAh|배터리종류 : 리튬이온|, , , , , , , https://cr.shopping.naver.com/adcr.nhn?x=4YPvKTzZksnFYIny7HliKP%2F%2F%2Fw%3D%3Dssad0tbs2f%2BC3q1XNTYpom3bnag32lM%2Bm6Mj%2BxaQRdpfe5lyy%2BagKNiIxwtAwPl%2Fph8q%2Fq2eBIw8hm8uMADix%2BoxVAOOXeJXR3w7RLN0fG%2BsLwwbxvz7m6dc5tuEMAU4Fd65USs%2FAorW45FqVBkpra8i30QtKP1mA7BYZPpxeJLexWvZfe2todmJfmpbNrXnqxv9wWMkhQqc2sC0LkwJ3xTGTJQPywziMIWIg95520OvRgOC%2F7HzBfySx9UECgdl40MPolNo0gzhlAx6%2F5A%2BfuxyXGLRAhPawhEVDkFSycvvpRQ%2FnvRP7XshG8cpcJJj3y%2F6MHZ6u%2F5n6uuzlUc6JNEuUiTS4CHUtVxQrWeRhExiJk5AUMROdMQAWkJHM6gkKISFv7n5uAItYPm5%2BaPBVoIVTOz%2BnkXU5%2BMCBEn3KpBNeWHRWLAuRY0cqp0DWDr2roCF9uZFzpP1D3UyqhUgjqvZq%2FK72w7U0%2Feoqk%2Fx6JivOFbgBM14elHhIl0RtArkvNU80z1braSbuJSLfqApZugycIRvnajWw3a2lo10CPlQwLHShnxU9zk3HOUOjQXh9gmCoa4iVzOfDdgyahbLBIi2W%2BX1up3CIScP4emwjAnWCqA6%2BrrPkSkQjk3bFq%2FUy&nvMid=23880661522&catId=50002350\n",
      "다이슨 V10 플러피 오리진 514,900원 생활가전 청소기 무선청소기 품목 : 핸디스틱청소기|형태 : 상중심|집진방식 : 싸이클론|사용시간 : 1시간10분|청소방식 : 흡입전용|충전시간 : 2시간30분|배터리용량 : 2,500mAh|배터리종류 : 리튬이온|, , , , , , , https://cr.shopping.naver.com/adcr.nhn?x=LdT4a1%2F7WEdhmaA8kPD7xv%2F%2F%2Fw%3D%3DsU8Y7vOLz73MASjPWPuXp6SupDfeFgqpRcYDVLRtZYGW8DhkNlo8m633jJMNPmptH%2BUO2GJWjNv1EI5loa5a68MIvaoP7q5XY0Z0qeOIJ6EtgZZv%2B%2BYWgfyZEgzoTMCgZfXFoDUmy2FKJpYN76ZWyr0gAn8lD2%2BxrgblrBqYwPdWug%2B9sjA7rHdeMLkY%2BwIMUR1QU0EmP%2F0Vsyqma1RawnoRf8AF7SV93NQpFUK2GCu9UljeWTnmzwB%2BrN5HBCAeiWpmJuOgEl9qgM5iNvNejOL4rTAfmc328hgAILDBuhmmzdfsxYNfSpXYTyu05Hbpt334rL%2BbR36BhYe0R%2FrUmjgBSTS1sRv49oBHxm%2Bxq6Hgta%2Bx1rjIhOc0n7LuJaz%2FhC0afASdA2UNqNtsNDaOtdq4PAch8oPqbYMXypsXhHcLw%2BETuV0w8ed8K0ZBx87%2Bysv4Pv0kWpdQcKGzAgoBrl%2BBZQgRA9PpEXMFpog8a8inYuEoZSEzMoXCJniM0LSzE%2Bj1QwiS1GMv%2Bt2LbB13sBJvB1F3koBK%2BzBn6KLfIzqTyCtA%2BbhXM3jv5Splce4AKYnHIcETcJifOE8sb44IMxZAAzZklC7tAjsVY%2BeKE1fh4xHHMUxly5%2F86jNaJx0Or5Hv1T%2FoDPeAT2ZD%2BWCfnsQ%3D%3D&nvMid=26052676522&catId=50002350\n",
      "디베아 차이슨 ALLNEW22000 178,000원 생활가전 청소기 무선청소기 품목 : 핸디스틱청소기|형태 : 상중심|집진방식 : 싸이클론|사용시간 : 1시간10분|청소방식 : 흡입전용|충전시간 : 2시간30분|배터리용량 : 2,500mAh|배터리종류 : 리튬이온|, , , , , , , https://cr.shopping.naver.com/adcr.nhn?x=ry0iyQt1KrwKDDPtGDnQbv%2F%2F%2Fw%3D%3Dsgoel5dbCLjq1zkeiiU4%2F%2Blk9Uj6%2FGJB%2F1HbjTi%2BYamGJ5ltDmER3oclazeOpToBHdeGh%2Bq27%2FoGswJARrEL6VJmF7QbfWdr0xe4mds8JtvNQm4SLs3i%2FjGGPR43wmWtwFGhnHFn6I2VJH6fQb%2FD%2BstyGaSr%2B0dRu37W7MMIB4NFk9Io6iZoAfEBQfsbkhBMBkJQobwHHVIenAp%2FBvRWwyZltcF79aGyxcLy%2BUyDDihZjhT3q51gOqoSu%2FQESHdAPjis8avLprLsNKR2b4t3hAVWUgCnMWAAqDjgi4wBmkEsYYDUUxQlBVqXtVrGEeR0ehmeWtJmvw8M90EK%2Bzy5a1yVdN3LpKf%2FbKuiZi7z1XJTkxxTm80McywQ4cokegfzwT4U55jSESl0oroDW7%2BlY9Fd%2BqILAG09hjAR1K3qLYkDrWYPicxR%2BKS6SWSKCWhSAA1YQvdQwopcU82RlFQ4AqQRzTktOJsG39rC0oovAKqeV55jBTqbb7BTaIHmP7HIDWR4fryCgcvid41%2B%2BF5%2FeLFsykyJURGNyfbVGVEzYezF9uikTb3%2BmZ1sePqgPDQfoiA3%2FU2AzguC84AnoS7Lq%2BSdNhJzQxJ5kLJY2YM1FMBmChr9iaFYmQFz1JBS76lAEV3OdHgSE8LoEjTx9zpNPbFaRsOtQUnaEEbxBoHxZXOc%3D&nvMid=20309311562&catId=50002350\n",
      "LG전자 코드제로 A9S A9370 687,210원 생활가전 청소기 무선청소기 품목 : 핸디스틱청소기|형태 : 상중심|집진방식 : 싸이클론|사용시간 : 1시간10분|청소방식 : 흡입전용|충전시간 : 2시간30분|배터리용량 : 2,500mAh|배터리종류 : 리튬이온|, , , , , , , https://cr.shopping.naver.com/adcr.nhn?x=3RrjUhbnOZw0rc48bMqY%2Bf%2F%2F%2Fw%3D%3DsOoOKFjYjCrJwHYa%2FLq8nFj%2F9C%2BwzwkOMsr4loXri3FaJ5ltDmER3oclazeOpToBHzXzO3pkH4zABYkvD622r2NJqqgb5r%2B%2BYx3vk1%2FR3m1lQm4SLs3i%2FjGGPR43wmWtwFGhnHFn6I2VJH6fQb%2FD%2BstyGaSr%2B0dRu37W7MMIB4NFk9Io6iZoAfEBQfsbkhBMBlmCs34BceyoxyS%2FODD7cdT2oEEHrxYzoKX8LVJwdKq1jhT3q51gOqoSu%2FQESHdAPjis8avLprLsNKR2b4t3hAVWUgCnMWAAqDjgi4wBmkEsYYDUUxQlBVqXtVrGEeR0ehmeWtJmvw8M90EK%2Bzy5a1yVdN3LpKf%2FbKuiZi7z1XJSDihDHKYNS5HPolnPk6eHlmIX%2BtFQIQNJTAnl8YL%2BalVd%2BqILAG09hjAR1K3qLYkDcC31BGff5rqo324xzUfwybRt%2F7PZETsTgiQdHj1kzxtFVD7lpvYYBCVan0AzPuRDdUACzCjvdyOlMWCPRkBhpzSAOgcNIgy%2Bx4eiL4UhY5GPhklAvCvg6FTQKA6%2ByS9fvW2q1ZBpuV%2F%2FvtKUgTGHnIpkhoTTJuBxE%2FavTp2UFVQYNDraIB0nyfkogfYdDK20BNCgGhnJoYyA8V4j2ARcNDVCYCaeglF2rgr1u2OQIzQ%3D%3D&nvMid=22953827490&catId=50002350\n",
      "저렴한 청소기 삼성 무선 소형 미니 원룸 핸디 스틱 청소기 47,900원 생활가전 청소기 무선청소기 품목 : 핸디스틱청소기|형태 : 상중심|집진방식 : 싸이클론|사용시간 : 1시간10분|청소방식 : 흡입전용|충전시간 : 2시간30분|배터리용량 : 2,500mAh|배터리종류 : 리튬이온|, , , , , , , https://cr.shopping.naver.com/adcr.nhn?x=n2x5LIDmqrLY%2FZ%2Bt%2FKKeh%2F%2F%2F%2Fw%3D%3DsZOTeO1F4FL3lIDaJkgB2L8AMgTb6PNpW3oSLQL0XozqJ5ltDmER3oclazeOpToBHryRQRiMDk8rb1B8%2Biaf2SHY4eO%2BAjdPG7hCnhW8HDItQm4SLs3i%2FjGGPR43wmWtwFGhnHFn6I2VJH6fQb%2FD%2BsicX2AUq8VPh3PK%2Fo8l8aTkQ30gwb0ZAWnfX3Zzr1ayRZrgL0MfM9Aji5BcJPjmZqJjmKatENe0aDrDApB%2FYXYs5KybA%2FsbJZyG7UmzI7jFjgGwmPNX%2Fe%2BXkuZ30duRQYj%2FN1gL%2FBgCKENDMCz1nm%2F3xn1ZgG6Aizzaqm8XCvESKcRnoKGCn7HkNetCfHGG57oVTOz%2BnkXU5%2BMCBEn3KpBM%2FsJlgGLc8L2C3ENrncjwTFCJLeTNMiIpdd72TMnUFR0gU9UPDYnao7rhCvBYzgSQJwZxzyCbm8c7iPica6dScfRvlTD%2BbIMV%2FUra3u6RjolYN%2BeRIUWP9NVbDzDPp0XV5ThweDfFyUcvbCxqbV2ZYja8p8ll9CnpnqlR09pJHYIrguldspdv1a1QNIMeo6kGr7VAb36ErED7xDOmVlGU6XMJwu7xK42lo1T7Fdoy2QqVAfzOHL8sC6GoV0PQIxV8bwBzsM54DEqXtrqY8Vnv5hWw3%2BIByOa0jCVNQVnCDoA%3D%3D&nvMid=82538564177&catId=50002350\n",
      "툴앤툴 T3000 139,000원 생활가전 청소기 무선청소기 품목 : 핸디스틱청소기|형태 : 상중심|집진방식 : 싸이클론|사용시간 : 1시간10분|청소방식 : 흡입전용|충전시간 : 2시간30분|배터리용량 : 2,500mAh|배터리종류 : 리튬이온|, , , , , , , https://cr.shopping.naver.com/adcr.nhn?x=EexhrYgpNFOEzZJwTkWqK%2F%2F%2F%2Fw%3D%3DspIMUfgH%2FSRPFRiC0VDaHMACS%2FEB6kRuzaA1iho%2Bj7vyJ5ltDmER3oclazeOpToBH5qjEfd8APYpbFo1ruq5xC6l2KtB3wVXTRGNlOChztu9Qm4SLs3i%2FjGGPR43wmWtwFGhnHFn6I2VJH6fQb%2FD%2BstyGaSr%2B0dRu37W7MMIB4NFk9Io6iZoAfEBQfsbkhBMBQVy4MdSAC0SBb9oJYRXkCOn4XAdi3YQbEXEsGGpJWqZjhT3q51gOqoSu%2FQESHdAPjis8avLprLsNKR2b4t3hAVWUgCnMWAAqDjgi4wBmkEsYYDUUxQlBVqXtVrGEeR0ehmeWtJmvw8M90EK%2Bzy5a1yVdN3LpKf%2FbKuiZi7z1XJRI%2F3el2GKmKcTsIYB8S9cvF%2Bh6evldOdVP0mv5fjS%2Bmld%2BqILAG09hjAR1K3qLYkAyylXIDhgNsir5k%2FZ9gBPkFyEvFys1hbfygRkGR2b3zdHibEWs%2BHa2EhHpaifnvIf7QsWGsFQhQMrfhKwUara7N2gbLBYMa%2FgTzcJzZzCJO61ZnEsE7o%2BrfriPCY7CFlGIDf9TYDOC4LzgCehLsur5A5x0xr%2BSNfkTuog9wYeBkgVpvKBPIFADRFswLbWG7TlXc50eBITwugSNPH3Ok09sVpGw61BSdoQRvEGgfFlc5w%3D%3D&nvMid=29424484618&catId=50002350\n"
     ]
    },
    {
     "name": "stdout",
     "output_type": "stream",
     "text": [
      "삼성전자 비스포크제트 VS20A956A3 + 물걸레 783,020원 생활가전 청소기 무선청소기 품목 : 핸디스틱청소기|형태 : 상중심|집진방식 : 싸이클론|사용시간 : 1시간10분|청소방식 : 흡입전용|충전시간 : 2시간30분|배터리용량 : 2,500mAh|배터리종류 : 리튬이온|, , , , , , , https://cr.shopping.naver.com/adcr.nhn?x=SuXAeCGNIG0rJtP%2B6zxmxf%2F%2F%2Fw%3D%3DsWMWnUUgbL19hmctNwRMcnVmczmfQ%2BtmXmC5dQPFCs9uJ5ltDmER3oclazeOpToBH05nbgoNRccf495ZjhnVWjI3mCAkiDePdzgQMBti6LBNQm4SLs3i%2FjGGPR43wmWtwFGhnHFn6I2VJH6fQb%2FD%2BstyGaSr%2B0dRu37W7MMIB4NFk9Io6iZoAfEBQfsbkhBMBwCu94XhAplkNok6P%2Bn5OzxIu8ygzlWeSlpofclIGozpjhT3q51gOqoSu%2FQESHdAPjis8avLprLsNKR2b4t3hAVWUgCnMWAAqDjgi4wBmkEsYYDUUxQlBVqXtVrGEeR0ehmeWtJmvw8M90EK%2Bzy5a1yVdN3LpKf%2FbKuiZi7z1XJQ7e%2B8QV6r%2FQozngc1aHKmOZS442GDWz9kMixQI1NdvxVd%2BqILAG09hjAR1K3qLYkADJk8dN57yqQM4h%2Fm99lk5kU2HNzIfPwSYNPr4uz2PxSNDXXdTLj1%2FTDVqs6cA9vmHozgkYko4EF3vNrSy4b0Lv%2FW3Da8xL1skZz4DNCa5N%2BiE2rSR2xconIoRd8MTBInfOlA6YinH5HgLvGMP2ndaDWrhHEcp0p%2F%2FKKziu53PdGLEEgsEmQnvRGbas2ry9Zfns6%2F1CvJ%2B13dvQsCeUMd4VoWd0jB03C5aYq3HUc1IKtSSLJQZncWk8e8Ttfjz6Fs%3D&nvMid=29030934589&catId=50002350\n",
      "삼성전자 비스포크제트 VS20A957D2 789,910원 생활가전 청소기 무선청소기 품목 : 핸디스틱청소기|형태 : 상중심|집진방식 : 싸이클론|사용시간 : 1시간10분|청소방식 : 흡입전용|충전시간 : 2시간30분|배터리용량 : 2,500mAh|배터리종류 : 리튬이온|, , , , , , , https://cr.shopping.naver.com/adcr.nhn?x=acGHA%2F4eDuAjTDorC76eXv%2F%2F%2Fw%3D%3Dsij7aI%2BICEdul3ltyNL3esRKYx2S5rzKxc%2FoB4cQbxAuJ5ltDmER3oclazeOpToBHVvLVDdhDUKfBnK5%2BkCsjGifvtWcupCpITIDTkD1KbylQm4SLs3i%2FjGGPR43wmWtwFGhnHFn6I2VJH6fQb%2FD%2BstyGaSr%2B0dRu37W7MMIB4NFk9Io6iZoAfEBQfsbkhBMBDESp4hJRatgLSiK2lP%2FOkCgiaF878HbgxdIwgrUYzuFjhT3q51gOqoSu%2FQESHdAPjis8avLprLsNKR2b4t3hAVWUgCnMWAAqDjgi4wBmkEsYYDUUxQlBVqXtVrGEeR0ehmeWtJmvw8M90EK%2Bzy5a1yVdN3LpKf%2FbKuiZi7z1XJS1EX%2FFZvtOkXlF1Y2ngsO2EAKhqk0piRsAiYdow3V6s1d%2BqILAG09hjAR1K3qLYkBwCzZ3fWHd8M%2FaLAtt7xUSzmGu47PtBh3gb6qKqOsFRiNDXXdTLj1%2FTDVqs6cA9vlXsP0li7WwOwwnLlp4DwHyFyVJ7KXJwIaJWSqvYfLH1%2BOo62dCEhPleIp59g6%2FmWtXKdJT5slM4jN5XqMlSjVzXJUc2BaV%2BzqZ5MHOPhZnkM%2BigXemzHZwDDqCpDPFSLa0o3R2VVeGwt8FQZtRZSYSBq7h9PA5SrIXrcWPClBGWw%3D%3D&nvMid=26773996525&catId=50002350\n",
      "에어메이드 AMC-4500 249,000원 생활가전 청소기 무선청소기 품목 : 핸디스틱청소기|형태 : 상중심|집진방식 : 싸이클론|사용시간 : 1시간10분|청소방식 : 흡입전용|충전시간 : 2시간30분|배터리용량 : 2,500mAh|배터리종류 : 리튬이온|, , , , , , , https://cr.shopping.naver.com/adcr.nhn?x=gTrUCl%2BxSShdwgdJCMcijP%2F%2F%2Fw%3D%3DsQBuGiTaxI9QWCJJzXB8GoOl2h4AOhf%2Bh1VKerxj6ME3cWa1uN%2F636BLk8rOR8TVpWS%2FRQrb4CCQNQsxsccxaE7CZhFSAVFQ74HNEIV%2BIo%2Bvc%2FADMtLd4uUbbF506MQyrXkMA50ID08VgNY8fGpJRgkls1M9xucXxkPPt7QTmSRFr6kdrp7BvT8OlwZ7P37YyVnGKo6cDMu3yr1NPHsT2H6Tv011vlr6khvoYEWdun16zno%2Ff3So1GyCo2bMqYmbM0U%2BCaKEcg%2FZL04sYIlV4Qrz4hwEfbXMvOBKoVSTtVCydLIHXBNFPBygwKLL17UsQA5ijqTU6jnRNRTh%2BkUVsAgez%2FY8eSma9aMvarLWce5sXdQaPojMofFNuFc6x6%2Bqq45LIPvHGIrCTZgq7lX%2F1r2Qim0uSGV45GygZvcFQrpAoYriI6lUBFctKeEeACDfYsejtKyL%2FV7HMCcTPVQjWf0qxorqzO%2BBGjlflcLUedbIWYSIkaVZ63gDXtmxcFhu3HpGqdr6JPtVKPsqUOOegaLFSY%2BJfBQeihWJ1%2FdAEUvfDamim%2BTkfHK2Nuua%2BC5jEKi%2FR6soN%2B4iJQvfLnJ2w40N0yAV6UuvZQkkO9BjP2sz4Yo%2B0lDKSZGiiSHGWDV%2FtBq7h9PA5SrIXrcWPClBGWw%3D%3D&nvMid=25217319522&catId=50002350\n",
      "디스코즈 디코웰 K8 139,000원 생활가전 청소기 무선청소기 품목 : 핸디스틱청소기|형태 : 상중심|집진방식 : 싸이클론|사용시간 : 1시간10분|청소방식 : 흡입전용|충전시간 : 2시간30분|배터리용량 : 2,500mAh|배터리종류 : 리튬이온|, , , , , , , https://cr.shopping.naver.com/adcr.nhn?x=p0RnLsAm4qoINFmAkPhZe%2F%2F%2F%2Fw%3D%3Dsj1sSbUAVbLZ8RP20oByAW9o6OVDkRec2C%2BtaGPP504%2BJ5ltDmER3oclazeOpToBHNmFZYlf6T1tMwR5R%2BxZGeLvdQJCDjKWT2LB6dAxKJzRQm4SLs3i%2FjGGPR43wmWtwFGhnHFn6I2VJH6fQb%2FD%2BstyGaSr%2B0dRu37W7MMIB4NFk9Io6iZoAfEBQfsbkhBMB6KBvgXxvEjdySahgQdRUVOn4XAdi3YQbEXEsGGpJWqZjhT3q51gOqoSu%2FQESHdAPjis8avLprLsNKR2b4t3hAVWUgCnMWAAqDjgi4wBmkEsYYDUUxQlBVqXtVrGEeR0ehmeWtJmvw8M90EK%2Bzy5a1yVdN3LpKf%2FbKuiZi7z1XJSDuGNZ3plKfwx7pMEguWodpMzuJSKYQjXyQmF6aCvVIld%2BqILAG09hjAR1K3qLYkDZhkIXJ06hYlbZDldAlPX5VQ%2BVvO1YaHlC08J7zvZ9T7Dzn3c5H6virFSgnW5KKdr8Osur3P3h7Zzlf%2Br%2F5J3lPMDgSA93ZaSlKejGKn8ZyNlboSZQs5W%2F1Fx0FuE9TccHaR8JROhhJdL3IweMlrCDph8qAkm%2FQWqnuYG77OzwctNFlzA5v9JftyBku1ETHc7imhtbirlO3B3JHbyhCulUHRyPBWbUFRhWScTsgQynPg%3D%3D&nvMid=30178793618&catId=50002350\n",
      "에어메이드 AMC-4500 249,000원 생활가전 청소기 무선청소기 품목 : 핸디스틱청소기|형태 : 상중심|집진방식 : 싸이클론|사용시간 : 1시간10분|청소방식 : 흡입전용|충전시간 : 2시간30분|배터리용량 : 2,500mAh|배터리종류 : 리튬이온|, , , , , , , https://adcr.naver.com/adcr?x=Xu4FwHyhAvuLw7w3dChlVP///w==kYZvNUT9jZ8MmnOzyfoZ1hiJULzVRGqQg1FW0kBn2K4GDbBLmRZP7/Etj8Ss/AIGlDeezH4GzEtHtJmnHZzTnWON18ev1GakLihmWEZ9tTH9T8WBO6Eio5BZHxYqSyIkBxPLOpqNgtqnbDaepWUdldYl7O0jFlQWGsAr1t1cazJhTPw0ypnaXgwK1wANMAR5d6B72jU1uilKkCAvsO3IsKQEB9U2IXzR1msXD/guvg98vsL6c8ShUIMmO2wYIHPvG0TetKPE2o+yK+/vL2meOAJ3znvm4E3AWawL5xy9xnN2UKJxNHPoxnHIdtlrBEc/oB2gEGFKQJQpK3L5BkHuz3YUuyZO0wr6ZS5P34eFzoUtRaP20MMqKCsIBM9z61voFaiGvfg3CtcrDjCDFeSiuCUjK+rsHB4KqzszX+j1bmFTrF2Nw6O4zUgyUNNhmZv6fvjuMBpFP8ScDf14OuySHSBKDhdAKw37GgnQzZXOAxsIGtGyg487WGZZwaOF/7n8s4L7ElMZ+ZLRpTgTUM8lntgtOkPptRtaVtLEQMGKX09nDc4PKBc0dymUDD7Zg5piE9uT2nLpo9AVfOQTRnaeHNebtn8Nb+4i6bIGfnFLj1KjangGyF7X+sZB8tuSLoa+uNbHXliswThvHWjUeHL/hFGqxzJoG+vqHhgPE9AOSFi6FzEq3RUUwRE2K30P6vslvg0/26NpHLQomck6i2goOJnJoDE29k9+YDgOiu5sObzGTDSAPHLQDMI8za0fpQuLqOCO9ZIMRR+vrBMKci0YtZ53T0/04Xk+MhC45G+cK66KOwSu0CCPD9I3Vv7wi7Cwg\n",
      "플러스마이너스제로 XJC-C030 349,000원 생활가전 청소기 무선청소기 품목 : 핸디스틱청소기|형태 : 상중심|집진방식 : 싸이클론|사용시간 : 1시간10분|청소방식 : 흡입전용|충전시간 : 2시간30분|배터리용량 : 2,500mAh|배터리종류 : 리튬이온|, , , , , , , https://adcr.naver.com/adcr?x=zuEIiTcehg1AiUOkNcgMKv///w==kkZg/2g0US5s9pyG7zYHvqQ/eM0MpdLeu/rQ4urUtz57Qocixuzpb6gbkaj6qrSgI652QYEVupoKYMJ/zGehPB+Wy1sgA5vEfEGCU9tcL/X8tv5gZi18l0Klt4RWEIAb5Odm2xyxFilU4GB71mR/WEbeF/AuoxHg5YoTD2GRgclpB50h1I0Ais8FfH6IhK34n8BaUheFzfyTplBWmSQSiFZR28LoTscnZC+q6FdvKXj3L4+rGbv49MLURBVH59MS00VYv7Y54p/tgzqOk4w0tOd9GZ3iJKNVG0COoEmLDD+nk+VRcyOPiWhckMxyfoYEDIEWs/vSskIPiBZFjYbCTj/VAKEamgAawZ0dLopuwKUnN8HfuigzMKolQ1Lc7yM7JT4SZ3hcnd1xrwBjwa0pPQIcvv/pxrn6HIQg/VHxQBN+sMgzxFrfp5y1CN9I9i9cyC6rJFJIXhqWXhta9O3snPj+7VjrZBns2euQ2RaJGr4oSfwlxB9b0DdEOTffBxAvaU6969NycApxrNlsrlIzH3gylVze9aOLivHrNl49awlXPuLc3CNGUBQpve9f8EH4BaIROodsKzIMXu6aFa7vqDFgM+bjg4HisIq5LEma/cpKfF0AngeNCfbH2egm4Y7AnsDFV4w55aipqpgFgb7CatkcoWhjBPsARmoG/8zMccrEy3Vgkas94kHCo42TUT8epeujKpQkuGQnLAEaRbbJLjORwdk7Ra0mCZ2L3uIOsuUIhYypjcqQWnpTT4CZCfP9YHOBQnT66YhEGqy2mnV8NQQcsHJi0Z2mw3l3VdX84uWo=\n",
      "디베아 차이슨 ALLNEW29000 248,000원 생활가전 청소기 무선청소기 품목 : 핸디스틱청소기|형태 : 상중심|집진방식 : 싸이클론|사용시간 : 1시간10분|청소방식 : 흡입전용|충전시간 : 2시간30분|배터리용량 : 2,500mAh|배터리종류 : 리튬이온|, , , , , , , https://adcr.naver.com/adcr?x=RLWGyBdyh1e2dl0OkJUf7f///w==ka6nkprBASFaRRG359MQTHT8KezlKizHqCbELERjsf++Da7oGnS4qxrSBwHtmvxPCpav1Ft/6DshSCyFR/0r0tEMmelD6ov2u9FioNhRkbURmwOC1yy9RDG9AOnxW0wRX5w9Ue57RQlGKfluY0YIk9C3Y8XBWC1MX3izJMkjQ6vB0IkHwmVn+EQ/9sJipN+k2dh0YOItOo0vKDBxPSxXYC9FkLMZDlBRAm+x7A72R+lFJPnUosdiM+D0gfA9Iz4iyNqRMJMSJGGOX95C8Pi4fAgLAdIGT0mFLrowqZQw8PydjY8O7h/TKZg6sTpR9lp99Mf5oh8TJO9gBAdiH68aPfH/8h/jTg2/4W8Gol8geA5Ieg6JgTDkoPcbPpDYAc4GL1MJQ+bRlK8WwTsLNSVUDO+xlowXsoy+n2Sa/9/R7hVhhAixyVXLO2BT1KGkA+coP+AQKGpY8kFhpI8bEFwwMAWA5n0AR8UuSvGPsWhXZJrribZMwvsZM5AV1cdg3mRHAleh+g2g7QdxIsVjGqv8tElXoW2FIR38r72Bt8st5ZkPFig+NkVobLmfjEEjApf7GcpVW0T1rD/zO/ls4/7zTs9K73WBq7nQkQfaz5xIXj0BWNEiN/EVKJiRykQ7NSB9El0jDjXBO+9eO6CbP4tlQZ27cvg3m4OCCv5cAtTeMcWpZ7wErMPVmEzoB5P34BgDkrd1cSyAMFzoZvMSbeB30a5zRh4WP+t5Q69Aaeu75N5cNQqxYJ66TlAeUeladvHJUFj4Ch2Kev5ssTc6aGTogA6GJzJzLGcU2OFzyHnYlXI8=\n",
      "비브르 스톰파워 VE12 119,000원 생활가전 청소기 무선청소기 품목 : 핸디스틱청소기|형태 : 상중심|집진방식 : 싸이클론|사용시간 : 1시간10분|청소방식 : 흡입전용|충전시간 : 2시간30분|배터리용량 : 2,500mAh|배터리종류 : 리튬이온|, , , , , , , https://cr.shopping.naver.com/adcr.nhn?x=%2FmdfJqQ7nFU23S3%2BUC5CTv%2F%2F%2Fw%3D%3DsFoQV%2FL80tGC5y4%2FQIvzCpgvbAKk6bhf2QE4JS9cBTRiJ5ltDmER3oclazeOpToBHibNa72jO%2FNXv3gts%2FzIcxqiVfmWhm2u8jGdGPl4X8atQm4SLs3i%2FjGGPR43wmWtwFGhnHFn6I2VJH6fQb%2FD%2BstyGaSr%2B0dRu37W7MMIB4NFk9Io6iZoAfEBQfsbkhBMBMENuQDccNIJvD%2B%2FoXdyoECgiaF878HbgxdIwgrUYzuFjhT3q51gOqoSu%2FQESHdAPjis8avLprLsNKR2b4t3hAVWUgCnMWAAqDjgi4wBmkEsYYDUUxQlBVqXtVrGEeR0ehmeWtJmvw8M90EK%2Bzy5a1yVdN3LpKf%2FbKuiZi7z1XJQS8jP%2FygNm1LYozY1DffPnhaUQ%2BmULUChsw1rl5mH8vld%2BqILAG09hjAR1K3qLYkCw8O3EAqpu2sT%2FGL0ldZAEzmGu47PtBh3gb6qKqOsFRrDzn3c5H6virFSgnW5KKdo1vv0Qam0ffoKS66rYg8mjddVUcsBqc%2FOdkQayk2yW%2Bh6Rqna%2BiT7VSj7KlDjnoGguzRhRcM5gcapo2RHCCycbw2popvk5HxytjbrmvguYxJtRkEihnQ2KGH%2F3PQ2GsitD6hJYtEBV7BR35aGDzXi3H5HxZe0nrshikjNCnGrpFUHQIiXcF4qwUXZ2sX76wW8%3D&nvMid=16669946525&catId=50002350\n",
      "툴앤툴 네오스틱 T400W 149,000원 생활가전 청소기 무선청소기 품목 : 핸디스틱청소기|형태 : 상중심|집진방식 : 싸이클론|사용시간 : 1시간10분|청소방식 : 흡입전용|충전시간 : 2시간30분|배터리용량 : 2,500mAh|배터리종류 : 리튬이온|, , , , , , , https://cr.shopping.naver.com/adcr.nhn?x=hAeNsi5NJ%2Fr2H5XuwUcaz%2F%2F%2F%2Fw%3D%3DsudQqH4KcSyjOyEu%2Fd4rz44DBW1BO%2B0jx058y8Pe%2FlOy8DhkNlo8m633jJMNPmptH05EJBCFTVxAg6Ys8xS4MCi%2B58asTbvYqH1sck%2BmiTTNgZZv%2B%2BYWgfyZEgzoTMCgZfXFoDUmy2FKJpYN76ZWyr0gAn8lD2%2BxrgblrBqYwPdWug%2B9sjA7rHdeMLkY%2BwIMU%2BDjLv1c%2Bmqs5BuoHgaPXvIRf8AF7SV93NQpFUK2GCu9UljeWTnmzwB%2BrN5HBCAeiWpmJuOgEl9qgM5iNvNejOL4rTAfmc328hgAILDBuhmmzdfsxYNfSpXYTyu05Hbpt334rL%2BbR36BhYe0R%2FrUmjgBSTS1sRv49oBHxm%2Bxq6HhENjs%2FlXPsqjQzMm9CHoWlrYdqoLwKPUNtQAGbHETPmK4PAch8oPqbYMXypsXhHcLT%2FSIKsVoFmjgZwXVwvOijsv4Pv0kWpdQcKGzAgoBrl%2B90KQ%2FXYHZMzhzO%2BPWQPnvCk9pE9hOWT4wj5%2FXJJNQUuwP9L0j7YvHB2OKNn2rLcICe6wJodXEqBgOWyLToGRM2agDwTEnMeA8%2Bsv9SIiMZv4YGjJCSIW1IvBxXT1wG97Q4yJ2M4iTusKh4z9KUVu%2BgQaaVxH9EzOEwDWNcyKsBDhLBwu%2FFQS5xWYf5w6G3jQ%3D%3D&nvMid=24121866522&catId=50002350\n",
      "쿠쿠홈시스 쿠쿠 CVC-A1420UG 248,930원 생활가전 청소기 무선청소기 품목 : 핸디스틱청소기|형태 : 상중심|집진방식 : 싸이클론|사용시간 : 1시간10분|청소방식 : 흡입전용|충전시간 : 2시간30분|배터리용량 : 2,500mAh|배터리종류 : 리튬이온|, , , , , , , https://cr.shopping.naver.com/adcr.nhn?x=7919hM86R7n69suNxv7rXv%2F%2F%2Fw%3D%3Dsi4vccpIAqta7W1Uk9bizr00Z0z%2Bd0chY4uf%2FKEyeA5OJ5ltDmER3oclazeOpToBHThMaM%2FggTlt7%2F8ukc1TlOdvMho6vGuIvrBje6VQQXbtQm4SLs3i%2FjGGPR43wmWtwFGhnHFn6I2VJH6fQb%2FD%2BstyGaSr%2B0dRu37W7MMIB4NFk9Io6iZoAfEBQfsbkhBMBt1D%2FDfeLTPi%2F4QQLRCYFsKnKeF4fIVHhIi017FAMHMZjhT3q51gOqoSu%2FQESHdAPjis8avLprLsNKR2b4t3hAVWUgCnMWAAqDjgi4wBmkEsYYDUUxQlBVqXtVrGEeR0ehmeWtJmvw8M90EK%2Bzy5a1yVdN3LpKf%2FbKuiZi7z1XJTDHSbjyDPiaGNbe6V6FIZh4a%2F27hEKMfPhVCYhAFc0dVd%2BqILAG09hjAR1K3qLYkB%2FmIlkMYyzhdFmJ88%2BRz%2BkwztzkUdhX65VbTgZ1EIcZXuv8RxrmFZ%2B1igg7TOwf%2BZxqP5PKC8x0Fdp0jOoHknbHpGqdr6JPtVKPsqUOOegaEvm8O6gGJMdQboq1ZDRUeVwM7ZdNPKFm9LYASGyuAkGsG%2BPIO2jVdbuiDDcVBrOTJpSYE57X9ha3YrEWnqj1iGpflhpiLuMbLC4YH6BMBFYQdAiJdwXirBRdnaxfvrBbw%3D%3D&nvMid=24952075522&catId=50002350\n"
     ]
    },
    {
     "name": "stdout",
     "output_type": "stream",
     "text": [
      "일렉트로룩스 ZB3311 133,170원 생활가전 청소기 무선청소기 품목 : 핸디스틱청소기|형태 : 상중심|집진방식 : 싸이클론|사용시간 : 1시간10분|청소방식 : 흡입전용|충전시간 : 2시간30분|배터리용량 : 2,500mAh|배터리종류 : 리튬이온|, , , , , , , https://cr.shopping.naver.com/adcr.nhn?x=pBR%2BkTnap24gqwebjASWyv%2F%2F%2Fw%3D%3DstA1vRmX69FYsurgYhFu641TBXaMG4SwJZboZ%2B85nNV%2B8DhkNlo8m633jJMNPmptHG726rDWBOK%2FHikMgjr7OXzyTea7ef%2Fk8q82Gur5QbWRgZZv%2B%2BYWgfyZEgzoTMCgZfXFoDUmy2FKJpYN76ZWyr0gAn8lD2%2BxrgblrBqYwPdWug%2B9sjA7rHdeMLkY%2BwIMU0DkUr4XYlJieRXSXepjJ94Rf8AF7SV93NQpFUK2GCu9UljeWTnmzwB%2BrN5HBCAeiWpmJuOgEl9qgM5iNvNejOL4rTAfmc328hgAILDBuhmmzdfsxYNfSpXYTyu05Hbpt334rL%2BbR36BhYe0R%2FrUmjgBSTS1sRv49oBHxm%2Bxq6HixayJxfyiqnjSP%2BitSH6kku75pppL%2F6qczMZ7Pf%2FUC8K4PAch8oPqbYMXypsXhHcJxIFuFfawWM4fFJOzfPpGOsv4Pv0kWpdQcKGzAgoBrl1ri7DS24rjIRy%2FX6qMfuShBXRl7pgdUN0UiuNAaHiPSVrUVrbpaPWWyyuX8K0%2FLjXn4CDjLWMgZO3PaiSnfLT4RpOFzCbaM6OU97uoPifjr%2B006p%2BtMF4i47raP0hqHm%2F0wu1mvh%2BHrLGqCQEskhTPNjqh%2FZemCCOboDhnweAmG&nvMid=13305164282&catId=50002350\n",
      "툴앤툴 네오스틱 T1 109,000원 생활가전 청소기 무선청소기 품목 : 핸디스틱청소기|형태 : 상중심|집진방식 : 싸이클론|사용시간 : 1시간10분|청소방식 : 흡입전용|충전시간 : 2시간30분|배터리용량 : 2,500mAh|배터리종류 : 리튬이온|, , , , , , , https://cr.shopping.naver.com/adcr.nhn?x=gRwv8BY3UfRE5O1TwriqCv%2F%2F%2Fw%3D%3DsQLikErtcVnZxCpkyfpVtQqHhq%2F5a8WuJZVd98dqVhsiJ5ltDmER3oclazeOpToBHOUOKFSduvp5sK20jKFpmqmyIFUCN8D1ZpbrxwlcyoFBQm4SLs3i%2FjGGPR43wmWtwFGhnHFn6I2VJH6fQb%2FD%2BstyGaSr%2B0dRu37W7MMIB4NFk9Io6iZoAfEBQfsbkhBMB%2Fobc1iE6a%2F58xxEwhaIZD4O0zSv5bqoBqynfRBikEohjhT3q51gOqoSu%2FQESHdAPjis8avLprLsNKR2b4t3hAVWUgCnMWAAqDjgi4wBmkEsYYDUUxQlBVqXtVrGEeR0ehmeWtJmvw8M90EK%2Bzy5a1yVdN3LpKf%2FbKuiZi7z1XJSdBeMskpNxgFqwtEos5w5yVl3BA0VLFL9WJu2Y0nbe1Vd%2BqILAG09hjAR1K3qLYkB8n%2BNgOdk3omn1nK79hrJg4YuGGM5V8FVFqUHVYlEOpbDzn3c5H6virFSgnW5KKdrudQQNi8StCXl9L6kf%2F2t9uwP9L0j7YvHB2OKNn2rLcBuhY2rFQW111J6qgFL9NCUs2D5o10wX1xcys%2F5DYREWv4YGjJCSIW1IvBxXT1wG90czHa5Pa4BjvkqQyV1l23i2XAYe%2F%2FlQ%2BvS7Qj8z1zvrhWw3%2BIByOa0jCVNQVnCDoA%3D%3D&nvMid=13699121223&catId=50002350\n",
      "앱코 오엘라 네오스핀 OBC-AW09WH 44,900원 생활가전 청소기 무선청소기 품목 : 핸디스틱청소기|형태 : 상중심|집진방식 : 싸이클론|사용시간 : 1시간10분|청소방식 : 흡입전용|충전시간 : 2시간30분|배터리용량 : 2,500mAh|배터리종류 : 리튬이온|, , , , , , , https://cr.shopping.naver.com/adcr.nhn?x=3mBn0t09SUAEF0wrEqIeX%2F%2F%2F%2Fw%3D%3DszmXY0dkJJH56%2FEI%2FX6B55V4lq2nNqozofHyWJ7JhuJKJ5ltDmER3oclazeOpToBHvLUsrYMBlC%2B6%2BBlZbtABRb9ibSSTIjxynIdZ2neBwU5Qm4SLs3i%2FjGGPR43wmWtwFGhnHFn6I2VJH6fQb%2FD%2BstyGaSr%2B0dRu37W7MMIB4NFk9Io6iZoAfEBQfsbkhBMBMlYmiZ69kp6JtiaSWutpw5MXb4POKFfqMTsWmQ4htb9jhT3q51gOqoSu%2FQESHdAPjis8avLprLsNKR2b4t3hAVWUgCnMWAAqDjgi4wBmkEsYYDUUxQlBVqXtVrGEeR0ehmeWtJmvw8M90EK%2Bzy5a1yVdN3LpKf%2FbKuiZi7z1XJT%2BdwEcCgM%2BHx1Hq2mY%2BnxjNYQ1Ey0X1dCm9hASZp2CX1d%2BqILAG09hjAR1K3qLYkBLEasDOWHrdNUv1Uxs9F3C7s%2F5WA4pbfv064Ww6CPPbrDzn3c5H6virFSgnW5KKdrjvg3QxktYDAN0xGFPGbAy4dBF%2FZwiK3B7TnDcOs3AGVHGSQsFD1pnV7oc8E9dLVFtgLHwcum2oukv19f6%2FEYVDWrhHEcp0p%2F%2FKKziu53PdAe%2BRNLnstHLSnTNKj5MIewrCWrMohzo5o%2FhHgJ5gSDrV3OdHgSE8LoEjTx9zpNPbFaRsOtQUnaEEbxBoHxZXOc%3D&nvMid=20956933116&catId=50002350\n",
      "신일전자 SVC-PEG330 99,000원 생활가전 청소기 무선청소기 품목 : 핸디스틱청소기|형태 : 상중심|집진방식 : 싸이클론|사용시간 : 1시간10분|청소방식 : 흡입전용|충전시간 : 2시간30분|배터리용량 : 2,500mAh|배터리종류 : 리튬이온|, , , , , , , https://cr.shopping.naver.com/adcr.nhn?x=UpRGV5zpzzvH4Qe5UDqRKv%2F%2F%2Fw%3D%3DsLxi%2ByulbApPGL3jap%2Fv2AAIf4sMmoup8ifoOKH9vluvcWa1uN%2F636BLk8rOR8TVp%2FLBd6JRSi2jsM9TdS5FcHcfSPxApKRdT%2FUYgAZDjvP3c%2FADMtLd4uUbbF506MQyrXkMA50ID08VgNY8fGpJRgkls1M9xucXxkPPt7QTmSRFr6kdrp7BvT8OlwZ7P37YysOEUdZudiSAM9Y8RQGEyfInNp9A50L6yuSn4ei5lSd6zno%2Ff3So1GyCo2bMqYmbM0U%2BCaKEcg%2FZL04sYIlV4Qrz4hwEfbXMvOBKoVSTtVCydLIHXBNFPBygwKLL17UsQA5ijqTU6jnRNRTh%2BkUVsAgez%2FY8eSma9aMvarLWce5s9whTx0DylF%2FpmIGJITvmUhr0D3KyTjaYfyrpIngoYk2Qim0uSGV45GygZvcFQrpA%2FqoxBQLL7irrB8y15P36GCNSMhLWMu%2BL25RfluvjogkqxorqzO%2BBGjlflcLUedbLlpwF4e74SIsYlh4qVqlGSzhW4ATNeHpR4SJdEbQK5LwlEiW3oTqNSTQ132YvL2C8HaR8JROhhJdL3IweMlrCDENhIgRPMYNFcTSqPHgE9THX4DtccPCD5ApfhVesfMDX4Yo%2B0lDKSZGiiSHGWDV%2FtBq7h9PA5SrIXrcWPClBGWw%3D%3D&nvMid=19559105254&catId=50002350\n",
      "자센 V18 펜타곤 349,000원 생활가전 청소기 무선청소기 품목 : 핸디스틱청소기|형태 : 상중심|집진방식 : 싸이클론|사용시간 : 1시간10분|청소방식 : 흡입전용|충전시간 : 2시간30분|배터리용량 : 2,500mAh|배터리종류 : 리튬이온|, , , , , , , https://cr.shopping.naver.com/adcr.nhn?x=f8Q3pPHuMIAY8x15ivghZP%2F%2F%2Fw%3D%3DsKmyT5s4zPV2pV%2FEpAHkPaB99Kp0rhwdSiUbTsvcnJRyJ5ltDmER3oclazeOpToBHwOMraPKxRzcQkxxN6RCXVOZeqb0wlQQTzKI4B%2FRSLnhQm4SLs3i%2FjGGPR43wmWtwFGhnHFn6I2VJH6fQb%2FD%2BstyGaSr%2B0dRu37W7MMIB4NFk9Io6iZoAfEBQfsbkhBMBEoEZ3zujTtaAlzm1rpYgUmC%2F6hLo7OSEP5U9aqDxn7RjhT3q51gOqoSu%2FQESHdAPjis8avLprLsNKR2b4t3hAVWUgCnMWAAqDjgi4wBmkEsYYDUUxQlBVqXtVrGEeR0ehmeWtJmvw8M90EK%2Bzy5a1yVdN3LpKf%2FbKuiZi7z1XJR52%2FoPLqDSAu2BiN4o1xmzNTPyrWRU7Qk8nGaS%2Fx93NVd%2BqILAG09hjAR1K3qLYkDJKSCLrQ9KVde1QFOfFYmHjdC4zCqxSwAj%2BpVuxn2ZAyNDXXdTLj1%2FTDVqs6cA9vnjjeoUe6vE4%2BbUcMbwwA%2BrzhW4ATNeHpR4SJdEbQK5L%2FbcbU8mSB4elrM46COvH7cfxngTMCitRsZSeIIrE1lfslZ33K9SYQUkrBloG5D5I7%2FMj81B7Cw3%2FIJz8%2BEA5SLo6uwWE94%2BvKkrOLff7wCKgqgOvq6z5EpEI5N2xav1Mg%3D%3D&nvMid=28493607555&catId=50002350\n",
      "삼성전자 제트 VS20T9218QDCC 568,700원 생활가전 청소기 무선청소기 품목 : 핸디스틱청소기|형태 : 상중심|집진방식 : 싸이클론|사용시간 : 1시간10분|청소방식 : 흡입전용|충전시간 : 2시간30분|배터리용량 : 2,500mAh|배터리종류 : 리튬이온|, , , , , , , https://cr.shopping.naver.com/adcr.nhn?x=IaslX9Po6%2FsNiS30f9Bczf%2F%2F%2Fw%3D%3Dsh9XOvlu2SzKYO7Qxw3LZf4j%2FeXu1BNSz6I3dgCABte%2B8DhkNlo8m633jJMNPmptHHNlXn4K6xOIlHFS6mtvKn8AiJInAdxSn6xM4cLyvAO9gZZv%2B%2BYWgfyZEgzoTMCgZfXFoDUmy2FKJpYN76ZWyr0gAn8lD2%2BxrgblrBqYwPdWug%2B9sjA7rHdeMLkY%2BwIMUGl2GNjl3mk%2B77pg7gjTLaYRf8AF7SV93NQpFUK2GCu9UljeWTnmzwB%2BrN5HBCAeiWpmJuOgEl9qgM5iNvNejOL4rTAfmc328hgAILDBuhmmzdfsxYNfSpXYTyu05Hbpt334rL%2BbR36BhYe0R%2FrUmjgBSTS1sRv49oBHxm%2Bxq6Hhfovn%2B3fVYlLj%2FPPrprerVa7N7tfKfDUcpOJPCotbyfa4PAch8oPqbYMXypsXhHcLlkuzMkuYmcLuVgQGqFTB4sv4Pv0kWpdQcKGzAgoBrlxTOFMYfS5RvSr6UoIToHpxx2Eb9uZPGl0qOljWEVlgAFyVJ7KXJwIaJWSqvYfLH1xPZPt8iVsYF57zgF2K7bMuhYZ%2FhI%2FkN84je6k%2F%2BbfyX0ciHFnKoorAInR6IWNzoEn0LgE5azDgalRzOeYhbJbKiyc1B7tv43UkyfSocUwjzBq7h9PA5SrIXrcWPClBGWw%3D%3D&nvMid=26333686522&catId=50002350\n",
      "에이스전자 에이스 ACE K7 342,930원 생활가전 청소기 무선청소기 품목 : 핸디스틱청소기|형태 : 상중심|집진방식 : 싸이클론|사용시간 : 1시간10분|청소방식 : 흡입전용|충전시간 : 2시간30분|배터리용량 : 2,500mAh|배터리종류 : 리튬이온|, , , , , , , https://cr.shopping.naver.com/adcr.nhn?x=7a6gKg8u8QVfdB4PiMXXKf%2F%2F%2Fw%3D%3Ds2SraU95kOwFy%2FBIexFJqEYnbGHpItB3TEgx1R%2FOf8FSJ5ltDmER3oclazeOpToBHUOGA%2Brg%2BUGLXHXgLTKo4J7xNYmn0ROmHzH6SPxy7adRQm4SLs3i%2FjGGPR43wmWtwFGhnHFn6I2VJH6fQb%2FD%2BstyGaSr%2B0dRu37W7MMIB4NFk9Io6iZoAfEBQfsbkhBMB%2BYiZ6DfpSIemU2RR%2FyRJnwp%2BAbelXGc9Y6WJoAB6k19jhT3q51gOqoSu%2FQESHdAPjis8avLprLsNKR2b4t3hAVWUgCnMWAAqDjgi4wBmkEsYYDUUxQlBVqXtVrGEeR0ehmeWtJmvw8M90EK%2Bzy5a1yVdN3LpKf%2FbKuiZi7z1XJRqFatAQxXtHj0h0HJl9w5AQ3Hb9eHfgjpOJF%2FeCyzzXFd%2BqILAG09hjAR1K3qLYkCOmNrBeihikLd3GCIAmdbJSAVqQ8K611Z8hQJPgKoYCtFVD7lpvYYBCVan0AzPuRBAAPHoeewcfa5nBokgQJUOSIfuUdGMcYj0DvRD5ElaOiCNyQeYTFtwMSkLUbIi7HENauEcRynSn%2F8orOK7nc90qUi7iiPJIbxDZxTtOFs7fcIpHoULym2aa%2F5OUfhqxfxXc50eBITwugSNPH3Ok09sVpGw61BSdoQRvEGgfFlc5w%3D%3D&nvMid=21731730686&catId=50002350\n",
      "엔에이치엔위투 라이프썸 LFS-HA17 34,900원 생활가전 청소기 무선청소기 품목 : 핸디스틱청소기|형태 : 상중심|집진방식 : 싸이클론|사용시간 : 1시간10분|청소방식 : 흡입전용|충전시간 : 2시간30분|배터리용량 : 2,500mAh|배터리종류 : 리튬이온|, , , , , , , https://cr.shopping.naver.com/adcr.nhn?x=3xOco9rvp3iVKZmT7UUx1v%2F%2F%2Fw%3D%3DsN9f36bAgKcVegxohxh8Ny%2FFYKl%2FZLzlrrR6eIlG9LWe8DhkNlo8m633jJMNPmptHB9odldqLKYaZitnRFA6sJGdGR4LUnqsll%2FpDowUe18tgZZv%2B%2BYWgfyZEgzoTMCgZfXFoDUmy2FKJpYN76ZWyr0gAn8lD2%2BxrgblrBqYwPdWug%2B9sjA7rHdeMLkY%2BwIMUST1MYmM2PdPnotOgTHeBFYRf8AF7SV93NQpFUK2GCu9UljeWTnmzwB%2BrN5HBCAeiWpmJuOgEl9qgM5iNvNejOL4rTAfmc328hgAILDBuhmmzdfsxYNfSpXYTyu05Hbpt334rL%2BbR36BhYe0R%2FrUmjgBSTS1sRv49oBHxm%2Bxq6Hiu4%2FLTK0YCEi%2F%2FSCyXui97GBYz5elkmO4rJbrtY1tQmK4PAch8oPqbYMXypsXhHcLUkwRY4tpqgEU8s403DGRXPoVRGKE69U0rr5qui8URdnAtwl9qEpNMCTif1WC85geBoM65FJ%2FkHFIKeJFurUxy3Ksdjym%2BAfC7ZgowHDpFMTu9g3Mvw9dhMAFWyEBJggdicchwRNwmJ84TyxvjggzFm93AogG14ffgofF1tp7L3621ZyCTbDx1rFI1OKAu9o7ke%2FVP%2BgM94BPZkP5YJ%2Bex&nvMid=24067189523&catId=50002350\n",
      "아이닉 무선 미니청소기 49,900원 생활가전 청소기 무선청소기 품목 : 핸디스틱청소기|형태 : 상중심|집진방식 : 싸이클론|사용시간 : 1시간10분|청소방식 : 흡입전용|충전시간 : 2시간30분|배터리용량 : 2,500mAh|배터리종류 : 리튬이온|, , , , , , , https://cr.shopping.naver.com/adcr.nhn?x=BHOi%2FBUzk8cwEg4U0TsWSv%2F%2F%2Fw%3D%3DsY6ERdBvQsnt8jXa%2BYTfWjZQ5jG9nmkxxtHtPfOU9f66J5ltDmER3oclazeOpToBHAZIQCisbd7AODmkbYy5NOOQ4faSaKqx93gFCDL5aXIBQm4SLs3i%2FjGGPR43wmWtwFGhnHFn6I2VJH6fQb%2FD%2BstyGaSr%2B0dRu37W7MMIB4NFk9Io6iZoAfEBQfsbkhBMB9CLpE0VALERBu9o34H7NMOn4XAdi3YQbEXEsGGpJWqZjhT3q51gOqoSu%2FQESHdAPjis8avLprLsNKR2b4t3hAVWUgCnMWAAqDjgi4wBmkEsYYDUUxQlBVqXtVrGEeR0ehmeWtJmvw8M90EK%2Bzy5a1yVdN3LpKf%2FbKuiZi7z1XJSW2fZMgEZPWHt%2BzohTcwtrgArMnVM8IP0I5Ftu6mK4sFd%2BqILAG09hjAR1K3qLYkBakPdap1ThwKomlnWUsKjJsmESTkGjoVrCAcSeGwa2lLDzn3c5H6virFSgnW5KKdoV3KSTkzo78AVTKuexW6SFnCeKFy3ZAX8%2FImHfAgPynVWRgNXBqi7b1vswQfTWqiheU4jM%2Blhak%2BG0qo6hqsVjiA3%2FU2AzguC84AnoS7Lq%2BRrCN8fsbIUXpDGcSdxiIkhOplNYc%2F%2FV4AiJhm3RJqJ4V3OdHgSE8LoEjTx9zpNPbFaRsOtQUnaEEbxBoHxZXOc%3D&nvMid=30002747618&catId=50002350\n"
     ]
    },
    {
     "name": "stdout",
     "output_type": "stream",
     "text": [
      "LG전자 A9S 오브제컬렉션 AO9471WKT 1,059,000원 생활가전 청소기 무선청소기 품목 : 핸디스틱청소기|형태 : 상중심|집진방식 : 싸이클론|사용시간 : 1시간10분|청소방식 : 흡입전용|충전시간 : 2시간30분|배터리용량 : 2,500mAh|배터리종류 : 리튬이온|, , , , , , , https://cr.shopping.naver.com/adcr.nhn?x=KhS%2BPVvROhQblOpyTlc7Fv%2F%2F%2Fw%3D%3DsEbG42vPgdrxE%2FWwF8mzPFHHtcDeFrdHB87iJh9yYLmCJ5ltDmER3oclazeOpToBHolxzsAAHo1Uzzu5Wv60nsOnC97f9n9w2p8l05oUeJZxQm4SLs3i%2FjGGPR43wmWtwFGhnHFn6I2VJH6fQb%2FD%2BstyGaSr%2B0dRu37W7MMIB4NFk9Io6iZoAfEBQfsbkhBMB6ckgXskhJWvvT4MC6eusxoO0zSv5bqoBqynfRBikEohjhT3q51gOqoSu%2FQESHdAPjis8avLprLsNKR2b4t3hAVWUgCnMWAAqDjgi4wBmkEsYYDUUxQlBVqXtVrGEeR0ehmeWtJmvw8M90EK%2Bzy5a1yVdN3LpKf%2FbKuiZi7z1XJQkUJjIks6QADCsomBlm1873Po3fIaWlR4QSDZQrtJ4zld%2BqILAG09hjAR1K3qLYkCYz7SLnQVhlfbrd5%2F1Cc9BendIm%2Fo55usxyaJlq4i%2Be9FVD7lpvYYBCVan0AzPuRDGSnOm7w8AfkfDwBBGLFx3hpvOak3LKNNEkf3lc6KYSvI0fIFRfBZUPaSLRPGc3PLXNklCshdJqsRSDZtz8ENAyqc93PgHFEmLpEpxV%2BUSwo6%2F74bs%2FzNmznhIO5N5zjW6FXp2%2FAo1rMWKjYv38GbE4IU1JK9QVEvJFfErmQB71WhopkeKUdu5q4dSKA0zkoA%3D&nvMid=28125694523&catId=50002350\n",
      "해외샤오미 드리미 V10 140,290원 생활가전 청소기 무선청소기 품목 : 핸디스틱청소기|형태 : 상중심|집진방식 : 싸이클론|사용시간 : 1시간10분|청소방식 : 흡입전용|충전시간 : 2시간30분|배터리용량 : 2,500mAh|배터리종류 : 리튬이온|, , , , , , , https://cr.shopping.naver.com/adcr.nhn?x=HgYSA1m1VkvmVKwjfXeWoP%2F%2F%2Fw%3D%3Ds1kbpvRZFB0ITrQCmABOOHKWiKKafqJPyh6ekwj%2FZz6i8DhkNlo8m633jJMNPmptHtixEqd9CmALZt7jP%2BYIzRJVJmVSSQEA7W%2FRnBg863VtgZZv%2B%2BYWgfyZEgzoTMCgZfXFoDUmy2FKJpYN76ZWyr0gAn8lD2%2BxrgblrBqYwPdWug%2B9sjA7rHdeMLkY%2BwIMUhy6sm1uziVJFjHnhIoS%2FboRf8AF7SV93NQpFUK2GCu9UljeWTnmzwB%2BrN5HBCAeiWpmJuOgEl9qgM5iNvNejOL4rTAfmc328hgAILDBuhmmzdfsxYNfSpXYTyu05Hbpt334rL%2BbR36BhYe0R%2FrUmjgBSTS1sRv49oBHxm%2Bxq6Hirb5s20Dm3VH15g9nTEtjwX1gGcKAv0GWqj5TTRpJY1q4PAch8oPqbYMXypsXhHcKu4u0vZpvusZZ%2FWHW2csJySiNfeDt8lRkZEwCruTWU5zpXrDz8AzXsimhJFl0nIAAuHnGhIsIRnyYbn0SKRWD0FyVJ7KXJwIaJWSqvYfLH192vzR2wyjh%2FHdatrFSBYYoUsqiq%2BaRdh19ZzFGBbFc8qNVkOatX%2B%2FFd4qdBVdBJDREssfWWFhvQm98oHd7PIdgV4qyei2LPAqht3LmSLGOqBq7h9PA5SrIXrcWPClBGWw%3D%3D&nvMid=30073983619&catId=50002350\n",
      "거보아이엔씨 홈마블 H200 109,000원 생활가전 청소기 무선청소기 품목 : 핸디스틱청소기|형태 : 상중심|집진방식 : 싸이클론|사용시간 : 1시간10분|청소방식 : 흡입전용|충전시간 : 2시간30분|배터리용량 : 2,500mAh|배터리종류 : 리튬이온|, , , , , , , https://cr.shopping.naver.com/adcr.nhn?x=AzvoCYppCU4c%2B7EhPsPdUv%2F%2F%2Fw%3D%3Ds7gwn0vUYeFut5uM9ZGh%2FUqgzCIIfOH8CZBU8ff8YUsuJ5ltDmER3oclazeOpToBHFLSZZh7iU%2BMn53q%2B4TqrNbHjs8LnSe4qYiy7AszzksFQm4SLs3i%2FjGGPR43wmWtwFGhnHFn6I2VJH6fQb%2FD%2BstyGaSr%2B0dRu37W7MMIB4NFk9Io6iZoAfEBQfsbkhBMBrA%2FJLaUy3lklpdXnB6t%2BhfDxErv1BP49SI40FG2dMWljhT3q51gOqoSu%2FQESHdAPjis8avLprLsNKR2b4t3hAVWUgCnMWAAqDjgi4wBmkEsYYDUUxQlBVqXtVrGEeR0ehmeWtJmvw8M90EK%2Bzy5a1yVdN3LpKf%2FbKuiZi7z1XJTEefuO0OFLokYCTbf0jzcTRDMIXJAxoYKa8gXEvZpmHVd%2BqILAG09hjAR1K3qLYkDLdzgMXKseNlC1ROR%2BzRstMWNdtMSvEoRY%2B3%2BGQW9YA%2BS5igz8iSN5NJ%2BnDzqlGgcNVFbxTS494IKmnrRBsTeLsEZHDywb0Fd9%2BSe2KLGjro8lUF0FQGkUk9PJMrQkJGlicchwRNwmJ84TyxvjggzFIVX7t%2FRFLirUMhwan2WC14hzlJ43Hke4joFtpxA6%2BfDke%2FVP%2BgM94BPZkP5YJ%2Bex&nvMid=28665976561&catId=50002350\n",
      "오아 클린스틱 OA-CL010 69,000원 생활가전 청소기 무선청소기 품목 : 핸디스틱청소기|형태 : 상중심|집진방식 : 싸이클론|사용시간 : 1시간10분|청소방식 : 흡입전용|충전시간 : 2시간30분|배터리용량 : 2,500mAh|배터리종류 : 리튬이온|, , , , , , , https://cr.shopping.naver.com/adcr.nhn?x=iDHUlmeyUvJLE4qfxx6liP%2F%2F%2Fw%3D%3DsIrBS6Pd%2BtsAixUqzROTbHAAL%2BXaISZ%2FP30w7vSqsLsiJ5ltDmER3oclazeOpToBH41Uu%2FPWHFIuKKD4CXsbC0TPb%2BNPiu39%2BMNAmtlFEvJJQm4SLs3i%2FjGGPR43wmWtwFGhnHFn6I2VJH6fQb%2FD%2BstyGaSr%2B0dRu37W7MMIB4NFk9Io6iZoAfEBQfsbkhBMBnDwQ0sAmTgbTPMLWRttmVz2oEEHrxYzoKX8LVJwdKq1jhT3q51gOqoSu%2FQESHdAPjis8avLprLsNKR2b4t3hAVWUgCnMWAAqDjgi4wBmkEsYYDUUxQlBVqXtVrGEeR0ehmeWtJmvw8M90EK%2Bzy5a1yVdN3LpKf%2FbKuiZi7z1XJReMBd4hiSXQWQWBXXEGwK%2BuyVrdmDPLPV6JcoXH%2FPPZ1d%2BqILAG09hjAR1K3qLYkCpZ1Bwwztud0lkciZ4UTlWkXlMSi85P%2BtIpF9gwr98Q7nlIxB87hhcMDebdXhJjs25AF66e274LM7zfhxiYOVVh4J34flJ4uIdhy5uO8q3gSjufNZmCZF5Ylp0OaTAYEJxQT5ZT3YiQESWeAiNq2B6YnHIcETcJifOE8sb44IMxbSoAEKBSWQjtDlNqiEYpR3sr4V%2B7PPdahviwT8n6b%2BFxyAhEKTy%2B0Zvtn8oYxIR0Q%3D%3D&nvMid=23230766490&catId=50002350\n",
      "일렉트로룩스 WQ61-1OGG 121,890원 생활가전 청소기 무선청소기 품목 : 핸디스틱청소기|형태 : 상중심|집진방식 : 싸이클론|사용시간 : 1시간10분|청소방식 : 흡입전용|충전시간 : 2시간30분|배터리용량 : 2,500mAh|배터리종류 : 리튬이온|, , , , , , , https://cr.shopping.naver.com/adcr.nhn?x=1EmYH4aE2zTVAWPtZvp7kv%2F%2F%2Fw%3D%3Ds7F%2Fk3XcTSEpN20YWlEahzDuHUgFPFAgjxMemPppbbmq8DhkNlo8m633jJMNPmptHG9BnbC2PTV4XLdiHAVDKzuOugj9zBRxh8sSJmqxmgaRgZZv%2B%2BYWgfyZEgzoTMCgZfXFoDUmy2FKJpYN76ZWyr0gAn8lD2%2BxrgblrBqYwPdWug%2B9sjA7rHdeMLkY%2BwIMUt8YWdKQOfmpeNO22yTksk4Rf8AF7SV93NQpFUK2GCu9UljeWTnmzwB%2BrN5HBCAeiWpmJuOgEl9qgM5iNvNejOL4rTAfmc328hgAILDBuhmmzdfsxYNfSpXYTyu05Hbpt334rL%2BbR36BhYe0R%2FrUmjgBSTS1sRv49oBHxm%2Bxq6HisCQE3R7CwLr6OklVvwow9M%2BUQN80HqmCscRcmRPG4dq4PAch8oPqbYMXypsXhHcL7bQl072lHmezc6iKxJS62PoVRGKE69U0rr5qui8URdq5Isa%2B3O7xCKNEhNinpAtqT%2FDK%2BPgyar%2FQbQLLbfgD3dqZ%2FXCVpLGHVdI89g6W4QbkvWCutZK4pE4eHs5MaeaQNauEcRynSn%2F8orOK7nc90hAnxqI5P3Ytlbld6qomq51m0MeHE1MkToKxIuUa8EQFXc50eBITwugSNPH3Ok09sVpGw61BSdoQRvEGgfFlc5w%3D%3D&nvMid=24301182523&catId=50002350\n",
      "에이스전자 에이스 AVG-500 198,930원 생활가전 청소기 무선청소기 품목 : 핸디스틱청소기|형태 : 상중심|집진방식 : 싸이클론|사용시간 : 1시간10분|청소방식 : 흡입전용|충전시간 : 2시간30분|배터리용량 : 2,500mAh|배터리종류 : 리튬이온|, , , , , , , https://cr.shopping.naver.com/adcr.nhn?x=vFRQrKqPN49cBgKsqctOYf%2F%2F%2Fw%3D%3DszCMSlMLQgAeoetl%2BwAdXLjHmRppSz8u0kETva2F%2FJq2J5ltDmER3oclazeOpToBH6VLc%2BL7ZK2psMnWuuhr4iVU78SaKmrw%2FxDnXbFCtdKVQm4SLs3i%2FjGGPR43wmWtwFGhnHFn6I2VJH6fQb%2FD%2BstyGaSr%2B0dRu37W7MMIB4NFk9Io6iZoAfEBQfsbkhBMB7R70id77vYp6l6RfwA6Qj6nKeF4fIVHhIi017FAMHMZjhT3q51gOqoSu%2FQESHdAPjis8avLprLsNKR2b4t3hAVWUgCnMWAAqDjgi4wBmkEsYYDUUxQlBVqXtVrGEeR0ehmeWtJmvw8M90EK%2Bzy5a1yVdN3LpKf%2FbKuiZi7z1XJQ3t7ajVAoJOEia2rvdh5qHf3XpozQQ3qbxw0vl%2F7xcoVd%2BqILAG09hjAR1K3qLYkDCCW8cFLIJMPOSTRgP7n7fwztzkUdhX65VbTgZ1EIcZdFVD7lpvYYBCVan0AzPuRADZhsgX0ngutRb2OXJ7AxHgMwedJkVvVsgdNM89XWytq9N%2BE6%2FkLdBtpjVKqK7%2F4%2BtqaMHAJkj0DAJXiYJNZCZWrFXfLfyPZD0I6SN0Eyd745FRUSRI4DUn5WjBEDlkeQDfkLIyuldBS3f8m8e6nLmzUhNzs2VE%2B%2Bisqs3JAEppg%3D%3D&nvMid=27059015522&catId=50002350\n",
      "다이슨 V15 디텍트 컴플리트 1,273,990원 생활가전 청소기 무선청소기 품목 : 핸디스틱청소기|형태 : 상중심|집진방식 : 싸이클론|사용시간 : 1시간10분|청소방식 : 흡입전용|충전시간 : 2시간30분|배터리용량 : 2,500mAh|배터리종류 : 리튬이온|, , , , , , , https://cr.shopping.naver.com/adcr.nhn?x=bYWuIoOWSt4WBnmm1iWXYf%2F%2F%2Fw%3D%3DsFVdfIoD%2BgypTTRELUHziZUbyy75wo6208o%2F6axLFJE7cWa1uN%2F636BLk8rOR8TVpqbKxKLHMwjJy90lC4kBOLDT0JUzo9k7fmiqbsi2Gyzrc%2FADMtLd4uUbbF506MQyrXkMA50ID08VgNY8fGpJRgkls1M9xucXxkPPt7QTmSRFr6kdrp7BvT8OlwZ7P37YySvSCVGhjxLw4LsrOUE00qoWV7KsVb7p446yoPRV%2BDWGzno%2Ff3So1GyCo2bMqYmbM0U%2BCaKEcg%2FZL04sYIlV4Qrz4hwEfbXMvOBKoVSTtVCydLIHXBNFPBygwKLL17UsQA5ijqTU6jnRNRTh%2BkUVsAgez%2FY8eSma9aMvarLWce5s9whTx0DylF%2FpmIGJITvmUUg5tltagDxlXFTJujTpj5GQim0uSGV45GygZvcFQrpBQn4B%2BLKy9XmDPwblgXGQ7s4y53ZdLgJLp5fyLjc5O%2BkqxorqzO%2BBGjlflcLUedbLiSiqjlQyou12F9TMgHhXIPy32NiygRHgyneberPWH4s4VuAEzXh6UeEiXRG0CuS%2BfGxRnKPDSyVlkW8HWXRy1yJH8fDwegvFN0rJY%2FwH7h%2F6suBQH1V68VSdP4hFuDVh%2BJw2ADdGF2TMykWZ16skh8hubAYPwZR%2FeC4NZmEUCPQ4SwcLvxUEucVmH%2BcOht40%3D&nvMid=27316720522&catId=50002350\n",
      "LG전자 코드제로 AS9100ST 727,390원 생활가전 청소기 무선청소기 품목 : 핸디스틱청소기|형태 : 상중심|집진방식 : 싸이클론|사용시간 : 1시간10분|청소방식 : 흡입전용|충전시간 : 2시간30분|배터리용량 : 2,500mAh|배터리종류 : 리튬이온|, , , , , , , https://cr.shopping.naver.com/adcr.nhn?x=YJXB4wn7brHhOMK4FgrUI%2F%2F%2F%2Fw%3D%3DsxfT%2BTORvhDmv1RmeyZ8LfQqRA0u5a9vJZjpUEs4qs6SJ5ltDmER3oclazeOpToBHD6GAQYmezknSNNHZWrp%2BttAVTHI4Frd91UAt8tQ8WAdQm4SLs3i%2FjGGPR43wmWtwFGhnHFn6I2VJH6fQb%2FD%2BstyGaSr%2B0dRu37W7MMIB4NFk9Io6iZoAfEBQfsbkhBMBdt1Ods3fZlK1KS%2BinqSPuAp%2BAbelXGc9Y6WJoAB6k19jhT3q51gOqoSu%2FQESHdAPjis8avLprLsNKR2b4t3hAVWUgCnMWAAqDjgi4wBmkEsYYDUUxQlBVqXtVrGEeR0ehmeWtJmvw8M90EK%2Bzy5a1yVdN3LpKf%2FbKuiZi7z1XJQD78IFlF2MdHXit9LtLS4uTbZnoTG8tIk5Yc46WsScnVd%2BqILAG09hjAR1K3qLYkCaEyNkKoOEPXs2QaX%2FUHEsZAQ5cL3irPQEH9RqSly4ZdFVD7lpvYYBCVan0AzPuRCojB0lgnxWZpfN9eIOzjLnWommvWHbpD9s%2Bzdqwa41ZRjhfBiKaHW%2BYoevAdXLNWBPwCXFJiRdosf3os3K%2FWn1BG6hWo998NatKMkE4pLdH0QXobGk73JBYhVNCxRNy14DfkLIyuldBS3f8m8e6nLmzUhNzs2VE%2B%2Bisqs3JAEppg%3D%3D&nvMid=28971071586&catId=50002350\n"
     ]
    }
   ],
   "source": [
    "# 파일 열기(파일명, 모드(쓰기모드), 인코딩 종류, 줄바꿈 문자 없애기)\n",
    "f = open(\"prouct data.csv\", 'w', encoding='CP949', newline='')\n",
    "\n",
    "# 상품 정보 div 가져오기\n",
    "items = browser.find_elements_by_css_selector(\".basicList_info_area__17Xyo\")\n",
    "\n",
    "# 제품별 정보 가져오기\n",
    "for item in items:\n",
    "    # 제품명\n",
    "    name = item.find_element_by_css_selector(\".basicList_title__3P9Q7\").text \n",
    "    # 가격\n",
    "    try:\n",
    "        price = item.find_element_by_css_selector(\".price_num__2WUXn\").text \n",
    "    except: # 가격 정보가 없을 경우 제외처리 (이 부분이 없으면 오류가 남)\n",
    "        price = '판매중단'\n",
    "    \n",
    "    # 카테고리\n",
    "    category1 = browser.find_element_by_css_selector(\"div.basicList_depth__2QIie > a:nth-child(2)\").text # 대분류\n",
    "    category2 = browser.find_element_by_css_selector(\"div.basicList_depth__2QIie > a:nth-child(3)\").text # 중분류\n",
    "    category3 = browser.find_element_by_css_selector(\"div.basicList_depth__2QIie > a:nth-child(4)\").text # 소분류\n",
    "    \n",
    "    # 제품 특징\n",
    "    product_features1 = browser.find_element_by_css_selector(\".basicList_detail_box__3ta3h \").text\n",
    "    \n",
    "    # 상세 페이지 URL\n",
    "    link = item.find_element_by_css_selector(\".basicList_title__3P9Q7 > a\").get_attribute('href') \n",
    "    print(name, price, category1,category2, category3, product_features, link )\n",
    "    \n",
    "    # 데이터 쓰기\n",
    "    csvwriter = csv.writer(f)\n",
    "    csvwriter.writerow([name, price, category1,category2, category3, product_features,link])\n",
    "\n",
    "# 파일 닫기\n",
    "# f.close()"
   ]
  },
  {
   "cell_type": "code",
   "execution_count": null,
   "id": "410f5462",
   "metadata": {},
   "outputs": [],
   "source": []
  },
  {
   "cell_type": "code",
   "execution_count": null,
   "id": "f152eb33",
   "metadata": {},
   "outputs": [],
   "source": []
  },
  {
   "cell_type": "code",
   "execution_count": null,
   "id": "5986ef8f",
   "metadata": {},
   "outputs": [],
   "source": []
  },
  {
   "cell_type": "code",
   "execution_count": null,
   "id": "d8768e32",
   "metadata": {},
   "outputs": [],
   "source": []
  },
  {
   "cell_type": "code",
   "execution_count": null,
   "id": "fcbc1ed5",
   "metadata": {},
   "outputs": [],
   "source": []
  },
  {
   "cell_type": "code",
   "execution_count": null,
   "id": "0bb9e1b9",
   "metadata": {},
   "outputs": [],
   "source": []
  },
  {
   "cell_type": "code",
   "execution_count": null,
   "id": "7ae235a8",
   "metadata": {},
   "outputs": [],
   "source": []
  },
  {
   "cell_type": "code",
   "execution_count": null,
   "id": "f35c3707",
   "metadata": {},
   "outputs": [],
   "source": []
  },
  {
   "cell_type": "code",
   "execution_count": null,
   "id": "e8f2a0c0",
   "metadata": {},
   "outputs": [],
   "source": []
  }
 ],
 "metadata": {
  "kernelspec": {
   "display_name": "Python 3 (ipykernel)",
   "language": "python",
   "name": "python3"
  },
  "language_info": {
   "codemirror_mode": {
    "name": "ipython",
    "version": 3
   },
   "file_extension": ".py",
   "mimetype": "text/x-python",
   "name": "python",
   "nbconvert_exporter": "python",
   "pygments_lexer": "ipython3",
   "version": "3.8.12"
  },
  "toc": {
   "base_numbering": 1,
   "nav_menu": {},
   "number_sections": true,
   "sideBar": true,
   "skip_h1_title": false,
   "title_cell": "Table of Contents",
   "title_sidebar": "Contents",
   "toc_cell": false,
   "toc_position": {},
   "toc_section_display": true,
   "toc_window_display": false
  },
  "varInspector": {
   "cols": {
    "lenName": 16,
    "lenType": 16,
    "lenVar": 40
   },
   "kernels_config": {
    "python": {
     "delete_cmd_postfix": "",
     "delete_cmd_prefix": "del ",
     "library": "var_list.py",
     "varRefreshCmd": "print(var_dic_list())"
    },
    "r": {
     "delete_cmd_postfix": ") ",
     "delete_cmd_prefix": "rm(",
     "library": "var_list.r",
     "varRefreshCmd": "cat(var_dic_list()) "
    }
   },
   "types_to_exclude": [
    "module",
    "function",
    "builtin_function_or_method",
    "instance",
    "_Feature"
   ],
   "window_display": false
  }
 },
 "nbformat": 4,
 "nbformat_minor": 5
}
