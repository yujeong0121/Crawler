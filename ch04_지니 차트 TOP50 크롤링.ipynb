{
 "cells": [
  {
   "cell_type": "markdown",
   "id": "501eb4cd",
   "metadata": {},
   "source": [
    "### 지니 차트 TOP50 크롤링\n",
    "```2021.12.11 version```   \n",
    "지니차트는 멜론, 벅스와 다르게 한 페이지당 50개의 곡만 보여준다. 100개의 곡을 얻어오려면 페이지를 이동해가며 크롤링해야한다(ch06 참고). 다른 챕터에서 다룰예정이므로 이번장에서는 50개만 크롤링 해볼 것이다.\n"
   ]
  },
  {
   "cell_type": "markdown",
   "id": "56ca8175",
   "metadata": {},
   "source": [
    "#### 크롬드라이버 실행"
   ]
  },
  {
   "cell_type": "code",
   "execution_count": 1,
   "id": "2e8dfd1b",
   "metadata": {},
   "outputs": [
    {
     "name": "stderr",
     "output_type": "stream",
     "text": [
      "C:\\Users\\skygg\\AppData\\Local\\Temp/ipykernel_13020/2568102389.py:2: DeprecationWarning: executable_path has been deprecated, please pass in a Service object\n",
      "  driver = webdriver.Chrome('c:/Users/data_test/chromedriver.exe')\n"
     ]
    }
   ],
   "source": [
    "from selenium import webdriver\n",
    "driver = webdriver.Chrome('c:/Users/data_test/chromedriver.exe')"
   ]
  },
  {
   "cell_type": "markdown",
   "id": "8e5d3985",
   "metadata": {},
   "source": [
    "#### 지니 인기차트 웹페이지 접속"
   ]
  },
  {
   "cell_type": "code",
   "execution_count": 2,
   "id": "9e0c82d5",
   "metadata": {},
   "outputs": [],
   "source": [
    "url = 'https://www.genie.co.kr/chart/top200'\n",
    "driver.get(url)"
   ]
  },
  {
   "cell_type": "markdown",
   "id": "f240e964",
   "metadata": {},
   "source": [
    "#### HTML 다운로드 및 BeauifulSoup으로 읽기"
   ]
  },
  {
   "cell_type": "code",
   "execution_count": 3,
   "id": "aadad943",
   "metadata": {},
   "outputs": [],
   "source": [
    "from bs4 import BeautifulSoup\n",
    "html = driver.page_source\n",
    "soup = BeautifulSoup(html, 'html.parser')"
   ]
  },
  {
   "cell_type": "markdown",
   "id": "e2283541",
   "metadata": {},
   "source": [
    "#### TOP 50 노래 태그 찾기"
   ]
  },
  {
   "cell_type": "code",
   "execution_count": 4,
   "id": "83a10490",
   "metadata": {},
   "outputs": [
    {
     "name": "stdout",
     "output_type": "stream",
     "text": [
      "50\n",
      "<tr class=\"list\" songid=\"94932434\">\n",
      "<td class=\"check\"><input class=\"select-check\" title=\"회전목마 (Feat. Zion.T &amp; 원슈타인) (Prod. by Slom)\" type=\"checkbox\"/></td>\n",
      "<td class=\"number\">1\n",
      "                                        \n",
      "                                    <span class=\"rank\">\n",
      "<span class=\"rank\"><span class=\"rank-none\"><span class=\"hide\">유지</span></span></span>\n",
      "</span>\n",
      "</td>\n",
      "<td><a class=\"cover\" href=\"#\" onclick=\"fnViewAlbumLayer('82387392');return false;\"><span class=\"mask\"></span><img alt=\"쇼미더머니 10 Episode 2\" onerror=\"this.src='//image.genie.co.kr/imageg/web/common/blank_68.gif';\" src=\"//image.genie.co.kr/Y/IMAGE/IMG_ALBUM/082/387/392/82387392_1636696960130_1_140x140.JPG/dims/resize/Q_80,0\"/></a></td>\n",
      "<td class=\"link\"><a class=\"btn-basic btn-info\" href=\"#\" onclick=\"fnViewSongInfo('94932434');return false;\">곡 제목 정보 페이지</a></td>\n",
      "<td class=\"info\">\n",
      "<a class=\"title ellipsis\" href=\"#\" onclick=\"fnPlaySong('94932434','1');return false;\" title=\"재생\">\n",
      "                                        \n",
      "                                            \n",
      "                                        \n",
      "                                        \n",
      "                                        \n",
      "                                        \n",
      "                                            \n",
      "                                                회전목마 (Feat. Zion.T &amp; 원슈타인) (Prod. by Slom)</a>\n",
      "<a class=\"artist ellipsis\" href=\"#\" onclick=\"fnViewArtist('80675406');return false;\">sokodomo</a>\n",
      "<div class=\"toggle-button-box\">\n",
      "<button class=\"btn artist-etc\" onclick=\"fnRelationArtistList('94932434');\" type=\"button\">외</button>\n",
      "<ul class=\"list\" id=\"RelationArtist_94932434\"></ul>\n",
      "</div>\n",
      "<i class=\"bar\">|</i>\n",
      "<a class=\"albumtitle ellipsis\" href=\"#\" onclick=\"fnViewAlbumLayer('82387392');return false;\">쇼미더머니 10 Episode 2</a>\n",
      "</td>\n",
      "<td class=\"btns\"><a class=\"btn-basic btn-listen\" href=\"#\" onclick=\"fnPlaySong('94932434;' ,'1'); return false;\" title=\"재생\">듣기</a></td>\n",
      "<td class=\"btns\"><a class=\"btn-basic btn-add\" href=\"#\" onclick=\"fnPlaySong('94932434;' ,'3'); return false;\" title=\"추가\">재생목록에 추가</a></td>\n",
      "<td class=\"btns\"><button class=\"btn-basic btn-album\" id=\"add_my_album_94932434\" onclick=\"fnAddMyAlbumForm('#add_my_album_94932434' , '94932434' ,10, 10);return false;\" songid=\"94932434\" type=\"button\">플레이리스트에 담기</button></td>\n",
      "<td class=\"btns\"><a class=\"btn-basic btn-down\" href=\"#\" onclick=\"fnDownSong('94932434');return false;\" title=\"다운\">다운로드</a></td>\n",
      "<td class=\"btns\">\n",
      "<div class=\"toggle-button-box lyr-mv\" id=\"list-mv_94932434\">\n",
      "<a alt=\"회전목마 (Feat. Zion.T &amp; 원슈타인) (Prod. by Slom)\" class=\"btn btn-basic btn-mv disabled\" href=\"#\" onclick=\"return false;\" style=\"pointer-events: none;\" title=\"재생 불가\">뮤직비디오 보기</a>\n",
      "</div>\n",
      "</td>\n",
      "<td class=\"more\">\n",
      "<div class=\"toggle-button-box\">\n",
      "<button class=\"btn btn-basic btn-more\" type=\"button\">더보기</button>\n",
      "<ul class=\"list\">\n",
      "<li><a class=\"item\" href=\"#\" onclick=\"shareDo('94932434');return false;\" title=\"공유\">공유하기/음악나누기</a></li>\n",
      "<li><a class=\"item\" href=\"#\" onclick=\"fnGiftSong('94932434');return false;\" title=\"선물\">선물하기</a></li>\n",
      "</ul>\n",
      "</div>\n",
      "</td>\n",
      "</tr>\n"
     ]
    }
   ],
   "source": [
    "songs = soup.select('tbody > tr')\n",
    "print(len(songs)) # 100개의 곡 수와 일치하는지 확인\n",
    "print(songs[0])"
   ]
  },
  {
   "cell_type": "markdown",
   "id": "f9ab4968",
   "metadata": {},
   "source": [
    "#### 한 개의 곡 정보 지정하기"
   ]
  },
  {
   "cell_type": "code",
   "execution_count": 5,
   "id": "2c4437d7",
   "metadata": {},
   "outputs": [],
   "source": [
    " song = songs[0]"
   ]
  },
  {
   "cell_type": "markdown",
   "id": "2b8e0f89",
   "metadata": {},
   "source": [
    "#### 곡 제목 찾고 텍스트만 가져오기"
   ]
  },
  {
   "cell_type": "code",
   "execution_count": 6,
   "id": "d6e20088",
   "metadata": {},
   "outputs": [
    {
     "data": {
      "text/plain": [
       "1"
      ]
     },
     "execution_count": 6,
     "metadata": {},
     "output_type": "execute_result"
    }
   ],
   "source": [
    "title = song.select(' a.title.ellipsis')\n",
    "len(title)"
   ]
  },
  {
   "cell_type": "code",
   "execution_count": 12,
   "id": "2f59080e",
   "metadata": {},
   "outputs": [
    {
     "data": {
      "text/plain": [
       "'\\n                                        \\n                                            \\n                                        \\n                                        \\n                                        \\n                                        \\n                                            \\n                                                회전목마 (Feat. Zion.T & 원슈타인) (Prod. by Slom)'"
      ]
     },
     "execution_count": 12,
     "metadata": {},
     "output_type": "execute_result"
    }
   ],
   "source": [
    "title = song.select(' a.title.ellipsis')[0].text\n",
    "title"
   ]
  },
  {
   "cell_type": "code",
   "execution_count": 13,
   "id": "b4610570",
   "metadata": {},
   "outputs": [
    {
     "data": {
      "text/plain": [
       "'회전목마 (Feat. Zion.T & 원슈타인) (Prod. by Slom)'"
      ]
     },
     "execution_count": 13,
     "metadata": {},
     "output_type": "execute_result"
    }
   ],
   "source": [
    "title = song.select(' a.title.ellipsis')[0].text.strip()\n",
    "title"
   ]
  },
  {
   "cell_type": "markdown",
   "id": "d77f9333",
   "metadata": {},
   "source": [
    "#### 가수 찾고 텍스트만 가져오기"
   ]
  },
  {
   "cell_type": "code",
   "execution_count": 11,
   "id": "9a374a91",
   "metadata": {},
   "outputs": [
    {
     "data": {
      "text/plain": [
       "1"
      ]
     },
     "execution_count": 11,
     "metadata": {},
     "output_type": "execute_result"
    }
   ],
   "source": [
    "singer = song.select('a.artist.ellipsis')\n",
    "len(singer)"
   ]
  },
  {
   "cell_type": "code",
   "execution_count": 14,
   "id": "cd805a61",
   "metadata": {},
   "outputs": [
    {
     "data": {
      "text/plain": [
       "'sokodomo'"
      ]
     },
     "execution_count": 14,
     "metadata": {},
     "output_type": "execute_result"
    }
   ],
   "source": [
    "singer = song.select('a.artist.ellipsis')[0].text\n",
    "singer"
   ]
  },
  {
   "cell_type": "markdown",
   "id": "1f79c849",
   "metadata": {},
   "source": [
    "#### 지니 50위 노래순위 정보 가져오기"
   ]
  },
  {
   "cell_type": "code",
   "execution_count": 16,
   "id": "4548d175",
   "metadata": {},
   "outputs": [
    {
     "name": "stdout",
     "output_type": "stream",
     "text": [
      "회전목마 (Feat. Zion.T & 원슈타인) (Prod. by Slom)|sokodomo\n",
      "리무진 (Feat. MINO) (Prod. by GRAY)|BE'O (비오)\n",
      "사랑은 늘 도망가|임영웅\n",
      "매일 크리스마스 (Everyday Christmas)|다비치\n",
      "만남은 쉽고 이별은 어려워 (Feat. Leellamarz) (Prod. by TOIL)|베이식\n",
      "ELEVEN|IVE (아이브)\n",
      "불협화음 (Feat. AKMU) (Prod. by GRAY)|Mudd the student\n",
      "이제 나만 믿어요|임영웅\n",
      "다시 사랑한다면 (김필 Ver.)|임영웅\n",
      "별빛 같은 나의 사랑아|임영웅\n",
      "쉬어 (Feat. MINO) (Prod. by GRAY)|아넌딜라이트 (Anandelight) & Unofficialboyy & BE'O (비오) & 지구인 & Mudd The Student\n",
      "문득|BE'O (비오)\n",
      "그대라는 사치|임영웅\n",
      "끝사랑|임영웅\n",
      "네가 없는 밤 (Feat. ASH ISLAND) (Prod. by GRAY)|BE'O (비오)\n",
      "HERO|임영웅\n",
      "잊었니|임영웅\n",
      "Bk Love|임영웅\n",
      "Wake Up (Prod. by 코드 쿤스트)|개코 & Ourealgoat (아우릴고트) & SINCE & 안병웅 & Tabber & 조광일\n",
      "다정히 내 이름을 부르면|경서예지 & 전건호\n",
      "strawberry moon|아이유 (IU)\n",
      "계단말고 엘리베이터|임영웅\n",
      "눈이 오잖아 (Feat.헤이즈)|이무진\n",
      "MBTI (Feat. 쿠기 & 로꼬) (Prod. by GRAY)|BE'O (비오)\n",
      "Savage|aespa\n",
      "All I Want for Christmas Is You|Mariah Carey\n",
      "너를 생각해|주시크 (Joosiq)\n",
      "Stay|The Kid LAROI & Justin Bieber\n",
      "신호등|이무진\n",
      "OHAYO MY NIGHT|디핵 (D-Hack) & PATEKO\n",
      "아무도 잠들지 마라 (Nessun Dorma)|김호중\n",
      "My Universe|Coldplay & 방탄소년단\n",
      "Next Level|aespa\n",
      "호우주의 (Feat. 개코 & 넉살 (Nucksal)) (Prod. by 코드 쿤스트)|조광일\n",
      "Santa Tell Me|Ariana Grande\n",
      "Hey Mama (Feat. Nicki Minaj & Bebe Rexha & Afrojack)|David Guetta\n",
      "낙하 (With 아이유)|AKMU (악뮤)\n",
      "만개 (Prod. 신지후)|김호중\n",
      "나보다 더 사랑해요|김호중\n",
      "깐부 (Feat. 염따 & ASH ISLAND) (Prod. by TOIL)|쿤타 (Koonta)\n",
      "바라만 본다|MSG워너비 (M.O.M)\n",
      "탕!♡|MINO (송민호)\n",
      "Permission to Dance|방탄소년단\n",
      "Butter|방탄소년단\n",
      "살았소|김호중\n",
      "Bad Habits|Ed Sheeran\n",
      "찰나가 영원이 될 때 (The Eternal Moment)|마크툽 (Maktub)\n",
      "Dynamite|방탄소년단\n",
      "고맙소|김호중\n",
      "Universe (Let's Play Ball)|NCT U\n"
     ]
    }
   ],
   "source": [
    "songs = soup.select('tbody > tr')\n",
    "for song in songs:\n",
    "    title = title = song.select('a.title.ellipsis')[0].text.strip()\n",
    "    singer = song.select('a.artist.ellipsis')[0].text\n",
    "    print(title, singer, sep = '|')"
   ]
  },
  {
   "cell_type": "markdown",
   "id": "7d29a8ab",
   "metadata": {},
   "source": [
    "#### 크롤링 결과를 엑셀로 저장하기"
   ]
  },
  {
   "cell_type": "markdown",
   "id": "a7ee3320",
   "metadata": {},
   "source": [
    "반복문을 이용해 곡과 가수명을 song_data에 저장하기"
   ]
  },
  {
   "cell_type": "code",
   "execution_count": 24,
   "id": "b46b47ea",
   "metadata": {},
   "outputs": [],
   "source": [
    "# 4-8에 코드추가\n",
    "\n",
    "song_data = []\n",
    "rank = 1\n",
    "songs = soup.select('tbody > tr')\n",
    "for song in songs:\n",
    "    title = title = song.select('a.title.ellipsis')[0].text.strip()\n",
    "    singer = song.select('a.artist.ellipsis')[0].text\n",
    "    song_data.append(['Genie', rank, title, singer])\n",
    "    rank = rank + 1"
   ]
  },
  {
   "cell_type": "markdown",
   "id": "08cee166",
   "metadata": {},
   "source": [
    "데이터 프레임 만들기"
   ]
  },
  {
   "cell_type": "code",
   "execution_count": 25,
   "id": "73881094",
   "metadata": {},
   "outputs": [
    {
     "data": {
      "text/html": [
       "<div>\n",
       "<style scoped>\n",
       "    .dataframe tbody tr th:only-of-type {\n",
       "        vertical-align: middle;\n",
       "    }\n",
       "\n",
       "    .dataframe tbody tr th {\n",
       "        vertical-align: top;\n",
       "    }\n",
       "\n",
       "    .dataframe thead th {\n",
       "        text-align: right;\n",
       "    }\n",
       "</style>\n",
       "<table border=\"1\" class=\"dataframe\">\n",
       "  <thead>\n",
       "    <tr style=\"text-align: right;\">\n",
       "      <th></th>\n",
       "      <th>서비스</th>\n",
       "      <th>순위</th>\n",
       "      <th>타이틀</th>\n",
       "      <th>가수</th>\n",
       "    </tr>\n",
       "  </thead>\n",
       "  <tbody>\n",
       "    <tr>\n",
       "      <th>0</th>\n",
       "      <td>Genie</td>\n",
       "      <td>1</td>\n",
       "      <td>회전목마 (Feat. Zion.T &amp; 원슈타인) (Prod. by Slom)</td>\n",
       "      <td>sokodomo</td>\n",
       "    </tr>\n",
       "    <tr>\n",
       "      <th>1</th>\n",
       "      <td>Genie</td>\n",
       "      <td>2</td>\n",
       "      <td>리무진 (Feat. MINO) (Prod. by GRAY)</td>\n",
       "      <td>BE'O (비오)</td>\n",
       "    </tr>\n",
       "    <tr>\n",
       "      <th>2</th>\n",
       "      <td>Genie</td>\n",
       "      <td>3</td>\n",
       "      <td>사랑은 늘 도망가</td>\n",
       "      <td>임영웅</td>\n",
       "    </tr>\n",
       "    <tr>\n",
       "      <th>3</th>\n",
       "      <td>Genie</td>\n",
       "      <td>4</td>\n",
       "      <td>매일 크리스마스 (Everyday Christmas)</td>\n",
       "      <td>다비치</td>\n",
       "    </tr>\n",
       "    <tr>\n",
       "      <th>4</th>\n",
       "      <td>Genie</td>\n",
       "      <td>5</td>\n",
       "      <td>만남은 쉽고 이별은 어려워 (Feat. Leellamarz) (Prod. by TOIL)</td>\n",
       "      <td>베이식</td>\n",
       "    </tr>\n",
       "  </tbody>\n",
       "</table>\n",
       "</div>"
      ],
      "text/plain": [
       "     서비스  순위                                                타이틀         가수\n",
       "0  Genie   1         회전목마 (Feat. Zion.T & 원슈타인) (Prod. by Slom)   sokodomo\n",
       "1  Genie   2                   리무진 (Feat. MINO) (Prod. by GRAY)  BE'O (비오)\n",
       "2  Genie   3                                          사랑은 늘 도망가        임영웅\n",
       "3  Genie   4                      매일 크리스마스 (Everyday Christmas)        다비치\n",
       "4  Genie   5  만남은 쉽고 이별은 어려워 (Feat. Leellamarz) (Prod. by TOIL)        베이식"
      ]
     },
     "execution_count": 25,
     "metadata": {},
     "output_type": "execute_result"
    }
   ],
   "source": [
    "import pandas as pd\n",
    "columns = ['서비스', '순위', '타이틀', '가수']\n",
    "pd_data = pd.DataFrame(song_data, columns = columns)\n",
    "pd_data.head()"
   ]
  },
  {
   "cell_type": "markdown",
   "id": "ff8667dd",
   "metadata": {},
   "source": [
    "크롤링 결과를 엑셀 파일로 저장하기"
   ]
  },
  {
   "cell_type": "code",
   "execution_count": 26,
   "id": "4d21e90d",
   "metadata": {},
   "outputs": [],
   "source": [
    "pd_data.to_excel('genie.xlsx', index=False)"
   ]
  },
  {
   "cell_type": "markdown",
   "id": "c87583ae",
   "metadata": {},
   "source": [
    "**최종 코드**"
   ]
  },
  {
   "cell_type": "code",
   "execution_count": 16,
   "id": "5394413d",
   "metadata": {},
   "outputs": [
    {
     "name": "stderr",
     "output_type": "stream",
     "text": [
      "C:\\Users\\skygg\\AppData\\Local\\Temp/ipykernel_13020/2830373591.py:5: DeprecationWarning: executable_path has been deprecated, please pass in a Service object\n",
      "  driver = webdriver.Chrome('c:/playwithdata/chromedriver.exe')\n"
     ]
    }
   ],
   "source": [
    "from selenium import webdriver \n",
    "from bs4 import BeautifulSoup \n",
    "import pandas as pd\n",
    "\n",
    "driver = webdriver.Chrome('c:/playwithdata/chromedriver.exe')\n",
    "url = 'https://www.genie.co.kr/chart/top200'\n",
    "driver.get(url)\n",
    "\n",
    "html = driver.page_source\n",
    "soup = BeautifulSoup(html, 'html.parser')\n",
    "\n",
    "song_data = []\n",
    "rank = 1\n",
    "songs = soup.select('tbody > tr') \n",
    "for song in songs:\n",
    "    title = song.select('a.title')[0].text.strip() \n",
    "    singer = song.select('a.artist')[0].text \n",
    "    song_data.append(['Genie', rank, title, singer]) \n",
    "    rank = rank + 1\n",
    "\n",
    "columns = ['서비스', '순위', '타이틀', '가수']\n",
    "pd_data = pd.DataFrame(song_data, columns = columns) \n",
    "pd_data.to_excel('genie.xlsx', index=False)"
   ]
  },
  {
   "cell_type": "code",
   "execution_count": null,
   "id": "d75ab042",
   "metadata": {},
   "outputs": [],
   "source": []
  }
 ],
 "metadata": {
  "kernelspec": {
   "display_name": "Python 3 (ipykernel)",
   "language": "python",
   "name": "python3"
  },
  "language_info": {
   "codemirror_mode": {
    "name": "ipython",
    "version": 3
   },
   "file_extension": ".py",
   "mimetype": "text/x-python",
   "name": "python",
   "nbconvert_exporter": "python",
   "pygments_lexer": "ipython3",
   "version": "3.8.12"
  },
  "toc": {
   "base_numbering": "4",
   "nav_menu": {},
   "number_sections": true,
   "sideBar": true,
   "skip_h1_title": false,
   "title_cell": "Table of Contents",
   "title_sidebar": "Contents",
   "toc_cell": false,
   "toc_position": {
    "height": "calc(100% - 180px)",
    "left": "10px",
    "top": "150px",
    "width": "165px"
   },
   "toc_section_display": true,
   "toc_window_display": true
  },
  "varInspector": {
   "cols": {
    "lenName": 16,
    "lenType": 16,
    "lenVar": 40
   },
   "kernels_config": {
    "python": {
     "delete_cmd_postfix": "",
     "delete_cmd_prefix": "del ",
     "library": "var_list.py",
     "varRefreshCmd": "print(var_dic_list())"
    },
    "r": {
     "delete_cmd_postfix": ") ",
     "delete_cmd_prefix": "rm(",
     "library": "var_list.r",
     "varRefreshCmd": "cat(var_dic_list()) "
    }
   },
   "types_to_exclude": [
    "module",
    "function",
    "builtin_function_or_method",
    "instance",
    "_Feature"
   ],
   "window_display": false
  }
 },
 "nbformat": 4,
 "nbformat_minor": 5
}
