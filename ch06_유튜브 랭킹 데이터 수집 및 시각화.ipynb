{
 "cells": [
  {
   "cell_type": "markdown",
   "id": "98dd69f7",
   "metadata": {},
   "source": [
    "## 유튜브 랭킹 데이터 수집하기\n",
    "```2021.12.11 version```"
   ]
  },
  {
   "cell_type": "markdown",
   "id": "e566cab8",
   "metadata": {},
   "source": [
    "### 데이터 수집하기"
   ]
  },
  {
   "cell_type": "markdown",
   "id": "110a1eef",
   "metadata": {},
   "source": [
    "#### 필요한 라이브러리 추가하기"
   ]
  },
  {
   "cell_type": "code",
   "execution_count": 74,
   "id": "f8417e98",
   "metadata": {},
   "outputs": [],
   "source": [
    "from selenium import webdriver \n",
    "from bs4 import BeautifulSoup \n",
    "import time\n",
    "import pandas as pd"
   ]
  },
  {
   "cell_type": "markdown",
   "id": "6efb89b1",
   "metadata": {},
   "source": [
    "#### 크롬브라우저 실행하기"
   ]
  },
  {
   "cell_type": "code",
   "execution_count": 75,
   "id": "04e78c0a",
   "metadata": {},
   "outputs": [
    {
     "name": "stderr",
     "output_type": "stream",
     "text": [
      "C:\\Users\\skygg\\AppData\\Local\\Temp/ipykernel_18244/361951788.py:1: DeprecationWarning: executable_path has been deprecated, please pass in a Service object\n",
      "  browser = webdriver.Chrome('C:/Users/data_test/chromedriver.exe')\n"
     ]
    }
   ],
   "source": [
    "browser = webdriver.Chrome('C:/Users/data_test/chromedriver.exe')\n",
    "url = \"https://youtube-rank.com/board/bbs/board.php?bo_table=youtube\" \n",
    "browser.get(url)"
   ]
  },
  {
   "cell_type": "markdown",
   "id": "5bbbaa9c",
   "metadata": {},
   "source": [
    "#### HTML 다운로드 및 BeauifulSoup으로 읽기"
   ]
  },
  {
   "cell_type": "code",
   "execution_count": 76,
   "id": "73eb52ee",
   "metadata": {},
   "outputs": [],
   "source": [
    "html = browser.page_source\n",
    "soup = BeautifulSoup(html, 'html.parser')"
   ]
  },
  {
   "cell_type": "markdown",
   "id": "acb49c5c",
   "metadata": {},
   "source": [
    "#### 채널목록 태그 추출하기"
   ]
  },
  {
   "cell_type": "code",
   "execution_count": 77,
   "id": "d6b93752",
   "metadata": {
    "scrolled": true
   },
   "outputs": [
    {
     "name": "stdout",
     "output_type": "stream",
     "text": [
      "100\n"
     ]
    }
   ],
   "source": [
    "channel_list= soup.select(' form > table > tbody > tr')\n",
    "print(len(channel_list))"
   ]
  },
  {
   "cell_type": "markdown",
   "id": "26acdba1",
   "metadata": {},
   "source": [
    "#### 채널목록 태그구조 확인하기"
   ]
  },
  {
   "cell_type": "code",
   "execution_count": 78,
   "id": "d3aa6ba2",
   "metadata": {},
   "outputs": [
    {
     "name": "stdout",
     "output_type": "stream",
     "text": [
      "<tr class=\"aos-init aos-animate\" data-aos=\"fade-up\" data-aos-duration=\"800\">\n",
      "<td class=\"rank\">\n",
      "                        1                    </td>\n",
      "<td class=\"td_img\">\n",
      "<div class=\"info_img\"><a href=\"https://youtube-rank.com/board/bbs/board.php?bo_table=youtube&amp;wr_id=3203\"><img class=\"lazyload\" data-src=\"https://yt3.ggpht.com/ytc/AKedOLS48A09N2xyM8i9JeIfYCWsd-13csflXwYa8XAmoA=s88-c-k-c0x00ffffff-no-rj-mo\" height=\"88\" src=\"https://yt3.ggpht.com/ytc/AKedOLS48A09N2xyM8i9JeIfYCWsd-13csflXwYa8XAmoA=s88-c-k-c0x00ffffff-no-rj-mo\" width=\"88\"/></a></div>\n",
      "<p class=\"info_rank\">1</p>\n",
      "</td>\n",
      "<td class=\"subject\">\n",
      "<h1>\n",
      "<p <a=\"\" class=\"category\" href=\"https://youtube-rank.com/board/bbs/board.php?bo_table=youtube&amp;sca=%EC%9D%8C%EC%95%85%2F%EB%8C%84%EC%8A%A4%2F%EA%B0%80%EC%88%98\">[음악/댄스/가수]\n",
      "                                \n",
      "                                </p>\n",
      "<a href=\"https://youtube-rank.com/board/bbs/board.php?bo_table=youtube&amp;wr_id=3203\">\n",
      "\t\t\t\t\t\t\t\t\n",
      "\t\t\t\t\t\t\t\tBLACKPINK\t\t\t\t\t\t\t</a>\n",
      "<span>\n",
      "<i class=\"fa fa-comment\"></i>\n",
      "\t\t\t\t\t\t\t\t1\t\t\t\t\t\t\t</span>\n",
      "<i aria-hidden=\"true\" class=\"fa fa-heart\"></i> </h1>\n",
      "<h2><span><a href=\"https://youtube-rank.com/board/bbs/board.php?bo_table=youtube&amp;wr_id=3203\">\"YG Entertainment\" YG 와이지 K-pop BLACKPINK 블랙핑크 블핑 제니 로제 리사 지수 Lisa Jisoo Jennie ...</a></span></h2>\n",
      "<h3>\n",
      "<i class=\"fa fa-user\"></i>\n",
      "                            7040만<i class=\"fa fa-play\"></i>215억0489만                            <i class=\"fa fa-video-camera\"></i>\n",
      "                            395                            <i class=\"fa fa-eye\"></i>\n",
      "                            17,345                        </h3>\n",
      "</td>\n",
      "<td class=\"subscriber_cnt\">7040만</td>\n",
      "<td class=\"view_cnt\">215억0489만</td>\n",
      "<td class=\"video_cnt\">395개</td>\n",
      "<td class=\"hit\">\n",
      "<strong>17,345</strong>\n",
      "<span>HIT</span>\n",
      "</td>\n",
      "</tr>\n"
     ]
    }
   ],
   "source": [
    "channel = channel_list[0]\n",
    "print(channel)"
   ]
  },
  {
   "cell_type": "markdown",
   "id": "834a759e",
   "metadata": {},
   "source": [
    "#### 카테고리 정보 추출하기"
   ]
  },
  {
   "cell_type": "code",
   "execution_count": 79,
   "id": "95382b76",
   "metadata": {},
   "outputs": [
    {
     "name": "stdout",
     "output_type": "stream",
     "text": [
      "[음악/댄스/가수]\n"
     ]
    }
   ],
   "source": [
    "category = channel.select('p.category')[0].text.strip()\n",
    "print(category)"
   ]
  },
  {
   "cell_type": "markdown",
   "id": "e09cbc56",
   "metadata": {},
   "source": [
    "#### 채널명 찾아오기"
   ]
  },
  {
   "cell_type": "code",
   "execution_count": 80,
   "id": "0c3b1eea",
   "metadata": {},
   "outputs": [
    {
     "name": "stdout",
     "output_type": "stream",
     "text": [
      "BLACKPINK\n"
     ]
    }
   ],
   "source": [
    "title = channel.select('h1 > a')[0].text.strip()\n",
    "print(title)"
   ]
  },
  {
   "cell_type": "markdown",
   "id": "98258f33",
   "metadata": {},
   "source": [
    "#### 구독자 수, View 수, 동영상 수 추출하기"
   ]
  },
  {
   "cell_type": "code",
   "execution_count": 81,
   "id": "ab72669f",
   "metadata": {},
   "outputs": [
    {
     "name": "stdout",
     "output_type": "stream",
     "text": [
      "7040만\n",
      "215억0489만\n",
      "395개\n"
     ]
    }
   ],
   "source": [
    "subscriber = channel.select('.subscriber_cnt')[0].text\n",
    "view = channel.select('.view_cnt')[0].text\n",
    "video = channel.select('.video_cnt')[0].text\n",
    "\n",
    "print(subscriber)\n",
    "print(view)\n",
    "print(video)"
   ]
  },
  {
   "cell_type": "markdown",
   "id": "d8824d3d",
   "metadata": {},
   "source": [
    "#### 반복문으로 채널 정보 추출하기"
   ]
  },
  {
   "cell_type": "code",
   "execution_count": 83,
   "id": "e9651854",
   "metadata": {},
   "outputs": [
    {
     "name": "stdout",
     "output_type": "stream",
     "text": [
      "BLACKPINK [음악/댄스/가수] 7040만 215억0489만 395개\n",
      "HYBE LABELS [음악/댄스/가수] 6310만 205억5032만 727개\n",
      "BANGTANTV [음악/댄스/가수] 6170만 141억4146만 1,646개\n",
      "SMTOWN [음악/댄스/가수] 2930만 230억4716만 3,781개\n",
      "Boram Tube Vlog [보람튜브 브이로그] [키즈/어린이] 2650만 110억5288만 223개\n",
      "1MILLION Dance Studio [음악/댄스/가수] 2460만 69억3818만 3,406개\n",
      "1theK (원더케이) [음악/댄스/가수] 2370만 213억7973만 15,706개\n",
      "JYP Entertainment [음악/댄스/가수] 2310만 150억4884만 1,429개\n",
      "Mnet K-POP [음악/댄스/가수] 1900만 140억0019만 26,851개\n",
      "JFlaMusic [음악/댄스/가수] 1740만 35억0548만 281개\n",
      "KBS WORLD TV [TV/방송] 1720만 129억2234만 54,023개\n",
      "Jane ASMR 제인 [음식/요리/레시피] 1550만 55억2336만 1,304개\n",
      "officialpsy [음악/댄스/가수] 1530만 88억4958만 91개\n",
      "AdeleVEVO [미분류] 1520만 105억3233만 49개\n",
      "BIGBANG [음악/댄스/가수] 1390만 68억3992만 773개\n",
      "TWICE [음악/댄스/가수] 1260만 27억0747만 707개\n",
      "Saturday Night Live [미분류] 1250만 125억8059만 7,778개\n",
      "Hongyu ASMR 홍유 [음식/요리/레시피] 1100만 31억6311만 422개\n",
      "Nao FunFun [키즈/어린이] 1070만 447만 37개\n",
      "Stone Music Entertainment [음악/댄스/가수] 1020만 82억8621만 8,357개\n",
      "DuDuPopTOY [키즈/어린이] 1010만 45억2912만 1,911개\n",
      "핑크퐁 (인기 동요・동화) [키즈/어린이] 996만 60억1269만 2,394개\n",
      "MBCkpop [TV/방송] 961만 76억3532만 41,623개\n",
      "Toymong tv 토이몽TV [키즈/어린이] 958만 39억5732만 1,928개\n",
      "Larva TUBA [키즈/어린이] 953만 41억7997만 2,989개\n",
      "서은이야기[SeoeunStory] [키즈/어린이] 943만 40억6210만 1,051개\n",
      "Mnet TV [음악/댄스/가수] 868만 101억1812만 19,253개\n",
      "EXO [음악/댄스/가수] 855만 5억3140만 226개\n",
      "MBCentertainment [뉴스/정치/사회] 850만 149억1852만 88,275개\n",
      "[햄지]Hamzy [음식/요리/레시피] 844만 25억1621만 369개\n",
      "iKON [음악/댄스/가수] 842만 21억6330만 470개\n",
      "TOMORROW X TOGETHER OFFICIAL [음악/댄스/가수] 831만 5억8859만 909개\n",
      "Stray Kids [음악/댄스/가수] 809만 13억2275만 524개\n",
      "M2 [TV/방송] 785만 59억8877만 15,068개\n",
      "Serie A [해외] 769만 26억0635만 21,290개\n",
      "MariAndKids [키즈/어린이] 754만 23억2296만 809개\n",
      "SEVENTEEN [음악/댄스/가수] 727만 24억0573만 974개\n",
      "SonicToy소닉토이 [키즈/어린이] 726만 30억0915만 163개\n",
      "이지금 [IU Official] [음악/댄스/가수] 715만 11억5001만 134개\n",
      "쏘영 Ssoyoung [음식/요리/레시피] 713만 9억5236만 529개\n",
      "문복희 Eat with Boki [음식/요리/레시피] 702만 16억5123만 502개\n",
      "JTBC Entertainment [뉴스/정치/사회] 701만 101억2209만 66,765개\n",
      "Sungha Jung [음악/댄스/가수] 679만 18억9064만 1,282개\n",
      "DJSnakeVEVO [미분류] 659만 64억5079만 51개\n",
      "KBS Kpop [TV/방송] 656만 51억1539만 30,748개\n",
      "ALL THE K-POP [음악/댄스/가수] 652만 40억0112만 21,040개\n",
      "Pixar [미분류] 651만 32억1025만 691개\n",
      "YG ENTERTAINMENT [음악/댄스/가수] 651만 16억5940만 389개\n",
      "MAMAMOO [음악/댄스/가수] 640만 17억9584만 626개\n",
      "ITZY [음악/댄스/가수] 631만 11억8922만 497개\n",
      "서은일상이야기 [키즈/어린이] 623만 23억3985만 619개\n",
      "스브스케이팝 / SBS KPOP [TV/방송] 620만 42억6271만 27,576개\n",
      "GOT7 [음악/댄스/가수] 613만 7억7811만 579개\n",
      "SBS Entertainment [TV/방송] 595만 70억8350만 218,690개\n",
      "tvN drama [TV/방송] 594만 60억6116만 37,884개\n",
      "Samsung [회사/오피셜] 592만 12억8171만 1,637개\n",
      "PONY Syndrome [패션/미용] 589만 3억6326만 195개\n",
      "SBS Drama [TV/방송] 578만 61억0723만 341,671개\n",
      "[장난감티비]TOYTV [키즈/어린이] 578만 28억2640만 1,525개\n",
      "미니특공대TV [키즈/어린이] 571만 32억0975만 1,176개\n",
      "스위트티비 SweetTV [키즈/어린이] 561만 27억1028만 511개\n",
      "야미보이 Yummyboy [음식/요리/레시피] 556만 20억2947만 899개\n",
      "2NE1 [음악/댄스/가수] 537만 19억9397만 321개\n",
      "백종원의 요리비책 Paik's Cuisine [음식/요리/레시피] 523만 5억7852만 366개\n",
      "콩순이 • 시크릿 쥬쥬 [Kongsuni • Secret Jouju] [키즈/어린이] 519만 46억1589만 1,282개\n",
      "[Awesome Haeun]어썸하은 [BJ/인물/연예인] 517만 8억1891만 514개\n",
      "tzuyang쯔양 [음식/요리/레시피] 500만 7억6291만 289개\n",
      "starshipTV [음악/댄스/가수] 497만 28억9608만 1,987개\n",
      "ToyMart TV [키즈/어린이] 492만 21억4918만 651개\n",
      "베이비버스 -인기 동요・동화 [키즈/어린이] 488만 33억0042만 1,333개\n",
      "TOY GUMA [키즈/어린이] 483만 15억9446만 306개\n",
      "BT21 [음악/댄스/가수] 478만 3억9230만 208개\n",
      "SBS NOW / SBS 공식 채널 [뉴스/정치/사회] 476만 47억6579만 20,506개\n",
      "TREASURE (트레저) [음악/댄스/가수] 472만 9억4287만 294개\n",
      "Red Velvet [음악/댄스/가수] 462만 7억1561만 153개\n",
      "KBS Entertain [TV/방송] 460만 74억3341만 102,781개\n",
      "NCT [음악/댄스/가수] 458만 3억2682만 247개\n",
      "With Kids Playground [위드키즈 놀이터] [키즈/어린이] 458만 17억1634만 411개\n",
      "푸메Fume [음식/요리/레시피] 457만 9억4031만 501개\n",
      "떵개떵 [음식/요리/레시피] 457만 26억0707만 4,439개\n",
      "ASTRO 아스트로 [음악/댄스/가수] 454만 4억4838만 470개\n",
      "MBCdrama [TV/방송] 448만 50억6565만 54,948개\n",
      "뽀로로(Pororo) [키즈/어린이] 448만 60억7520만 3,701개\n",
      "영국남자 Korean Englishman [BJ/인물/연예인] 448만 14억5447만 444개\n",
      "하루한끼 one meal a day [음식/요리/레시피] 440만 4억2852만 172개\n",
      "채널 NCT DAILY [TV/방송] 431만 7억6382만 467개\n",
      "Cooking tree 쿠킹트리 [음식/요리/레시피] 429만 3억9984만 1,179개\n",
      "슈슈토이 Shushu ToysReview [키즈/어린이] 428만 16억0526만 636개\n",
      "NCT 127 [음악/댄스/가수] 427만 4억8226만 289개\n",
      "EA SPORTS FIFA [게임] 426만 8억0337만 795개\n",
      "SBS TV동물농장x애니멀봐 [애완/반려동물] 426만 38억9639만 3,196개\n",
      "NCT DREAM [음악/댄스/가수] 425만 4억7911만 244개\n",
      "JTBC Drama [TV/방송] 425만 43억5934만 23,431개\n",
      "Raon Lee [음악/댄스/가수] 424만 9억5844만 295개\n",
      "까니짱 [ G-NI ] [음식/요리/레시피] 421만 11억1110만 538개\n",
      "로미유 스토리[Romiyu Story] [키즈/어린이] 418만 10억9814만 434개\n",
      "[Dorothy]도로시 [음식/요리/레시피] 416만 9억9855만 905개\n",
      "JaeYeol ASMR 재열 [취미/라이프] 398만 10억9915만 1,021개\n",
      "CoCosToy 꼬꼬스토이 [키즈/어린이] 389만 21억9896만 653개\n",
      "허팝Heopop [BJ/인물/연예인] 384만 32억6741만 1,903개\n"
     ]
    },
    {
     "ename": "IndexError",
     "evalue": "list index out of range",
     "output_type": "error",
     "traceback": [
      "\u001b[1;31m---------------------------------------------------------------------------\u001b[0m",
      "\u001b[1;31mIndexError\u001b[0m                                Traceback (most recent call last)",
      "\u001b[1;32m~\\AppData\\Local\\Temp/ipykernel_18244/2129973415.py\u001b[0m in \u001b[0;36m<module>\u001b[1;34m\u001b[0m\n\u001b[0;32m      1\u001b[0m \u001b[0mchannel_list\u001b[0m \u001b[1;33m=\u001b[0m \u001b[0msoup\u001b[0m\u001b[1;33m.\u001b[0m\u001b[0mselect\u001b[0m\u001b[1;33m(\u001b[0m\u001b[1;34m'tbody > tr'\u001b[0m\u001b[1;33m)\u001b[0m\u001b[1;33m\u001b[0m\u001b[1;33m\u001b[0m\u001b[0m\n\u001b[0;32m      2\u001b[0m \u001b[1;32mfor\u001b[0m \u001b[0mchannel\u001b[0m \u001b[1;32min\u001b[0m \u001b[0mchannel_list\u001b[0m\u001b[1;33m:\u001b[0m\u001b[1;33m\u001b[0m\u001b[1;33m\u001b[0m\u001b[0m\n\u001b[1;32m----> 3\u001b[1;33m     \u001b[0mtitle\u001b[0m \u001b[1;33m=\u001b[0m \u001b[0mchannel\u001b[0m\u001b[1;33m.\u001b[0m\u001b[0mselect\u001b[0m\u001b[1;33m(\u001b[0m\u001b[1;34m'h1 > a'\u001b[0m\u001b[1;33m)\u001b[0m\u001b[1;33m[\u001b[0m\u001b[1;36m0\u001b[0m\u001b[1;33m]\u001b[0m\u001b[1;33m.\u001b[0m\u001b[0mtext\u001b[0m\u001b[1;33m.\u001b[0m\u001b[0mstrip\u001b[0m\u001b[1;33m(\u001b[0m\u001b[1;33m)\u001b[0m\u001b[1;33m\u001b[0m\u001b[1;33m\u001b[0m\u001b[0m\n\u001b[0m\u001b[0;32m      4\u001b[0m     \u001b[0mcategory\u001b[0m \u001b[1;33m=\u001b[0m \u001b[0mchannel\u001b[0m\u001b[1;33m.\u001b[0m\u001b[0mselect\u001b[0m\u001b[1;33m(\u001b[0m\u001b[1;34m'p.category'\u001b[0m\u001b[1;33m)\u001b[0m\u001b[1;33m[\u001b[0m\u001b[1;36m0\u001b[0m\u001b[1;33m]\u001b[0m\u001b[1;33m.\u001b[0m\u001b[0mtext\u001b[0m\u001b[1;33m.\u001b[0m\u001b[0mstrip\u001b[0m\u001b[1;33m(\u001b[0m\u001b[1;33m)\u001b[0m\u001b[1;33m\u001b[0m\u001b[1;33m\u001b[0m\u001b[0m\n\u001b[0;32m      5\u001b[0m     \u001b[0msubscriber\u001b[0m \u001b[1;33m=\u001b[0m \u001b[0mchannel\u001b[0m\u001b[1;33m.\u001b[0m\u001b[0mselect\u001b[0m\u001b[1;33m(\u001b[0m\u001b[1;34m'.subscriber_cnt'\u001b[0m\u001b[1;33m)\u001b[0m\u001b[1;33m[\u001b[0m\u001b[1;36m0\u001b[0m\u001b[1;33m]\u001b[0m\u001b[1;33m.\u001b[0m\u001b[0mtext\u001b[0m\u001b[1;33m\u001b[0m\u001b[1;33m\u001b[0m\u001b[0m\n",
      "\u001b[1;31mIndexError\u001b[0m: list index out of range"
     ]
    }
   ],
   "source": [
    "channel_list = soup.select('tbody > tr') \n",
    "for channel in channel_list:\n",
    "    title = channel.select('h1 > a')[0].text.strip()\n",
    "    category = channel.select('p.category')[0].text.strip()\n",
    "    subscriber = channel.select('.subscriber_cnt')[0].text\n",
    "    view = channel.select('.view_cnt')[0].text\n",
    "    video = channel.select('.video_cnt')[0].text \n",
    "    print(title, category, subscriber, view, video)"
   ]
  },
  {
   "cell_type": "markdown",
   "id": "69a3cd44",
   "metadata": {},
   "source": [
    "#### 페이지별 URL 만들기"
   ]
  },
  {
   "cell_type": "code",
   "execution_count": 84,
   "id": "91243b46",
   "metadata": {},
   "outputs": [
    {
     "name": "stdout",
     "output_type": "stream",
     "text": [
      "https://youtube-rank.com/board/bbs/board.php?bo_table=youtube&page=1\n"
     ]
    }
   ],
   "source": [
    "page = 1\n",
    "url = 'https://youtube-rank.com/board/bbs/board.php?bo_table=youtube&page={}'.format(page)\n",
    "print(url)"
   ]
  },
  {
   "cell_type": "markdown",
   "id": "c0e1748a",
   "metadata": {},
   "source": [
    "#### 반복문으로 유튜브 랭킹 화면의 여러 페이지 크롤링하기(최종 코드)"
   ]
  },
  {
   "cell_type": "code",
   "execution_count": 85,
   "id": "2a7b8c7c",
   "metadata": {},
   "outputs": [],
   "source": [
    "results = []\n",
    "for page in range(1,11):\n",
    "    url = f\"https://youtube-rank.com/board/bbs/board.php?bo_table=youtube&page={page}\" \n",
    "    browser.get(url)\n",
    "    time.sleep(2) # 화면이 정상적으로 로딩된 후 HTML문서를 가져오기 위헤 기다림\n",
    "    html = browser.page_source\n",
    "    soup = BeautifulSoup(html, 'html.parser')\n",
    "    channel_list = soup.select('form > table > tbody > tr')\n",
    "    for channel in channel_list:\n",
    "        title = channel.select('h1 > a')[0].text.strip() \n",
    "        category = channel.select('p.category')[0].text.strip()\n",
    "        subscriber = channel.select('.subscriber_cnt')[0].text \n",
    "        view = channel.select('.view_cnt')[0].text\n",
    "        video = channel.select('.video_cnt')[0].text\n",
    "        data = [title, category, subscriber, view, video]\n",
    "        results.append(data)"
   ]
  },
  {
   "cell_type": "markdown",
   "id": "aa8baa3b",
   "metadata": {},
   "source": [
    "#### 데이터 칼럼명을 설정하고 엑셀 파일로 저장하기"
   ]
  },
  {
   "cell_type": "code",
   "execution_count": 87,
   "id": "55c3b90b",
   "metadata": {},
   "outputs": [],
   "source": [
    "df = pd.DataFrame(results)\n",
    "df.columns = ['title', 'category', 'subscriber', 'view', 'video']\n",
    "df.to_excel('youtube_rank.xlsx', index = False)"
   ]
  },
  {
   "cell_type": "markdown",
   "id": "04805e62",
   "metadata": {},
   "source": [
    "### 데이터 시각화 하기"
   ]
  },
  {
   "cell_type": "markdown",
   "id": "16988a65",
   "metadata": {},
   "source": [
    "#### 라이브러리 추가하기"
   ]
  },
  {
   "cell_type": "code",
   "execution_count": 86,
   "id": "c6cadb33",
   "metadata": {},
   "outputs": [],
   "source": [
    "import pandas as pd\n",
    "import matplotlib.pyplot as plt"
   ]
  },
  {
   "cell_type": "markdown",
   "id": "115f3aa8",
   "metadata": {},
   "source": [
    "#### 그래프에서 한글을 표기하기 위한 글꼴 변경"
   ]
  },
  {
   "cell_type": "code",
   "execution_count": 107,
   "id": "03875750",
   "metadata": {},
   "outputs": [],
   "source": [
    "from matplotlib import font_manager, rc\n",
    "import platform\n",
    "if platform.system() == 'Windows':\n",
    "    path = 'c:/Windows/Fonts/malgun.ttf'\n",
    "    font_name = font_manager.FontProperties(fname = path).get_name()\n",
    "    rc('font', family = font_name)\n",
    "elif platform.system() == 'Darwin':\n",
    "    rc('font', family = 'AppleGothic')\n",
    "else:\n",
    "    print('Check your OS system')"
   ]
  },
  {
   "cell_type": "markdown",
   "id": "fe18e564",
   "metadata": {},
   "source": [
    "####  엑셀 파일 불러오기"
   ]
  },
  {
   "cell_type": "code",
   "execution_count": 88,
   "id": "fc661c3a",
   "metadata": {},
   "outputs": [],
   "source": [
    "df = pd.read_excel('youtube_rank.xlsx')"
   ]
  },
  {
   "cell_type": "markdown",
   "id": "7797b0d7",
   "metadata": {},
   "source": [
    "#### 데이터 살펴보기"
   ]
  },
  {
   "cell_type": "code",
   "execution_count": 91,
   "id": "b62676aa",
   "metadata": {},
   "outputs": [
    {
     "data": {
      "text/html": [
       "<div>\n",
       "<style scoped>\n",
       "    .dataframe tbody tr th:only-of-type {\n",
       "        vertical-align: middle;\n",
       "    }\n",
       "\n",
       "    .dataframe tbody tr th {\n",
       "        vertical-align: top;\n",
       "    }\n",
       "\n",
       "    .dataframe thead th {\n",
       "        text-align: right;\n",
       "    }\n",
       "</style>\n",
       "<table border=\"1\" class=\"dataframe\">\n",
       "  <thead>\n",
       "    <tr style=\"text-align: right;\">\n",
       "      <th></th>\n",
       "      <th>title</th>\n",
       "      <th>category</th>\n",
       "      <th>subscriber</th>\n",
       "      <th>view</th>\n",
       "      <th>video</th>\n",
       "    </tr>\n",
       "  </thead>\n",
       "  <tbody>\n",
       "    <tr>\n",
       "      <th>0</th>\n",
       "      <td>BLACKPINK</td>\n",
       "      <td>[음악/댄스/가수]</td>\n",
       "      <td>7040만</td>\n",
       "      <td>215억0489만</td>\n",
       "      <td>395개</td>\n",
       "    </tr>\n",
       "    <tr>\n",
       "      <th>1</th>\n",
       "      <td>HYBE LABELS</td>\n",
       "      <td>[음악/댄스/가수]</td>\n",
       "      <td>6310만</td>\n",
       "      <td>205억5032만</td>\n",
       "      <td>727개</td>\n",
       "    </tr>\n",
       "    <tr>\n",
       "      <th>2</th>\n",
       "      <td>BANGTANTV</td>\n",
       "      <td>[음악/댄스/가수]</td>\n",
       "      <td>6170만</td>\n",
       "      <td>141억4146만</td>\n",
       "      <td>1,646개</td>\n",
       "    </tr>\n",
       "    <tr>\n",
       "      <th>3</th>\n",
       "      <td>SMTOWN</td>\n",
       "      <td>[음악/댄스/가수]</td>\n",
       "      <td>2930만</td>\n",
       "      <td>230억4716만</td>\n",
       "      <td>3,781개</td>\n",
       "    </tr>\n",
       "    <tr>\n",
       "      <th>4</th>\n",
       "      <td>Boram Tube Vlog [보람튜브 브이로그]</td>\n",
       "      <td>[키즈/어린이]</td>\n",
       "      <td>2650만</td>\n",
       "      <td>110억5288만</td>\n",
       "      <td>223개</td>\n",
       "    </tr>\n",
       "  </tbody>\n",
       "</table>\n",
       "</div>"
      ],
      "text/plain": [
       "                         title    category subscriber       view   video\n",
       "0                    BLACKPINK  [음악/댄스/가수]      7040만  215억0489만    395개\n",
       "1                  HYBE LABELS  [음악/댄스/가수]      6310만  205억5032만    727개\n",
       "2                    BANGTANTV  [음악/댄스/가수]      6170만  141억4146만  1,646개\n",
       "3                       SMTOWN  [음악/댄스/가수]      2930만  230억4716만  3,781개\n",
       "4  Boram Tube Vlog [보람튜브 브이로그]    [키즈/어린이]      2650만  110억5288만    223개"
      ]
     },
     "execution_count": 91,
     "metadata": {},
     "output_type": "execute_result"
    }
   ],
   "source": [
    "df.head()"
   ]
  },
  {
   "cell_type": "code",
   "execution_count": 90,
   "id": "30c6036d",
   "metadata": {
    "scrolled": true
   },
   "outputs": [
    {
     "data": {
      "text/html": [
       "<div>\n",
       "<style scoped>\n",
       "    .dataframe tbody tr th:only-of-type {\n",
       "        vertical-align: middle;\n",
       "    }\n",
       "\n",
       "    .dataframe tbody tr th {\n",
       "        vertical-align: top;\n",
       "    }\n",
       "\n",
       "    .dataframe thead th {\n",
       "        text-align: right;\n",
       "    }\n",
       "</style>\n",
       "<table border=\"1\" class=\"dataframe\">\n",
       "  <thead>\n",
       "    <tr style=\"text-align: right;\">\n",
       "      <th></th>\n",
       "      <th>title</th>\n",
       "      <th>category</th>\n",
       "      <th>subscriber</th>\n",
       "      <th>view</th>\n",
       "      <th>video</th>\n",
       "    </tr>\n",
       "  </thead>\n",
       "  <tbody>\n",
       "    <tr>\n",
       "      <th>995</th>\n",
       "      <td>Reynah</td>\n",
       "      <td>[음악/댄스/가수]</td>\n",
       "      <td>55만</td>\n",
       "      <td>1억4888만</td>\n",
       "      <td>246개</td>\n",
       "    </tr>\n",
       "    <tr>\n",
       "      <th>996</th>\n",
       "      <td>J.Y. Park</td>\n",
       "      <td>[TV/방송]</td>\n",
       "      <td>55만</td>\n",
       "      <td>9373만</td>\n",
       "      <td>90개</td>\n",
       "    </tr>\n",
       "    <tr>\n",
       "      <th>997</th>\n",
       "      <td>[ALTUBE] 김성현TV</td>\n",
       "      <td>[게임]</td>\n",
       "      <td>55만</td>\n",
       "      <td>4억2210만</td>\n",
       "      <td>2,121개</td>\n",
       "    </tr>\n",
       "    <tr>\n",
       "      <th>998</th>\n",
       "      <td>방앗간 비둘기</td>\n",
       "      <td>[게임]</td>\n",
       "      <td>55만</td>\n",
       "      <td>3억5690만</td>\n",
       "      <td>4,381개</td>\n",
       "    </tr>\n",
       "    <tr>\n",
       "      <th>999</th>\n",
       "      <td>빅헤드</td>\n",
       "      <td>[게임]</td>\n",
       "      <td>55만</td>\n",
       "      <td>3억2660만</td>\n",
       "      <td>3,540개</td>\n",
       "    </tr>\n",
       "  </tbody>\n",
       "</table>\n",
       "</div>"
      ],
      "text/plain": [
       "              title    category subscriber     view   video\n",
       "995          Reynah  [음악/댄스/가수]        55만  1억4888만    246개\n",
       "996       J.Y. Park     [TV/방송]        55만    9373만     90개\n",
       "997  [ALTUBE] 김성현TV        [게임]        55만  4억2210만  2,121개\n",
       "998         방앗간 비둘기        [게임]        55만  3억5690만  4,381개\n",
       "999             빅헤드        [게임]        55만  3억2660만  3,540개"
      ]
     },
     "execution_count": 90,
     "metadata": {},
     "output_type": "execute_result"
    }
   ],
   "source": [
    "df.tail()"
   ]
  },
  {
   "cell_type": "code",
   "execution_count": 93,
   "id": "198ab379",
   "metadata": {
    "scrolled": true
   },
   "outputs": [
    {
     "data": {
      "text/plain": [
       "0    7040만\n",
       "1    6310만\n",
       "2    6170만\n",
       "3    2930만\n",
       "4    2650만\n",
       "5    2460만\n",
       "6    2370만\n",
       "7    2310만\n",
       "8    1900만\n",
       "9    1740만\n",
       "Name: subscriber, dtype: object"
      ]
     },
     "execution_count": 93,
     "metadata": {},
     "output_type": "execute_result"
    }
   ],
   "source": [
    "# 구독자 수 앞에 10개 보기\n",
    "df['subscriber'][0:10] "
   ]
  },
  {
   "cell_type": "code",
   "execution_count": 95,
   "id": "b08269a8",
   "metadata": {},
   "outputs": [
    {
     "data": {
      "text/plain": [
       "0    70400000\n",
       "1    63100000\n",
       "2    61700000\n",
       "3    29300000\n",
       "4    26500000\n",
       "5    24600000\n",
       "6    23700000\n",
       "7    23100000\n",
       "8    19000000\n",
       "9    17400000\n",
       "Name: subscriber, dtype: object"
      ]
     },
     "execution_count": 95,
     "metadata": {},
     "output_type": "execute_result"
    }
   ],
   "source": [
    "# 문자 대체하기(replace)\n",
    "df['subscriber'].str.replace('만', '0000')[0:10] # 문자 '만'을 '0000'으로 변경"
   ]
  },
  {
   "cell_type": "code",
   "execution_count": 98,
   "id": "d5946720",
   "metadata": {},
   "outputs": [
    {
     "name": "stdout",
     "output_type": "stream",
     "text": [
      "<class 'pandas.core.frame.DataFrame'>\n",
      "RangeIndex: 1000 entries, 0 to 999\n",
      "Data columns (total 6 columns):\n",
      " #   Column               Non-Null Count  Dtype \n",
      "---  ------               --------------  ----- \n",
      " 0   title                1000 non-null   object\n",
      " 1   category             1000 non-null   object\n",
      " 2   subscriber           1000 non-null   object\n",
      " 3   view                 1000 non-null   object\n",
      " 4   video                1000 non-null   object\n",
      " 5   replaced_subscriber  1000 non-null   object\n",
      "dtypes: object(6)\n",
      "memory usage: 47.0+ KB\n"
     ]
    }
   ],
   "source": [
    "df['replaced_subscriber'] = df['subscriber'].str.replace('만', '0000')\n",
    "df.info()"
   ]
  },
  {
   "cell_type": "code",
   "execution_count": 99,
   "id": "1db734e2",
   "metadata": {},
   "outputs": [
    {
     "name": "stdout",
     "output_type": "stream",
     "text": [
      "<class 'pandas.core.frame.DataFrame'>\n",
      "RangeIndex: 1000 entries, 0 to 999\n",
      "Data columns (total 6 columns):\n",
      " #   Column               Non-Null Count  Dtype \n",
      "---  ------               --------------  ----- \n",
      " 0   title                1000 non-null   object\n",
      " 1   category             1000 non-null   object\n",
      " 2   subscriber           1000 non-null   object\n",
      " 3   view                 1000 non-null   object\n",
      " 4   video                1000 non-null   object\n",
      " 5   replaced_subscriber  1000 non-null   int32 \n",
      "dtypes: int32(1), object(5)\n",
      "memory usage: 43.1+ KB\n"
     ]
    }
   ],
   "source": [
    "# Serier 데이터 타입 변환하기(astype)\n",
    "df['replaced_subscriber'] = df['replaced_subscriber'].astype('int')\n",
    "df.info()"
   ]
  },
  {
   "cell_type": "markdown",
   "id": "85103ad7",
   "metadata": {},
   "source": [
    "#### 카테고리별 구독자 수, 채널 수 피봇 테이블 생성하기"
   ]
  },
  {
   "cell_type": "code",
   "execution_count": 100,
   "id": "2af187a9",
   "metadata": {},
   "outputs": [
    {
     "data": {
      "text/html": [
       "<div>\n",
       "<style scoped>\n",
       "    .dataframe tbody tr th:only-of-type {\n",
       "        vertical-align: middle;\n",
       "    }\n",
       "\n",
       "    .dataframe tbody tr th {\n",
       "        vertical-align: top;\n",
       "    }\n",
       "\n",
       "    .dataframe thead tr th {\n",
       "        text-align: left;\n",
       "    }\n",
       "\n",
       "    .dataframe thead tr:last-of-type th {\n",
       "        text-align: right;\n",
       "    }\n",
       "</style>\n",
       "<table border=\"1\" class=\"dataframe\">\n",
       "  <thead>\n",
       "    <tr>\n",
       "      <th></th>\n",
       "      <th>sum</th>\n",
       "      <th>count</th>\n",
       "    </tr>\n",
       "    <tr>\n",
       "      <th></th>\n",
       "      <th>replaced_subscriber</th>\n",
       "      <th>replaced_subscriber</th>\n",
       "    </tr>\n",
       "    <tr>\n",
       "      <th>category</th>\n",
       "      <th></th>\n",
       "      <th></th>\n",
       "    </tr>\n",
       "  </thead>\n",
       "  <tbody>\n",
       "    <tr>\n",
       "      <th>[BJ/인물/연예인]</th>\n",
       "      <td>93020000</td>\n",
       "      <td>65</td>\n",
       "    </tr>\n",
       "    <tr>\n",
       "      <th>[IT/기술/컴퓨터]</th>\n",
       "      <td>8410000</td>\n",
       "      <td>8</td>\n",
       "    </tr>\n",
       "    <tr>\n",
       "      <th>[TV/방송]</th>\n",
       "      <td>242000000</td>\n",
       "      <td>144</td>\n",
       "    </tr>\n",
       "    <tr>\n",
       "      <th>[게임]</th>\n",
       "      <td>71030000</td>\n",
       "      <td>70</td>\n",
       "    </tr>\n",
       "    <tr>\n",
       "      <th>[교육/강의]</th>\n",
       "      <td>24780000</td>\n",
       "      <td>22</td>\n",
       "    </tr>\n",
       "  </tbody>\n",
       "</table>\n",
       "</div>"
      ],
      "text/plain": [
       "                            sum               count\n",
       "            replaced_subscriber replaced_subscriber\n",
       "category                                           \n",
       "[BJ/인물/연예인]            93020000                  65\n",
       "[IT/기술/컴퓨터]             8410000                   8\n",
       "[TV/방송]               242000000                 144\n",
       "[게임]                   71030000                  70\n",
       "[교육/강의]                24780000                  22"
      ]
     },
     "execution_count": 100,
     "metadata": {},
     "output_type": "execute_result"
    }
   ],
   "source": [
    "pivot_df = df.pivot_table(index = 'category', values = 'replaced_subscriber', aggfunc = ['sum','count'])\n",
    "pivot_df.head()"
   ]
  },
  {
   "cell_type": "code",
   "execution_count": 101,
   "id": "ed4c667a",
   "metadata": {},
   "outputs": [
    {
     "data": {
      "text/html": [
       "<div>\n",
       "<style scoped>\n",
       "    .dataframe tbody tr th:only-of-type {\n",
       "        vertical-align: middle;\n",
       "    }\n",
       "\n",
       "    .dataframe tbody tr th {\n",
       "        vertical-align: top;\n",
       "    }\n",
       "\n",
       "    .dataframe thead th {\n",
       "        text-align: right;\n",
       "    }\n",
       "</style>\n",
       "<table border=\"1\" class=\"dataframe\">\n",
       "  <thead>\n",
       "    <tr style=\"text-align: right;\">\n",
       "      <th></th>\n",
       "      <th>subscriber_sum</th>\n",
       "      <th>category_count</th>\n",
       "    </tr>\n",
       "    <tr>\n",
       "      <th>category</th>\n",
       "      <th></th>\n",
       "      <th></th>\n",
       "    </tr>\n",
       "  </thead>\n",
       "  <tbody>\n",
       "    <tr>\n",
       "      <th>[BJ/인물/연예인]</th>\n",
       "      <td>93020000</td>\n",
       "      <td>65</td>\n",
       "    </tr>\n",
       "    <tr>\n",
       "      <th>[IT/기술/컴퓨터]</th>\n",
       "      <td>8410000</td>\n",
       "      <td>8</td>\n",
       "    </tr>\n",
       "    <tr>\n",
       "      <th>[TV/방송]</th>\n",
       "      <td>242000000</td>\n",
       "      <td>144</td>\n",
       "    </tr>\n",
       "    <tr>\n",
       "      <th>[게임]</th>\n",
       "      <td>71030000</td>\n",
       "      <td>70</td>\n",
       "    </tr>\n",
       "    <tr>\n",
       "      <th>[교육/강의]</th>\n",
       "      <td>24780000</td>\n",
       "      <td>22</td>\n",
       "    </tr>\n",
       "  </tbody>\n",
       "</table>\n",
       "</div>"
      ],
      "text/plain": [
       "             subscriber_sum  category_count\n",
       "category                                   \n",
       "[BJ/인물/연예인]        93020000              65\n",
       "[IT/기술/컴퓨터]         8410000               8\n",
       "[TV/방송]           242000000             144\n",
       "[게임]               71030000              70\n",
       "[교육/강의]            24780000              22"
      ]
     },
     "execution_count": 101,
     "metadata": {},
     "output_type": "execute_result"
    }
   ],
   "source": [
    "# 데이터프레임의 칼럼명 변경하기\n",
    "pivot_df.columns = ['subscriber_sum', 'category_count']\n",
    "pivot_df.head()"
   ]
  },
  {
   "cell_type": "code",
   "execution_count": 102,
   "id": "0ed4fc75",
   "metadata": {},
   "outputs": [
    {
     "data": {
      "text/html": [
       "<div>\n",
       "<style scoped>\n",
       "    .dataframe tbody tr th:only-of-type {\n",
       "        vertical-align: middle;\n",
       "    }\n",
       "\n",
       "    .dataframe tbody tr th {\n",
       "        vertical-align: top;\n",
       "    }\n",
       "\n",
       "    .dataframe thead th {\n",
       "        text-align: right;\n",
       "    }\n",
       "</style>\n",
       "<table border=\"1\" class=\"dataframe\">\n",
       "  <thead>\n",
       "    <tr style=\"text-align: right;\">\n",
       "      <th></th>\n",
       "      <th>category</th>\n",
       "      <th>subscriber_sum</th>\n",
       "      <th>category_count</th>\n",
       "    </tr>\n",
       "  </thead>\n",
       "  <tbody>\n",
       "    <tr>\n",
       "      <th>0</th>\n",
       "      <td>[BJ/인물/연예인]</td>\n",
       "      <td>93020000</td>\n",
       "      <td>65</td>\n",
       "    </tr>\n",
       "    <tr>\n",
       "      <th>1</th>\n",
       "      <td>[IT/기술/컴퓨터]</td>\n",
       "      <td>8410000</td>\n",
       "      <td>8</td>\n",
       "    </tr>\n",
       "    <tr>\n",
       "      <th>2</th>\n",
       "      <td>[TV/방송]</td>\n",
       "      <td>242000000</td>\n",
       "      <td>144</td>\n",
       "    </tr>\n",
       "    <tr>\n",
       "      <th>3</th>\n",
       "      <td>[게임]</td>\n",
       "      <td>71030000</td>\n",
       "      <td>70</td>\n",
       "    </tr>\n",
       "    <tr>\n",
       "      <th>4</th>\n",
       "      <td>[교육/강의]</td>\n",
       "      <td>24780000</td>\n",
       "      <td>22</td>\n",
       "    </tr>\n",
       "  </tbody>\n",
       "</table>\n",
       "</div>"
      ],
      "text/plain": [
       "      category  subscriber_sum  category_count\n",
       "0  [BJ/인물/연예인]        93020000              65\n",
       "1  [IT/기술/컴퓨터]         8410000               8\n",
       "2      [TV/방송]       242000000             144\n",
       "3         [게임]        71030000              70\n",
       "4      [교육/강의]        24780000              22"
      ]
     },
     "execution_count": 102,
     "metadata": {},
     "output_type": "execute_result"
    }
   ],
   "source": [
    "# 데이터프레임의 인덱스 초기화(reset_index)\n",
    "pivot_df = pivot_df.reset_index()\n",
    "pivot_df.head()"
   ]
  },
  {
   "cell_type": "code",
   "execution_count": 105,
   "id": "764368c4",
   "metadata": {},
   "outputs": [
    {
     "data": {
      "text/html": [
       "<div>\n",
       "<style scoped>\n",
       "    .dataframe tbody tr th:only-of-type {\n",
       "        vertical-align: middle;\n",
       "    }\n",
       "\n",
       "    .dataframe tbody tr th {\n",
       "        vertical-align: top;\n",
       "    }\n",
       "\n",
       "    .dataframe thead th {\n",
       "        text-align: right;\n",
       "    }\n",
       "</style>\n",
       "<table border=\"1\" class=\"dataframe\">\n",
       "  <thead>\n",
       "    <tr style=\"text-align: right;\">\n",
       "      <th></th>\n",
       "      <th>category</th>\n",
       "      <th>subscriber_sum</th>\n",
       "      <th>category_count</th>\n",
       "    </tr>\n",
       "  </thead>\n",
       "  <tbody>\n",
       "    <tr>\n",
       "      <th>12</th>\n",
       "      <td>[음악/댄스/가수]</td>\n",
       "      <td>716420000</td>\n",
       "      <td>172</td>\n",
       "    </tr>\n",
       "    <tr>\n",
       "      <th>17</th>\n",
       "      <td>[키즈/어린이]</td>\n",
       "      <td>271000000</td>\n",
       "      <td>89</td>\n",
       "    </tr>\n",
       "    <tr>\n",
       "      <th>2</th>\n",
       "      <td>[TV/방송]</td>\n",
       "      <td>242000000</td>\n",
       "      <td>144</td>\n",
       "    </tr>\n",
       "    <tr>\n",
       "      <th>11</th>\n",
       "      <td>[음식/요리/레시피]</td>\n",
       "      <td>185480000</td>\n",
       "      <td>83</td>\n",
       "    </tr>\n",
       "    <tr>\n",
       "      <th>7</th>\n",
       "      <td>[미분류]</td>\n",
       "      <td>134340000</td>\n",
       "      <td>127</td>\n",
       "    </tr>\n",
       "  </tbody>\n",
       "</table>\n",
       "</div>"
      ],
      "text/plain": [
       "       category  subscriber_sum  category_count\n",
       "12   [음악/댄스/가수]       716420000             172\n",
       "17     [키즈/어린이]       271000000              89\n",
       "2       [TV/방송]       242000000             144\n",
       "11  [음식/요리/레시피]       185480000              83\n",
       "7         [미분류]       134340000             127"
      ]
     },
     "execution_count": 105,
     "metadata": {},
     "output_type": "execute_result"
    }
   ],
   "source": [
    "# 내림차순 정렬하기(sort_values)\n",
    "pivot_df = pivot_df.sort_values(by = 'subscriber_sum', ascending=False)\n",
    "pivot_df.head()"
   ]
  },
  {
   "cell_type": "markdown",
   "id": "e5caf7fe",
   "metadata": {},
   "source": [
    "#### 카테고리별 구독자 수 시각화하기\n",
    "유튜브 시청자들이 주로 어떤 카테고리에 관심이 많은가?"
   ]
  },
  {
   "cell_type": "code",
   "execution_count": 108,
   "id": "e6273bc2",
   "metadata": {
    "scrolled": true
   },
   "outputs": [
    {
     "data": {
      "image/png": "[encoded data removed]",
      "text/plain": [
       "<Figure size 2160x720 with 1 Axes>"
      ]
     },
     "metadata": {},
     "output_type": "display_data"
    }
   ],
   "source": [
    "# x축, y축 크기 설정\n",
    "plt.figure(figsize = (30,10))\n",
    "# 첫번째 인자: 수치값, 두번째 인자: 각 항목에 표시할 명칭, 세번째 인자: 소수점 한 자리까지 표시\n",
    "plt.pie(pivot_df['subscriber_sum'], labels=pivot_df['category'], autopct='%1.1f%%')\n",
    "plt.show()"
   ]
  },
  {
   "cell_type": "markdown",
   "id": "a47294c8",
   "metadata": {},
   "source": [
    "#### 카테고리별 채널 수 시각화하기\n",
    "어떤 카테고리의 채널 수가 많고 적은가?"
   ]
  },
  {
   "cell_type": "code",
   "execution_count": 109,
   "id": "9ad335ce",
   "metadata": {},
   "outputs": [
    {
     "data": {
      "image/png": "[encoded data removed]",
      "text/plain": [
       "<Figure size 2160x720 with 1 Axes>"
      ]
     },
     "metadata": {},
     "output_type": "display_data"
    }
   ],
   "source": [
    "pivot_df = pivot_df.sort_values(by='category_count', ascending=False)\n",
    "pivot_df.head()\n",
    "plt.figure(figsize = (30,10))\n",
    "plt.pie(pivot_df['category_count'], labels=pivot_df['category'], autopct='%1.1f%%')\n",
    "plt.show()"
   ]
  },
  {
   "cell_type": "markdown",
   "id": "7caa542e",
   "metadata": {},
   "source": []
  }
 ],
 "metadata": {
  "kernelspec": {
   "display_name": "Python 3 (ipykernel)",
   "language": "python",
   "name": "python3"
  },
  "language_info": {
   "codemirror_mode": {
    "name": "ipython",
    "version": 3
   },
   "file_extension": ".py",
   "mimetype": "text/x-python",
   "name": "python",
   "nbconvert_exporter": "python",
   "pygments_lexer": "ipython3",
   "version": "3.8.12"
  },
  "toc": {
   "base_numbering": 1,
   "nav_menu": {},
   "number_sections": true,
   "sideBar": true,
   "skip_h1_title": false,
   "title_cell": "Table of Contents",
   "title_sidebar": "Contents",
   "toc_cell": false,
   "toc_position": {},
   "toc_section_display": true,
   "toc_window_display": false
  },
  "varInspector": {
   "cols": {
    "lenName": 16,
    "lenType": 16,
    "lenVar": 40
   },
   "kernels_config": {
    "python": {
     "delete_cmd_postfix": "",
     "delete_cmd_prefix": "del ",
     "library": "var_list.py",
     "varRefreshCmd": "print(var_dic_list())"
    },
    "r": {
     "delete_cmd_postfix": ") ",
     "delete_cmd_prefix": "rm(",
     "library": "var_list.r",
     "varRefreshCmd": "cat(var_dic_list()) "
    }
   },
   "types_to_exclude": [
    "module",
    "function",
    "builtin_function_or_method",
    "instance",
    "_Feature"
   ],
   "window_display": false
  }
 },
 "nbformat": 4,
 "nbformat_minor": 5
}
